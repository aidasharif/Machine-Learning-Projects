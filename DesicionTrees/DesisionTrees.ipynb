{
 "cells": [
  {
   "cell_type": "markdown",
   "metadata": {},
   "source": [
    "# \n",
    "\n",
    "****\n",
    "\n",
    " ```\n",
    "  #BEGIN YOUR CODE\n",
    "  raise NotImplementedError.new()\n",
    "  #END YOUR CODE\n",
    " ```\n",
    "\n",
    "1. Testing my solution by running the cells following your block (indicated by ##TEST##)\n",
    "",
    "\n",
    "**Notes**\n",
    "\n",
    "---"
   ]
  },
  {
   "cell_type": "code",
   "execution_count": null,
   "metadata": {},
   "outputs": [],
   "source": []
  },
  {
   "cell_type": "markdown",
   "metadata": {
    "deletable": false,
    "editable": false,
    "nbgrader": {
     "cell_type": "markdown",
     "checksum": "eb0bd961a0f8b41794beae97a6feace3",
     "grade": false,
     "grade_id": "cell-c71b77d5949e364b",
     "locked": true,
     "schema_version": 3,
     "solution": false
    }
   },
   "source": [
    "#Decision Trees\n",
    "\n",
    "---\n",
    "** Setup **"
   ]
  },
  {
   "cell_type": "code",
   "execution_count": 1,
   "metadata": {
    "deletable": false,
    "editable": false,
    "nbgrader": {
     "cell_type": "code",
     "checksum": "d8fcac9d37dbc0b4c7596069c64ae8cc",
     "grade": false,
     "grade_id": "cell-87cf172891f05123",
     "locked": true,
     "schema_version": 3,
     "solution": false
    }
   },
   "outputs": [
    {
     "data": {
      "application/javascript": [
       "if(window['d3'] === undefined ||\n",
       "   window['Nyaplot'] === undefined){\n",
       "    var path = {\"d3\":\"https://cdnjs.cloudflare.com/ajax/libs/d3/3.5.5/d3.min\",\"downloadable\":\"http://cdn.rawgit.com/domitry/d3-downloadable/master/d3-downloadable\"};\n",
       "\n",
       "\n",
       "\n",
       "    var shim = {\"d3\":{\"exports\":\"d3\"},\"downloadable\":{\"exports\":\"downloadable\"}};\n",
       "\n",
       "    require.config({paths: path, shim:shim});\n",
       "\n",
       "\n",
       "require(['d3'], function(d3){window['d3']=d3;console.log('finished loading d3');require(['downloadable'], function(downloadable){window['downloadable']=downloadable;console.log('finished loading downloadable');\n",
       "\n",
       "\tvar script = d3.select(\"head\")\n",
       "\t    .append(\"script\")\n",
       "\t    .attr(\"src\", \"http://cdn.rawgit.com/domitry/Nyaplotjs/master/release/nyaplot.js\")\n",
       "\t    .attr(\"async\", true);\n",
       "\n",
       "\tscript[0][0].onload = script[0][0].onreadystatechange = function(){\n",
       "\n",
       "\n",
       "\t    var event = document.createEvent(\"HTMLEvents\");\n",
       "\t    event.initEvent(\"load_nyaplot\",false,false);\n",
       "\t    window.dispatchEvent(event);\n",
       "\t    console.log('Finished loading Nyaplotjs');\n",
       "\n",
       "\t};\n",
       "\n",
       "\n",
       "});});\n",
       "}\n"
      ],
      "text/plain": [
       "\"if(window['d3'] === undefined ||\\n   window['Nyaplot'] === undefined){\\n    var path = {\\\"d3\\\":\\\"https://cdnjs.cloudflare.com/ajax/libs/d3/3.5.5/d3.min\\\",\\\"downloadable\\\":\\\"http://cdn.rawgit.com/domitry/d3-downloadable/master/d3-downloadable\\\"};\\n\\n\\n\\n    var shim = {\\\"d3\\\":{\\\"exports\\\":\\\"d3\\\"},\\\"downloadable\\\":{\\\"exports\\\":\\\"downloadable\\\"}};\\n\\n    require.config({paths: path, shim:shim});\\n\\n\\nrequire(['d3'], function(d3){window['d3']=d3;console.log('finished loading d3');require(['downloadable'], function(downloadable){window['downloadable']=downloadable;console.log('finished loading downloadable');\\n\\n\\tvar script = d3.select(\\\"head\\\")\\n\\t    .append(\\\"script\\\")\\n\\t    .attr(\\\"src\\\", \\\"http://cdn.rawgit.com/domitry/Nyaplotjs/master/release/nyaplot.js\\\")\\n\\t    .attr(\\\"async\\\", true);\\n\\n\\tscript[0][0].onload = script[0][0].onreadystatechange = function(){\\n\\n\\n\\t    var event = document.createEvent(\\\"HTMLEvents\\\");\\n\\t    event.initEvent(\\\"load_nyaplot\\\",false,false);\\n\\t    window.dispatchEvent(event);\\n\\t    console.log('Finished loading Nyaplotjs');\\n\\n\\t};\\n\\n\\n});});\\n}\\n\""
      ]
     },
     "metadata": {},
     "output_type": "display_data"
    },
    {
     "data": {
      "text/plain": [
       ":read_sparse_data_from_csv"
      ]
     },
     "execution_count": 1,
     "metadata": {},
     "output_type": "execute_result"
    }
   ],
   "source": [
    "require 'test/unit/assertions'\n",
    "require 'daru'\n",
    "require 'distribution'\n",
    "require 'json'\n",
    "\n",
    "include Test::Unit::Assertions\n",
    "\n",
    "## Loads data files\n",
    "def read_sparse_data_from_csv prefix\n",
    "  data = []\n",
    "  classes = Hash.new {|h,k| h[k] = 0}\n",
    "  header = File.read(prefix + \".header\").chomp.split(\",\")  \n",
    "  \n",
    "  File.open(prefix + \".csv\").each_line.with_index do |l, i|\n",
    "    a = l.chomp.split \",\"\n",
    "    next if a.empty?\n",
    "    row = {\"features\" => Hash.new}\n",
    "    \n",
    "    header.each.with_index do |k, i|\n",
    "      v = a[i].to_f\n",
    "      if k == \"label\"\n",
    "        row[\"label\"] = v.to_i\n",
    "      else\n",
    "        next if v.zero?\n",
    "        row[\"features\"][k] = v\n",
    "      end\n",
    "    end\n",
    "    classes[row[\"label\"]] += 1\n",
    "    \n",
    "    data << row\n",
    "  end\n",
    "  return {\"classes\" => classes, \"features\" => header[0,header.size - 1], \"data\" => data}\n",
    "end"
   ]
  },
  {
   "cell_type": "code",
   "execution_count": 2,
   "metadata": {
    "deletable": false,
    "editable": false,
    "nbgrader": {
     "cell_type": "code",
     "checksum": "571b82826ad68ecd7a0f71bfd3f8cf33",
     "grade": false,
     "grade_id": "cell-9331c98af773eba1",
     "locked": true,
     "schema_version": 3,
     "solution": false
    }
   },
   "outputs": [
    {
     "data": {
      "text/plain": [
       "[{\"features\"=>{\"sepal_length\"=>7.0, \"sepal_width\"=>3.2, \"petal_length\"=>4.7, \"petal_width\"=>1.4}, \"label\"=>1}, {\"features\"=>{\"sepal_length\"=>5.7, \"sepal_width\"=>3.0, \"petal_length\"=>4.2, \"petal_width\"=>1.2}, \"label\"=>1}]"
      ]
     },
     "execution_count": 2,
     "metadata": {},
     "output_type": "execute_result"
    }
   ],
   "source": [
    "#Preview 2 lines from the Iris dataset\n",
    "iris = read_sparse_data_from_csv \"iris\"\n",
    "iris[\"data\"][0,2]"
   ]
  },
  {
   "cell_type": "code",
   "execution_count": 3,
   "metadata": {
    "deletable": false,
    "editable": false,
    "nbgrader": {
     "cell_type": "code",
     "checksum": "a779203db3d892700e418595644832db",
     "grade": false,
     "grade_id": "cell-fde7898c1d8c4ad9",
     "locked": true,
     "schema_version": 3,
     "solution": false
    }
   },
   "outputs": [
    {
     "data": {
      "text/plain": [
       "[{\"features\"=>{\"word_freq_our\"=>0.27, \"word_freq_mail\"=>0.83, \"word_freq_you\"=>0.27, \"word_freq_your\"=>0.27, \"word_freq_font\"=>8.58, \"char_freq_[\"=>0.092, \"char_freq_$\"=>0.185, \"char_freq_#\"=>0.232, \"capital_run_length_average\"=>7.313, \"capital_run_length_longest\"=>99.0, \"capital_run_length_total\"=>607.0}, \"label\"=>1}, {\"features\"=>{\"word_freq_your\"=>0.9, \"word_freq_george\"=>0.9, \"word_freq_data\"=>0.9, \"char_freq_[\"=>0.14, \"capital_run_length_average\"=>3.472, \"capital_run_length_longest\"=>28.0, \"capital_run_length_total\"=>125.0}, \"label\"=>0}]"
      ]
     },
     "execution_count": 3,
     "metadata": {},
     "output_type": "execute_result"
    }
   ],
   "source": [
    "#Preview 2 lines from the Spambase dataset\n",
    "spambase = read_sparse_data_from_csv \"spambase\"\n",
    "spambase[\"data\"][0,2]"
   ]
  },
  {
   "cell_type": "markdown",
   "metadata": {
    "deletable": false,
    "editable": false,
    "nbgrader": {
     "cell_type": "markdown",
     "checksum": "df95999ed7137938ffe299bf72b041d2",
     "grade": false,
     "grade_id": "cell-a4bf7d3691f65b1d",
     "locked": true,
     "schema_version": 3,
     "solution": false
    }
   },
   "source": [
    "---\n",
    "## Question 1.1 (10 Points)\n",
    "Write a function that calculates the class distribution, $p(c)$, for all classes $c$ for a dataset. "
   ]
  },
  {
   "cell_type": "code",
   "execution_count": 4,
   "metadata": {
    "deletable": false,
    "nbgrader": {
     "cell_type": "code",
     "checksum": "a608324a45af947d974127e7f1c66a70",
     "grade": false,
     "grade_id": "cell-f722cb7c1c26d6af",
     "locked": false,
     "schema_version": 3,
     "solution": true
    }
   },
   "outputs": [
    {
     "data": {
      "text/plain": [
       ":class_distribution"
      ]
     },
     "execution_count": 4,
     "metadata": {},
     "output_type": "execute_result"
    }
   ],
   "source": [
    "def class_distribution dataset\n",
    "  classes = Hash.new {|h,k| h[k] = 0}\n",
    "  dataset.each do |key,array|\n",
    "    classes[key[\"label\"]]=1+classes[key[\"label\"]]\n",
    "  end\n",
    "  \n",
    "  result={}\n",
    "  classes.each do |key,array|\n",
    "    result[key]=array.to_f/dataset.size.to_f\n",
    "  end\n",
    "  \n",
    "  return result\n",
    "end"
   ]
  },
  {
   "cell_type": "code",
   "execution_count": 5,
   "metadata": {
    "deletable": false,
    "editable": false,
    "nbgrader": {
     "cell_type": "code",
     "checksum": "0568b317183e3cc9cdbe9557611b7a5b",
     "grade": true,
     "grade_id": "cell-7effedd229c86a49",
     "locked": true,
     "points": 2.5,
     "schema_version": 3,
     "solution": false
    }
   },
   "outputs": [],
   "source": [
    "### TESTS ###\n",
    "# Check that there are three classes\n",
    "t1_iris_dist = class_distribution iris[\"data\"]\n",
    "t1_iris_num_classes = 3\n",
    "assert_equal(t1_iris_num_classes, t1_iris_dist.size)"
   ]
  },
  {
   "cell_type": "code",
   "execution_count": 6,
   "metadata": {
    "deletable": false,
    "editable": false,
    "nbgrader": {
     "cell_type": "code",
     "checksum": "54720f3ea15570e4feda9d2fb216a43e",
     "grade": true,
     "grade_id": "cell-68f03a4c2c4b24e9",
     "locked": true,
     "points": 2.5,
     "schema_version": 3,
     "solution": false
    }
   },
   "outputs": [],
   "source": [
    "### TESTS ###\n",
    "# Check that each class has a probability 1/3\n",
    "t1_iris_dist = class_distribution iris[\"data\"]\n",
    "t1_iris_num_classes = 3\n",
    "n = t1_iris_num_classes.times do |cls|\n",
    "  assert_in_delta t1_iris_dist[cls], 0.33333, 1e-4\n",
    "end\n",
    "assert_equal t1_iris_num_classes, n"
   ]
  },
  {
   "cell_type": "code",
   "execution_count": 7,
   "metadata": {
    "deletable": false,
    "editable": false,
    "nbgrader": {
     "cell_type": "code",
     "checksum": "e6de324d70e3bc9b54a1c3aec6daf3cc",
     "grade": true,
     "grade_id": "cell-1be06f9c3b477a05",
     "locked": true,
     "points": 2.5,
     "schema_version": 3,
     "solution": false
    }
   },
   "outputs": [],
   "source": [
    "### TESTS ###\n",
    "t1_spambase_dist = class_distribution spambase[\"data\"]\n",
    "t1_spambase_num_classes = 2\n",
    "assert_equal(t1_spambase_num_classes, t1_spambase_dist.size)"
   ]
  },
  {
   "cell_type": "code",
   "execution_count": 8,
   "metadata": {
    "deletable": false,
    "editable": false,
    "nbgrader": {
     "cell_type": "code",
     "checksum": "e7984c9d5a69ff5dea1759d823670bdd",
     "grade": true,
     "grade_id": "cell-8dbceb0d54b0eae3",
     "locked": true,
     "points": 2.5,
     "schema_version": 3,
     "solution": false
    }
   },
   "outputs": [],
   "source": [
    "### TESTS ###\n",
    "t1_spambase_dist = class_distribution spambase[\"data\"]\n",
    "assert_in_delta t1_spambase_dist[0], 0.6, 1e-1\n",
    "assert_in_delta t1_spambase_dist[1], 0.4, 1e-1"
   ]
  },
  {
   "cell_type": "markdown",
   "metadata": {
    "deletable": false,
    "editable": false,
    "nbgrader": {
     "cell_type": "markdown",
     "checksum": "8b87ad6864582ebd1887ac212dbb7d2e",
     "grade": false,
     "grade_id": "cell-106849099cbcbabb",
     "locked": true,
     "schema_version": 3,
     "solution": false
    }
   },
   "source": [
    "## Question 2 (20 Points)\n",
    "using input from a hash table rather than an array. "
   ]
  },
  {
   "cell_type": "code",
   "execution_count": 9,
   "metadata": {
    "deletable": false,
    "nbgrader": {
     "cell_type": "code",
     "checksum": "7c2e736990892c326c902c56c0765171",
     "grade": false,
     "grade_id": "cell-6e4de9e476f135ac",
     "locked": false,
     "schema_version": 3,
     "solution": true
    }
   },
   "outputs": [
    {
     "data": {
      "text/plain": [
       ":entropy"
      ]
     },
     "execution_count": 9,
     "metadata": {},
     "output_type": "execute_result"
    }
   ],
   "source": [
    "def entropy dist\n",
    "\n",
    "  ent=0\n",
    "  dist.each do |key,array|\n",
    "    if array==0\n",
    "      return 0.0\n",
    "    end\n",
    "    ent+=-array*Math.log(array)\n",
    "  end\n",
    "  \n",
    "  ent\n",
    "end"
   ]
  },
  {
   "cell_type": "code",
   "execution_count": 10,
   "metadata": {
    "deletable": false,
    "editable": false,
    "nbgrader": {
     "cell_type": "code",
     "checksum": "342962510e49ae260b7fa1e55f18606f",
     "grade": true,
     "grade_id": "cell-bb1541105b009b87",
     "locked": true,
     "points": 8,
     "schema_version": 3,
     "solution": false
    }
   },
   "outputs": [],
   "source": [
    "### TESTS ###\n",
    "#Checks the class entropy for Iris dataset\n",
    "t2_iris_dist = class_distribution iris[\"data\"]\n",
    "t2_iris_entropy = entropy t2_iris_dist\n",
    "assert_in_delta(1.0986122886681096, t2_iris_entropy, 1e-4)"
   ]
  },
  {
   "cell_type": "code",
   "execution_count": 11,
   "metadata": {
    "deletable": false,
    "editable": false,
    "nbgrader": {
     "cell_type": "code",
     "checksum": "eb42c71b5f52a987f4ed18bbea69094e",
     "grade": true,
     "grade_id": "cell-efab3da77d9538b7",
     "locked": true,
     "points": 6,
     "schema_version": 3,
     "solution": false
    }
   },
   "outputs": [],
   "source": [
    "### TESTS ###\n",
    "#Checks the class entropy for Spambase dataset\n",
    "t2_spambase_dist = class_distribution spambase[\"data\"]\n",
    "t2_spambase_entropy = entropy t2_spambase_dist\n",
    "assert_in_delta(0.6705230209876485, t2_spambase_entropy, 1e-4)"
   ]
  },
  {
   "cell_type": "code",
   "execution_count": 12,
   "metadata": {
    "deletable": false,
    "editable": false,
    "nbgrader": {
     "cell_type": "code",
     "checksum": "9c1846fc4492c5754ee0361972e680db",
     "grade": true,
     "grade_id": "cell-65c1df605b6d0346",
     "locked": true,
     "points": 6,
     "schema_version": 3,
     "solution": false
    }
   },
   "outputs": [],
   "source": [
    "### TESTS ###\n",
    "# Checks that code handles a class with zero members of a class\n",
    "t2_zero_dist = {0 => 0.0, 1 => 107.0}\n",
    "t2_zero_entropy = entropy t2_zero_dist\n",
    "assert_in_delta(0.0, t2_zero_entropy, 1e-4)"
   ]
  },
  {
   "cell_type": "markdown",
   "metadata": {
    "deletable": false,
    "editable": false,
    "nbgrader": {
     "cell_type": "markdown",
     "checksum": "df86c558a9ecf58baf14ad93307fb131",
     "grade": false,
     "grade_id": "cell-6ae8306c874e022a",
     "locked": true,
     "schema_version": 3,
     "solution": false
    }
   },
   "source": [
    "## Question 3.1 (5 points)\n",
    "\n",
    "Implement information gain given an initial entropy $H_0$ and a hash of counts, where the key of each hash is a split criterion and the value is an array of all examples matching the split. Call the ```class_distribution``` and ```entropy``` functions you have defined above.\n",
    "\n",
    "The formula for information gain is as follows:\n",
    "\n",
    "## $IG(Q, V) = H_0 - \\sum_{v\\in V} \\frac{|v|}{|V|} H(c\\mid v) $ "
   ]
  },
  {
   "cell_type": "code",
   "execution_count": 120,
   "metadata": {
    "deletable": false,
    "nbgrader": {
     "cell_type": "code",
     "checksum": "76f2d34a6a765afdf386602ab8028fef",
     "grade": false,
     "grade_id": "cell-0451fe692dd14aa1",
     "locked": false,
     "schema_version": 3,
     "solution": true
    }
   },
   "outputs": [
    {
     "data": {
      "text/plain": [
       ":information_gain"
      ]
     },
     "execution_count": 120,
     "metadata": {},
     "output_type": "execute_result"
    }
   ],
   "source": [
    "def information_gain h0, splits\n",
    "\n",
    "  \n",
    "  size = Hash.new {|h,k| h[k] = 0}\n",
    "  sum = Hash.new {|h,k| h[k] = 0}\n",
    "  total=0\n",
    "  \n",
    "  splits.each do |key, array|\n",
    "    total+=array.size\n",
    "  end\n",
    "  \n",
    "  splits.each do |key, array|\n",
    "    sum[key]+=entropy(class_distribution(array))\n",
    "    size[key]=array.size\n",
    "  end\n",
    "  \n",
    "  result=0\n",
    "  \n",
    "  size.each do |key,array|\n",
    "    size[key]=size[key].to_f/total\n",
    "  end\n",
    "  \n",
    "  splits.each do |key, array|\n",
    "    result+=sum[key]*size[key]\n",
    "  end\n",
    "  \n",
    "  puts h0-result\n",
    "  return h0-result\n",
    "end"
   ]
  },
  {
   "cell_type": "code",
   "execution_count": 121,
   "metadata": {
    "deletable": false,
    "editable": false,
    "nbgrader": {
     "cell_type": "code",
     "checksum": "59f79cec12bc0ffe47358e7048adbb4f",
     "grade": true,
     "grade_id": "cell-32e98e61405c6942",
     "locked": true,
     "points": 5,
     "schema_version": 3,
     "solution": false
    }
   },
   "outputs": [
    {
     "data": {
      "text/plain": [
       "1.0986122886681096"
      ]
     },
     "execution_count": 121,
     "metadata": {},
     "output_type": "execute_result"
    }
   ],
   "source": [
    "### TEST: Random Split ###\n",
    "t3_random_split = iris[\"data\"].group_by {|row| rand > 0.5 ? \"l\" : \"r\"}\n",
    "t3_entropy = entropy(class_distribution(iris[\"data\"]))\n"
   ]
  },
  {
   "cell_type": "code",
   "execution_count": 122,
   "metadata": {},
   "outputs": [
    {
     "name": "stdout",
     "output_type": "stream",
     "text": [
      "0.0016151136677073907\n"
     ]
    },
    {
     "data": {
      "text/plain": [
       "0.0016151136677073907"
      ]
     },
     "execution_count": 122,
     "metadata": {},
     "output_type": "execute_result"
    }
   ],
   "source": [
    "def t3_random_information_gain_spambase\n",
    "  iris = read_sparse_data_from_csv \"iris\"\n",
    "  t3_random_split = iris[\"data\"].group_by {|row| rand > 0.5 ? \"l\" : \"r\"}\n",
    "  t3_entropy = entropy(class_distribution(iris[\"data\"]))\n",
    "  return information_gain t3_entropy, t3_random_split\n",
    "end\n",
    "t3_random_information_gain_spambase"
   ]
  },
  {
   "cell_type": "markdown",
   "metadata": {},
   "source": [
    "## Question 3.2 (5 points)\n",
    "\n",
    "The test above verifies the information gain when the iris data is split with uniform probability. What should the information gain be here if we were to do this for the **spambase** dataset?"
   ]
  },
  {
   "cell_type": "code",
   "execution_count": 123,
   "metadata": {
    "deletable": false,
    "nbgrader": {
     "cell_type": "code",
     "checksum": "dffc31c94a9742b9cdba01863ddf6aee",
     "grade": false,
     "grade_id": "cell-3fcac656f06297da",
     "locked": false,
     "schema_version": 3,
     "solution": true
    }
   },
   "outputs": [
    {
     "data": {
      "text/plain": [
       ":t3_random_information_gain_spambase"
      ]
     },
     "execution_count": 123,
     "metadata": {},
     "output_type": "execute_result"
    }
   ],
   "source": [
    "## Make this function return a constant equal to your answer to the question above.\n",
    "def t3_random_information_gain_spambase\n",
    "  spambase = read_sparse_data_from_csv \"spambase\"\n",
    "  t3_random_split = spambase[\"data\"].group_by {|row| rand > 0.5 ? \"l\" : \"r\"}\n",
    "  t3_entropy = entropy(class_distribution(spambase[\"data\"]))\n",
    "  return information_gain t3_entropy, t3_random_split\n",
    "end"
   ]
  },
  {
   "cell_type": "code",
   "execution_count": 124,
   "metadata": {
    "deletable": false,
    "editable": false,
    "nbgrader": {
     "cell_type": "code",
     "checksum": "bd6c053530e8b2b5c589e0a45253ae9c",
     "grade": true,
     "grade_id": "cell-e8af656744c354c1",
     "locked": true,
     "points": 5,
     "schema_version": 3,
     "solution": false
    }
   },
   "outputs": [
    {
     "name": "stdout",
     "output_type": "stream",
     "text": [
      "0.00035707015949548726\n"
     ]
    }
   ],
   "source": [
    "### TEST (Hidden) ###\n",
    "assert_true(t3_random_information_gain_spambase() >= 0)"
   ]
  },
  {
   "cell_type": "markdown",
   "metadata": {},
   "source": [
    "## Question 3.3 (10 points)\n",
    "\n",
    "The test below verifies the information gain of the iris data when split by class value. What should the information gain be here if we were to do this for the **spambase** dataset?"
   ]
  },
  {
   "cell_type": "code",
   "execution_count": 125,
   "metadata": {
    "deletable": false,
    "editable": false,
    "nbgrader": {
     "cell_type": "code",
     "checksum": "0e3574b49f607b3c36b15064dca818d5",
     "grade": true,
     "grade_id": "cell-70ec0db203c6612e",
     "locked": true,
     "points": 5,
     "schema_version": 3,
     "solution": false
    }
   },
   "outputs": [
    {
     "name": "stdout",
     "output_type": "stream",
     "text": [
      "1.0986122886681096\n"
     ]
    },
    {
     "data": {
      "text/plain": [
       "1.0986122886681096"
      ]
     },
     "execution_count": 125,
     "metadata": {},
     "output_type": "execute_result"
    }
   ],
   "source": [
    "### TEST: Perfect split (by class)\n",
    "t3_perfect_split = iris[\"data\"].group_by {|row| row[\"label\"]}\n",
    "t3_perfect_information_gain = information_gain t3_entropy, t3_perfect_split"
   ]
  },
  {
   "cell_type": "code",
   "execution_count": 126,
   "metadata": {
    "deletable": false,
    "nbgrader": {
     "cell_type": "code",
     "checksum": "d9ffa2c9d5bf8311e982095da0956403",
     "grade": false,
     "grade_id": "cell-9cd1a047a1565d5b",
     "locked": false,
     "schema_version": 3,
     "solution": true
    }
   },
   "outputs": [
    {
     "data": {
      "text/plain": [
       ":t3_perfect_information_gain_spambase"
      ]
     },
     "execution_count": 126,
     "metadata": {},
     "output_type": "execute_result"
    }
   ],
   "source": [
    "## Make this function return a constant equal to your answer to the question above.\n",
    "def t3_perfect_information_gain_spambase\n",
    "  spambase = read_sparse_data_from_csv \"spambase\"\n",
    "  t3_perfect_split = spambase[\"data\"].group_by {|row| row[\"label\"]}\n",
    "  t3_entropy = entropy(class_distribution(spambase[\"data\"]))\n",
    "  return information_gain t3_entropy, t3_perfect_split\n",
    "end"
   ]
  },
  {
   "cell_type": "code",
   "execution_count": 127,
   "metadata": {},
   "outputs": [
    {
     "name": "stdout",
     "output_type": "stream",
     "text": [
      "0.6705230209876485\n"
     ]
    },
    {
     "data": {
      "text/plain": [
       "0.6705230209876485"
      ]
     },
     "execution_count": 127,
     "metadata": {},
     "output_type": "execute_result"
    }
   ],
   "source": [
    " t3_perfect_information_gain_spambase"
   ]
  },
  {
   "cell_type": "code",
   "execution_count": 128,
   "metadata": {
    "deletable": false,
    "editable": false,
    "nbgrader": {
     "cell_type": "code",
     "checksum": "7f8de2739f895f01f4ce1482d456c65c",
     "grade": true,
     "grade_id": "cell-54bcaa821335b592",
     "locked": true,
     "points": 5,
     "schema_version": 3,
     "solution": false
    }
   },
   "outputs": [
    {
     "name": "stdout",
     "output_type": "stream",
     "text": [
      "0.6705230209876485\n"
     ]
    }
   ],
   "source": [
    "### TEST (Hidden) ###\n",
    "\n",
    "assert_true (t3_perfect_information_gain_spambase() > 0) "
   ]
  },
  {
   "cell_type": "markdown",
   "metadata": {},
   "source": [
    "## Question 4 (20 points)\n",
    "Considering the only the figure below, which shows the iris dataset colored by class, what value of petal_length would have the best information gain?"
   ]
  },
  {
   "cell_type": "code",
   "execution_count": 129,
   "metadata": {
    "deletable": false,
    "editable": false,
    "nbgrader": {
     "cell_type": "code",
     "checksum": "13a1a9cd818523f3a64fb3c23cc9730c",
     "grade": false,
     "grade_id": "cell-9412e60dd35d9724",
     "locked": true,
     "schema_version": 3,
     "solution": false
    }
   },
   "outputs": [
    {
     "data": {
      "text/html": [
       "<div id='vis-680750ed-c796-42f7-81db-8294de4c7d81'></div>\n",
       "<script>\n",
       "(function(){\n",
       "    var render = function(){\n",
       "        var model = {\"panes\":[{\"diagrams\":[{\"type\":\"scatter\",\"options\":{\"x\":\"x1\",\"y\":\"x2\",\"title\":1,\"color\":\"rgb(251,180,174)\",\"tooltip_contents\":[1,1,1,1,1,1,1,1,1,1,1,1,1,1,1,1,1,1,1,1,1,1,1,1,1,1,1,1,1,1,1,1,1,1,1,1,1,1,1,1,1,1,1,1,1,1,1,1,1,1]},\"data\":\"4986666f-2b24-4812-b244-6c7f1be74c26\"},{\"type\":\"scatter\",\"options\":{\"x\":\"x1\",\"y\":\"x2\",\"title\":2,\"color\":\"rgb(179,205,227)\",\"tooltip_contents\":[2,2,2,2,2,2,2,2,2,2,2,2,2,2,2,2,2,2,2,2,2,2,2,2,2,2,2,2,2,2,2,2,2,2,2,2,2,2,2,2,2,2,2,2,2,2,2,2,2,2]},\"data\":\"ed4b02d6-3cd0-4bcd-9651-6bd0010b0490\"},{\"type\":\"scatter\",\"options\":{\"x\":\"x1\",\"y\":\"x2\",\"title\":0,\"color\":\"rgb(204,235,197)\",\"tooltip_contents\":[0,0,0,0,0,0,0,0,0,0,0,0,0,0,0,0,0,0,0,0,0,0,0,0,0,0,0,0,0,0,0,0,0,0,0,0,0,0,0,0,0,0,0,0,0,0,0,0,0,0]},\"data\":\"a0a2b94b-7102-4032-b05c-a3b187522b77\"}],\"options\":{\"legend\":true,\"x_label\":\"petal_length\",\"y_label\":\"sepal_width\",\"zoom\":true,\"width\":800,\"xrange\":[1.0,6.9],\"yrange\":[2.0,4.4]}}],\"data\":{\"4986666f-2b24-4812-b244-6c7f1be74c26\":[{\"x1\":4.7,\"x2\":3.2},{\"x1\":4.2,\"x2\":3.0},{\"x1\":3.3,\"x2\":2.3},{\"x1\":3.0,\"x2\":2.5},{\"x1\":4.6,\"x2\":3.0},{\"x1\":4.2,\"x2\":2.7},{\"x1\":4.4,\"x2\":3.1},{\"x1\":4.5,\"x2\":3.0},{\"x1\":4.3,\"x2\":2.9},{\"x1\":3.5,\"x2\":2.0},{\"x1\":4.4,\"x2\":3.0},{\"x1\":4.1,\"x2\":2.8},{\"x1\":5.0,\"x2\":3.0},{\"x1\":4.5,\"x2\":2.8},{\"x1\":4.0,\"x2\":2.5},{\"x1\":4.7,\"x2\":2.9},{\"x1\":4.7,\"x2\":2.8},{\"x1\":4.7,\"x2\":3.1},{\"x1\":4.8,\"x2\":2.8},{\"x1\":4.4,\"x2\":2.6},{\"x1\":4.2,\"x2\":2.9},{\"x1\":4.5,\"x2\":2.2},{\"x1\":3.9,\"x2\":2.5},{\"x1\":4.4,\"x2\":2.3},{\"x1\":4.9,\"x2\":3.1},{\"x1\":3.9,\"x2\":2.7},{\"x1\":4.9,\"x2\":2.5},{\"x1\":4.5,\"x2\":3.4},{\"x1\":4.0,\"x2\":2.3},{\"x1\":4.6,\"x2\":2.8},{\"x1\":5.1,\"x2\":2.7},{\"x1\":4.0,\"x2\":2.2},{\"x1\":3.3,\"x2\":2.4},{\"x1\":3.5,\"x2\":2.6},{\"x1\":4.1,\"x2\":2.7},{\"x1\":4.5,\"x2\":3.0},{\"x1\":3.7,\"x2\":2.4},{\"x1\":4.6,\"x2\":2.9},{\"x1\":4.2,\"x2\":3.0},{\"x1\":4.7,\"x2\":3.3},{\"x1\":3.9,\"x2\":2.7},{\"x1\":4.5,\"x2\":2.9},{\"x1\":3.8,\"x2\":2.4},{\"x1\":4.0,\"x2\":2.8},{\"x1\":4.1,\"x2\":3.0},{\"x1\":4.0,\"x2\":2.6},{\"x1\":3.6,\"x2\":2.9},{\"x1\":4.5,\"x2\":3.2},{\"x1\":4.3,\"x2\":2.9},{\"x1\":4.8,\"x2\":3.2}],\"ed4b02d6-3cd0-4bcd-9651-6bd0010b0490\":[{\"x1\":4.9,\"x2\":2.8},{\"x1\":6.4,\"x2\":3.8},{\"x1\":5.8,\"x2\":2.5},{\"x1\":5.9,\"x2\":3.2},{\"x1\":5.4,\"x2\":3.4},{\"x1\":5.1,\"x2\":2.7},{\"x1\":4.9,\"x2\":2.7},{\"x1\":6.1,\"x2\":3.6},{\"x1\":5.6,\"x2\":2.8},{\"x1\":5.3,\"x2\":3.2},{\"x1\":6.0,\"x2\":3.2},{\"x1\":5.6,\"x2\":2.8},{\"x1\":5.5,\"x2\":3.1},{\"x1\":5.1,\"x2\":2.8},{\"x1\":5.0,\"x2\":2.5},{\"x1\":5.2,\"x2\":3.0},{\"x1\":5.0,\"x2\":2.2},{\"x1\":6.1,\"x2\":2.8},{\"x1\":5.6,\"x2\":3.1},{\"x1\":4.8,\"x2\":2.8},{\"x1\":6.3,\"x2\":2.9},{\"x1\":4.8,\"x2\":3.0},{\"x1\":5.8,\"x2\":3.0},{\"x1\":5.6,\"x2\":2.9},{\"x1\":5.4,\"x2\":3.1},{\"x1\":6.0,\"x2\":3.3},{\"x1\":5.1,\"x2\":3.2},{\"x1\":5.1,\"x2\":3.1},{\"x1\":5.1,\"x2\":2.8},{\"x1\":6.6,\"x2\":3.0},{\"x1\":5.0,\"x2\":2.5},{\"x1\":6.9,\"x2\":2.6},{\"x1\":6.7,\"x2\":3.8},{\"x1\":6.7,\"x2\":2.8},{\"x1\":5.3,\"x2\":2.7},{\"x1\":5.2,\"x2\":3.0},{\"x1\":5.7,\"x2\":3.3},{\"x1\":5.7,\"x2\":3.2},{\"x1\":5.9,\"x2\":3.0},{\"x1\":5.6,\"x2\":3.4},{\"x1\":5.5,\"x2\":3.0},{\"x1\":5.1,\"x2\":3.0},{\"x1\":5.5,\"x2\":3.0},{\"x1\":5.7,\"x2\":3.3},{\"x1\":4.9,\"x2\":3.0},{\"x1\":6.1,\"x2\":3.0},{\"x1\":4.5,\"x2\":2.5},{\"x1\":5.1,\"x2\":2.7},{\"x1\":5.8,\"x2\":3.0},{\"x1\":5.6,\"x2\":2.6}],\"a0a2b94b-7102-4032-b05c-a3b187522b77\":[{\"x1\":1.6,\"x2\":3.1},{\"x1\":1.5,\"x2\":3.5},{\"x1\":1.5,\"x2\":3.4},{\"x1\":1.0,\"x2\":3.6},{\"x1\":1.3,\"x2\":3.5},{\"x1\":1.5,\"x2\":3.1},{\"x1\":1.5,\"x2\":3.7},{\"x1\":1.5,\"x2\":3.1},{\"x1\":1.5,\"x2\":3.4},{\"x1\":1.4,\"x2\":3.3},{\"x1\":1.4,\"x2\":3.4},{\"x1\":1.6,\"x2\":3.0},{\"x1\":1.6,\"x2\":3.2},{\"x1\":1.5,\"x2\":3.7},{\"x1\":1.4,\"x2\":3.0},{\"x1\":1.7,\"x2\":3.3},{\"x1\":1.3,\"x2\":3.9},{\"x1\":1.4,\"x2\":3.5},{\"x1\":1.9,\"x2\":3.8},{\"x1\":1.6,\"x2\":3.8},{\"x1\":1.4,\"x2\":2.9},{\"x1\":1.6,\"x2\":3.4},{\"x1\":1.7,\"x2\":3.9},{\"x1\":1.9,\"x2\":3.4},{\"x1\":1.3,\"x2\":3.0},{\"x1\":1.5,\"x2\":4.4},{\"x1\":1.6,\"x2\":3.4},{\"x1\":1.4,\"x2\":3.0},{\"x1\":1.6,\"x2\":3.5},{\"x1\":1.4,\"x2\":3.0},{\"x1\":1.5,\"x2\":3.7},{\"x1\":1.5,\"x2\":4.1},{\"x1\":1.5,\"x2\":3.1},{\"x1\":1.3,\"x2\":3.2},{\"x1\":1.1,\"x2\":3.0},{\"x1\":1.3,\"x2\":2.3},{\"x1\":1.4,\"x2\":4.2},{\"x1\":1.3,\"x2\":3.5},{\"x1\":1.7,\"x2\":3.8},{\"x1\":1.4,\"x2\":3.4},{\"x1\":1.4,\"x2\":3.6},{\"x1\":1.5,\"x2\":3.1},{\"x1\":1.3,\"x2\":3.2},{\"x1\":1.2,\"x2\":3.2},{\"x1\":1.4,\"x2\":3.2},{\"x1\":1.7,\"x2\":3.4},{\"x1\":1.2,\"x2\":4.0},{\"x1\":1.5,\"x2\":3.4},{\"x1\":1.5,\"x2\":3.8},{\"x1\":1.4,\"x2\":3.5}]},\"extension\":[]}\n",
       "        var id_name = '#vis-680750ed-c796-42f7-81db-8294de4c7d81';\n",
       "        Nyaplot.core.parse(model, id_name);\n",
       "\n",
       "        require(['downloadable'], function(downloadable){\n",
       "          var svg = d3.select(id_name).select(\"svg\");\n",
       "\t  if(!svg.empty())\n",
       "\t    svg.call(downloadable().filename('fig'));\n",
       "\t});\n",
       "    };\n",
       "    if(window['Nyaplot']==undefined){\n",
       "        window.addEventListener('load_nyaplot', render, false);\n",
       "\treturn;\n",
       "    } else {\n",
       "       render();\n",
       "    }\n",
       "})();\n",
       "</script>\n"
      ],
      "text/plain": [
       "#<Nyaplot::Plot:0x0000000004564ba0 @properties={:diagrams=>[#<Nyaplot::Diagram:0x0000000004514588 @properties={:type=>:scatter, :options=>{:x=>:x1, :y=>:x2, :title=>1, :color=>\"rgb(251,180,174)\", :tooltip_contents=>[1, 1, 1, 1, 1, 1, 1, 1, 1, 1, 1, 1, 1, 1, 1, 1, 1, 1, 1, 1, 1, 1, 1, 1, 1, 1, 1, 1, 1, 1, 1, 1, 1, 1, 1, 1, 1, 1, 1, 1, 1, 1, 1, 1, 1, 1, 1, 1, 1, 1]}, :data=>\"4986666f-2b24-4812-b244-6c7f1be74c26\"}, @xrange=[3.0, 5.1], @yrange=[2.0, 3.4]>, #<Nyaplot::Diagram:0x00000000044cf6e0 @properties={:type=>:scatter, :options=>{:x=>:x1, :y=>:x2, :title=>2, :color=>\"rgb(179,205,227)\", :tooltip_contents=>[2, 2, 2, 2, 2, 2, 2, 2, 2, 2, 2, 2, 2, 2, 2, 2, 2, 2, 2, 2, 2, 2, 2, 2, 2, 2, 2, 2, 2, 2, 2, 2, 2, 2, 2, 2, 2, 2, 2, 2, 2, 2, 2, 2, 2, 2, 2, 2, 2, 2]}, :data=>\"ed4b02d6-3cd0-4bcd-9651-6bd0010b0490\"}, @xrange=[4.5, 6.9], @yrange=[2.2, 3.8]>, #<Nyaplot::Diagram:0x0000000004481eb8 @properties={:type=>:scatter, :options=>{:x=>:x1, :y=>:x2, :title=>0, :color=>\"rgb(204,235,197)\", :tooltip_contents=>[0, 0, 0, 0, 0, 0, 0, 0, 0, 0, 0, 0, 0, 0, 0, 0, 0, 0, 0, 0, 0, 0, 0, 0, 0, 0, 0, 0, 0, 0, 0, 0, 0, 0, 0, 0, 0, 0, 0, 0, 0, 0, 0, 0, 0, 0, 0, 0, 0, 0]}, :data=>\"a0a2b94b-7102-4032-b05c-a3b187522b77\"}, @xrange=[1.0, 1.9], @yrange=[2.3, 4.4]>], :options=>{:legend=>true, :x_label=>\"petal_length\", :y_label=>\"sepal_width\", :zoom=>true, :width=>800, :xrange=>[1.0, 6.9], :yrange=>[2.0, 4.4]}}>"
      ]
     },
     "execution_count": 129,
     "metadata": {},
     "output_type": "execute_result"
    }
   ],
   "source": [
    "d = iris[\"data\"]\n",
    "df = Daru::DataFrame.new({\n",
    "  x1: d.collect{|r| r[\"features\"][\"petal_length\"]}, \n",
    "  x2: d.collect{|r| r[\"features\"][\"sepal_width\"]}, \n",
    "  label: d.collect{|r| r[\"label\"]}\n",
    "}).to_category(:label).plot(type: :scatter, x: :x1, y: :x2, categorized: {by: :label, method: :color}) do |plot, diagram|\n",
    "  plot.x_label iris[\"features\"][2]\n",
    "  plot.y_label iris[\"features\"][1]\n",
    "  plot.legend true\n",
    "end"
   ]
  },
  {
   "cell_type": "code",
   "execution_count": 130,
   "metadata": {
    "deletable": false,
    "nbgrader": {
     "cell_type": "code",
     "checksum": "117e7fa3accc6bfb6986392d0c0ca5cd",
     "grade": false,
     "grade_id": "cell-53b59f7169d52516",
     "locked": false,
     "schema_version": 3,
     "solution": true
    }
   },
   "outputs": [
    {
     "data": {
      "text/plain": [
       ":t4_best_split_for_petal_length_guess"
      ]
     },
     "execution_count": 130,
     "metadata": {},
     "output_type": "execute_result"
    }
   ],
   "source": [
    "## Make this function return a constant equal to your answer to the question above.\n",
    "def t4_best_split_for_petal_length_guess\n",
    "    return 2\n",
    "end"
   ]
  },
  {
   "cell_type": "code",
   "execution_count": 131,
   "metadata": {
    "deletable": false,
    "editable": false,
    "nbgrader": {
     "cell_type": "code",
     "checksum": "ea46911bd0e91b5cfa72da211a559fca",
     "grade": true,
     "grade_id": "cell-4bf4f45cb98ef86c",
     "locked": true,
     "points": 20,
     "schema_version": 3,
     "solution": false
    }
   },
   "outputs": [],
   "source": [
    "### TEST (Hidden) ###"
   ]
  },
  {
   "cell_type": "markdown",
   "metadata": {
    "deletable": false,
    "editable": false,
    "nbgrader": {
     "cell_type": "markdown",
     "checksum": "1af2c23aea17b9de2d958a0720a04f1b",
     "grade": false,
     "grade_id": "cell-4283fab3ee1d4932",
     "locked": true,
     "schema_version": 3,
     "solution": false
    }
   },
   "source": [
    "## Question 5 (20 points)\n",
    "Implement a function which takes a feature name and a real-valued threshold and splits data into two groups: \n",
    "* Strictly less than the threshold\n",
    "* Greater than or equal to the threholds. \n",
    "\n",
    "This function returns a structure that can be used to calculate the information gain. An example is as follows:\n",
    "```\n",
    "{\"petal_length < X1\":[\n",
    "        {\"features\":{\"sepal_length\":4.8,\"sepal_width\":3.1,\"petal_length\":1.6,\"petal_width\":0.2},\"label\":0},\n",
    "],\"petal_length >= X1\":[\n",
    "        {\"features\":{\"sepal_length\":4.8,\"sepal_width\":3.1,\"petal_length\":1.6,\"petal_width\":0.2},\"label\":0},\n",
    "]}\n",
    "```"
   ]
  },
  {
   "cell_type": "code",
   "execution_count": 132,
   "metadata": {
    "deletable": false,
    "nbgrader": {
     "cell_type": "code",
     "checksum": "2055329c09c32943fd87ca49f800e113",
     "grade": false,
     "grade_id": "cell-0a015dc7685dd60d",
     "locked": false,
     "schema_version": 3,
     "solution": true
    }
   },
   "outputs": [
    {
     "data": {
      "text/plain": [
       ":split_on_numeric_value"
      ]
     },
     "execution_count": 132,
     "metadata": {},
     "output_type": "execute_result"
    }
   ],
   "source": [
    "def split_on_numeric_value x, k, v\n",
    "  splits={\"less than\"=>[], \"more than\"=>[]}\n",
    "\n",
    "  x.each do |item|\n",
    "    if item[\"features\"][k]\n",
    "      y=item[\"features\"][k]\n",
    "    else\n",
    "      y=0\n",
    "    end\n",
    "    if y<v\n",
    "      splits[\"less than\"]+=[item]\n",
    "    end\n",
    "    if y>=v\n",
    "      splits[\"more than\"]+=[item]\n",
    "    end\n",
    "  end\n",
    "  \n",
    "  splits\n",
    "end"
   ]
  },
  {
   "cell_type": "code",
   "execution_count": 133,
   "metadata": {
    "deletable": false,
    "editable": false,
    "nbgrader": {
     "cell_type": "code",
     "checksum": "de9d1cb2d0e73658f6d6c6a65666fdaf",
     "grade": true,
     "grade_id": "cell-ee0152623e0d79f9",
     "locked": true,
     "points": 5,
     "schema_version": 3,
     "solution": false
    }
   },
   "outputs": [],
   "source": [
    "### TEST ###\n",
    "\n",
    "# Checks for the number of examples when split on petal_length = 1.7\n",
    "t5_iris_splits = split_on_numeric_value iris[\"data\"], \"petal_length\", 1.7\n",
    "t5_split_sizes = t5_iris_splits.values.collect {|v| v.size}.sort\n",
    "t5_num_splits = 2\n",
    "assert_equal t5_num_splits, t5_split_sizes.size\n",
    "assert_equal 44, t5_split_sizes[0]\n",
    "assert_equal 106, t5_split_sizes[1]"
   ]
  },
  {
   "cell_type": "code",
   "execution_count": 134,
   "metadata": {
    "deletable": false,
    "editable": false,
    "nbgrader": {
     "cell_type": "code",
     "checksum": "4a0e4ec86a22928c3196687c4ea5157f",
     "grade": true,
     "grade_id": "cell-977a7d0a41a9a921",
     "locked": true,
     "points": 5,
     "schema_version": 3,
     "solution": false
    }
   },
   "outputs": [
    {
     "name": "stdout",
     "output_type": "stream",
     "text": [
      "0.48280104455013506\n"
     ]
    }
   ],
   "source": [
    "### TEST ###\n",
    "\n",
    "# Checks the information gain for this split\n",
    "t5_iris_entropy = entropy(class_distribution(iris[\"data\"]))\n",
    "t5_iris_information_gain = information_gain t5_iris_entropy, t5_iris_splits\n",
    "assert_in_delta 0.48280104455013506, t5_iris_information_gain, 5e-2"
   ]
  },
  {
   "cell_type": "code",
   "execution_count": 135,
   "metadata": {
    "deletable": false,
    "editable": false,
    "nbgrader": {
     "cell_type": "code",
     "checksum": "426b29c72bc44b29ca2b08e3f0eb1484",
     "grade": true,
     "grade_id": "cell-9602959f3f1bea8d",
     "locked": true,
     "points": 5,
     "schema_version": 3,
     "solution": false
    }
   },
   "outputs": [
    {
     "name": "stdout",
     "output_type": "stream",
     "text": [
      "0.17012249631509135\n"
     ]
    }
   ],
   "source": [
    "### TEST ###\n",
    "\n",
    "# Checks the information gain for a split on the spambase dataset\n",
    "t5_spambase_splits = split_on_numeric_value spambase[\"data\"], \"char_freq_$\", 0.056\n",
    "t5_spambase_entropy = entropy(class_distribution(spambase[\"data\"]))\n",
    "t5_spambase_information_gain = information_gain t5_spambase_entropy, t5_spambase_splits\n",
    "assert_in_delta 0.17012249631509135, t5_spambase_information_gain, 5e-2"
   ]
  },
  {
   "cell_type": "code",
   "execution_count": 136,
   "metadata": {
    "deletable": false,
    "editable": false,
    "nbgrader": {
     "cell_type": "code",
     "checksum": "fbffeefb751936788bd199cc08b300ea",
     "grade": true,
     "grade_id": "cell-f6432bb9ba83c17a",
     "locked": true,
     "points": 5,
     "schema_version": 3,
     "solution": false
    }
   },
   "outputs": [
    {
     "name": "stdout",
     "output_type": "stream",
     "text": [
      "0.0\n",
      "0.007368925763855394\n",
      "0.014829172330138585\n",
      "0.030033875414081868\n",
      "0.08654114224614062\n",
      "0.19846652829937905\n",
      "0.36762441317024375\n",
      "0.48280104455013506\n",
      "0.5708880749943686\n",
      "0.6365141682948128\n",
      "0.6083557734545781\n",
      "0.5738298777087836\n",
      "0.5487967703668577\n",
      "0.5383976022416942\n",
      "0.5290762982094618\n",
      "0.5206770429611144\n",
      "0.49998635614757925\n",
      "0.4769733143948972\n",
      "0.46858904960369663\n",
      "0.4628103300330144\n",
      "0.4620981203732968\n",
      "0.4649602832666839\n",
      "0.4499611899497512\n",
      "0.46469597543888563\n",
      "0.5021697266465265\n",
      "0.4724565131247582\n",
      "0.438117862765954\n",
      "0.40314245075086563\n",
      "0.32626067487019494\n",
      "0.3005336653214238\n",
      "0.2760652012017689\n",
      "0.2527100690630446\n",
      "0.21951214867965607\n",
      "0.15864598561813148\n",
      "0.13053245657705614\n",
      "0.10373813181609481\n",
      "0.08654114224614062\n",
      "0.06983636023057316\n",
      "0.045635817309936266\n",
      "0.037783754878081055\n",
      "0.030033875414081868\n",
      "0.022383272446196978\n",
      "0.007368925763855394\n"
     ]
    },
    {
     "data": {
      "text/html": [
       "<div id='vis-f47e936d-f325-45c6-9057-d3a41fb94b7a'></div>\n",
       "<script>\n",
       "(function(){\n",
       "    var render = function(){\n",
       "        var model = {\"panes\":[{\"diagrams\":[{\"type\":\"line\",\"options\":{\"x\":\"x\",\"y\":\"y\"},\"data\":\"ab9749d9-9a35-4db7-b5f1-1a62ea4c187b\"}],\"options\":{\"x_label\":\"Petal Length Threshold\",\"y_label\":\"Information Gain\",\"xrange\":[1.0,6.9],\"zoom\":true,\"width\":700,\"yrange\":[0.0,0.6365141682948128]}}],\"data\":{\"ab9749d9-9a35-4db7-b5f1-1a62ea4c187b\":[{\"x\":1.0,\"y\":0.0},{\"x\":1.1,\"y\":0.007368925763855394},{\"x\":1.2,\"y\":0.014829172330138585},{\"x\":1.3,\"y\":0.030033875414081868},{\"x\":1.4,\"y\":0.08654114224614062},{\"x\":1.5,\"y\":0.19846652829937905},{\"x\":1.6,\"y\":0.36762441317024375},{\"x\":1.7,\"y\":0.48280104455013506},{\"x\":1.9,\"y\":0.5708880749943686},{\"x\":3.0,\"y\":0.6365141682948128},{\"x\":3.3,\"y\":0.6083557734545781},{\"x\":3.5,\"y\":0.5738298777087836},{\"x\":3.6,\"y\":0.5487967703668577},{\"x\":3.7,\"y\":0.5383976022416942},{\"x\":3.8,\"y\":0.5290762982094618},{\"x\":3.9,\"y\":0.5206770429611144},{\"x\":4.0,\"y\":0.49998635614757925},{\"x\":4.1,\"y\":0.4769733143948972},{\"x\":4.2,\"y\":0.46858904960369663},{\"x\":4.3,\"y\":0.4628103300330144},{\"x\":4.4,\"y\":0.4620981203732968},{\"x\":4.5,\"y\":0.4649602832666839},{\"x\":4.6,\"y\":0.4499611899497512},{\"x\":4.7,\"y\":0.46469597543888563},{\"x\":4.8,\"y\":0.5021697266465265},{\"x\":4.9,\"y\":0.4724565131247582},{\"x\":5.0,\"y\":0.438117862765954},{\"x\":5.1,\"y\":0.40314245075086563},{\"x\":5.2,\"y\":0.32626067487019494},{\"x\":5.3,\"y\":0.3005336653214238},{\"x\":5.4,\"y\":0.2760652012017689},{\"x\":5.5,\"y\":0.2527100690630446},{\"x\":5.6,\"y\":0.21951214867965607},{\"x\":5.7,\"y\":0.15864598561813148},{\"x\":5.8,\"y\":0.13053245657705614},{\"x\":5.9,\"y\":0.10373813181609481},{\"x\":6.0,\"y\":0.08654114224614062},{\"x\":6.1,\"y\":0.06983636023057316},{\"x\":6.3,\"y\":0.045635817309936266},{\"x\":6.4,\"y\":0.037783754878081055},{\"x\":6.6,\"y\":0.030033875414081868},{\"x\":6.7,\"y\":0.022383272446196978},{\"x\":6.9,\"y\":0.007368925763855394}]},\"extension\":[]}\n",
       "        var id_name = '#vis-f47e936d-f325-45c6-9057-d3a41fb94b7a';\n",
       "        Nyaplot.core.parse(model, id_name);\n",
       "\n",
       "        require(['downloadable'], function(downloadable){\n",
       "          var svg = d3.select(id_name).select(\"svg\");\n",
       "\t  if(!svg.empty())\n",
       "\t    svg.call(downloadable().filename('fig'));\n",
       "\t});\n",
       "    };\n",
       "    if(window['Nyaplot']==undefined){\n",
       "        window.addEventListener('load_nyaplot', render, false);\n",
       "\treturn;\n",
       "    } else {\n",
       "       render();\n",
       "    }\n",
       "})();\n",
       "</script>\n"
      ],
      "text/plain": [
       "#<Nyaplot::Plot:0x00000000044bc360 @properties={:diagrams=>[#<Nyaplot::Diagram:0x00000000044f6c40 @properties={:type=>:line, :options=>{:x=>:x, :y=>:y}, :data=>\"ab9749d9-9a35-4db7-b5f1-1a62ea4c187b\"}, @xrange=[1.0, 6.9], @yrange=[0.0, 0.6365141682948128]>], :options=>{:x_label=>\"Petal Length Threshold\", :y_label=>\"Information Gain\", :xrange=>[1.0, 6.9], :zoom=>true, :width=>700, :yrange=>[0.0, 0.6365141682948128]}}>"
      ]
     },
     "execution_count": 136,
     "metadata": {},
     "output_type": "execute_result"
    }
   ],
   "source": [
    "### TEST ###\n",
    "sorted_values = iris[\"data\"].collect {|r| r[\"features\"][\"petal_length\"]}.uniq.sort\n",
    "min_sl = sorted_values.first\n",
    "max_sl = sorted_values.last\n",
    "\n",
    "x = []\n",
    "y = []\n",
    "h0 = entropy(class_distribution(iris[\"data\"]))\n",
    "sorted_values.each do |t|\n",
    "  x << t\n",
    "  y << information_gain(h0, split_on_numeric_value(iris[\"data\"], \"petal_length\", t))\n",
    "end\n",
    "\n",
    "assert_equal 43, sorted_values.size\n",
    "Daru::DataFrame.new({x: x, y: y}).plot(type: :line, x: :x, y: :y) do |plot, diagram|\n",
    "  plot.x_label \"Petal Length Threshold\"\n",
    "  plot.y_label \"Information Gain\"\n",
    "  plot.xrange [min_sl,max_sl]\n",
    "end"
   ]
  },
  {
   "cell_type": "markdown",
   "metadata": {
    "deletable": false,
    "editable": false,
    "nbgrader": {
     "cell_type": "markdown",
     "checksum": "2fbcae7e8aa78a9b868249a2bfa5e169",
     "grade": false,
     "grade_id": "cell-3a51e33c9c02a0fd",
     "locked": true,
     "schema_version": 3,
     "solution": false
    }
   },
   "source": [
    "## Question 6 (10 points)\n",
    "Finding the best split value by calling ```split_on_numeric_value``` on each threshold is _very_ expensive. There is a better solution. The function should return an array consisting of the best threshold and the information gain of that threshold.\n",
    "\n",
    "\n",
    "In order to find the best split, we need to find $t^\\star$ defined as follows:\n",
    "\n",
    "$ t^\\star = \\arg \\max_{t} IG(x,V(t)) $\n",
    "\n",
    "Given that a threshold is a single real value, we can simply calculate the values $IG(x,V)$ for every value of $t$ _in order_, which leads allows us to save some work by calculating information incrementally. Notice that the split sets have a specialized form, which we can write as $V(t) = \\left\\{v_L(t), v_R(t)\\right\\}$ with $v_L(t) = \\left\\{x \\mid x < t \\right\\}$ and $v_R(t) = \\left\\{x \\mid x \\ge t \\right\\}$. \n",
    "\n",
    "As we sweep $t$ from minimum to maximum values, we note the following relations:\n",
    "\n",
    "$v_R(t + \\Delta_t) = v_R(t) - v_\\Delta$\n",
    "\n",
    "$v_L(t + \\Delta_t) = v_L(t) \\cup v_\\Delta$\n",
    "\n",
    "where $v_\\Delta = \\left\\{x \\mid t < x \\le t + \\Delta_t \\right\\}$\n",
    "\n",
    "What we add to $v_L$ is exactly what was removed from $v_R$, which means that we can easily recalculate the information gain by incrementing a class-specific counter for $v_L$ and decrementing a class-specific counter for $v_R$ as we sweep through the range of the threshold.\n",
    "\n",
    "The function below returns an array with the split point and the information gain:\n",
    "```ruby\n",
    "return [t_max, ig_max]\n",
    "```\n"
   ]
  },
  {
   "cell_type": "code",
   "execution_count": 139,
   "metadata": {
    "deletable": false,
    "nbgrader": {
     "cell_type": "code",
     "checksum": "037a80bd7065ccb928863287a1246ad6",
     "grade": false,
     "grade_id": "cell-080688f2e969fe61",
     "locked": false,
     "schema_version": 3,
     "solution": true
    }
   },
   "outputs": [
    {
     "data": {
      "text/plain": [
       ":find_split_point_numeric"
      ]
     },
     "execution_count": 139,
     "metadata": {},
     "output_type": "execute_result"
    }
   ],
   "source": [
    "  def find_split_point_numeric examples, parent_entropy, feature_name  \n",
    "    \n",
    "    if(matches?(examples, feature_name))\n",
    "\n",
    "      sorted_values = examples.collect {|r| r[\"features\"][feature_name]}.uniq.sort\n",
    "      ig_max=-1\n",
    "      t_max=-1\n",
    "\n",
    "      threshold = []\n",
    "      iG = []\n",
    "      sorted_values.each do |item|\n",
    "        threshold << item\n",
    "        split1 = NumericSplit.new(feature_name, item)\n",
    "        iG << information_gain(parent_entropy, split1.split_on_feature(examples))\n",
    "        if iG.last>ig_max\n",
    "          ig_max=iG.last\n",
    "          t_max=threshold.last\n",
    "        end\n",
    "      end\n",
    "\n",
    "      split = NumericSplit.new feature_name, t_max\n",
    "      ig=information_gain(parent_entropy, split.split_on_feature(examples))\n",
    "\n",
    "      return {\"split\" => split, \"information_gain\" => ig}\n",
    "    end   \n",
    "  end"
   ]
  },
  {
   "cell_type": "code",
   "execution_count": 140,
   "metadata": {
    "deletable": false,
    "editable": false,
    "nbgrader": {
     "cell_type": "code",
     "checksum": "f7b8a45c908e13b4096586f083f6bd92",
     "grade": true,
     "grade_id": "cell-2c420be7956a8e6a",
     "locked": true,
     "points": 2,
     "schema_version": 3,
     "solution": false
    }
   },
   "outputs": [
    {
     "name": "stdout",
     "output_type": "stream",
     "text": [
      "149.0\n"
     ]
    }
   ],
   "source": [
    "### TEST ###\n",
    "t6_iris_entropy = entropy(class_distribution(iris[\"data\"]))\n",
    "t6_split_sepal_width = find_split_point_numeric iris[\"data\"], t6_iris_entropy, \"sepal_width\"\n",
    "assert_in_delta 3.4, t6_split_sepal_width[0], 1e-2"
   ]
  },
  {
   "cell_type": "code",
   "execution_count": 141,
   "metadata": {
    "deletable": false,
    "editable": false,
    "nbgrader": {
     "cell_type": "code",
     "checksum": "1fe196597c5120e85c53e89544ddc274",
     "grade": true,
     "grade_id": "cell-c8030984e5051641",
     "locked": true,
     "points": 2,
     "schema_version": 3,
     "solution": false
    }
   },
   "outputs": [],
   "source": [
    "### TEST ###\n",
    "assert_in_delta 0.18570201019349364, t6_split_sepal_width[1], 1e-2"
   ]
  },
  {
   "cell_type": "code",
   "execution_count": 142,
   "metadata": {
    "deletable": false,
    "editable": false,
    "nbgrader": {
     "cell_type": "code",
     "checksum": "325281f2354dec49fe87017de0740e35",
     "grade": true,
     "grade_id": "cell-7c70189b1104be3c",
     "locked": true,
     "points": 2,
     "schema_version": 3,
     "solution": false
    }
   },
   "outputs": [
    {
     "name": "stdout",
     "output_type": "stream",
     "text": [
      "2104.0\n",
      "1400.0\n"
     ]
    }
   ],
   "source": [
    "### TEST ###\n",
    "t6_spambase_entropy = entropy(class_distribution(spambase[\"data\"]))\n",
    "t6_split_dollar = find_split_point_numeric spambase[\"data\"], t6_spambase_entropy, \"char_freq_$\"\n",
    "assert_in_delta 0.056, t6_split_dollar[0], 1e-2"
   ]
  },
  {
   "cell_type": "code",
   "execution_count": 143,
   "metadata": {
    "deletable": false,
    "editable": false,
    "nbgrader": {
     "cell_type": "code",
     "checksum": "7e8a504e899944affe9fb7deb81648c8",
     "grade": true,
     "grade_id": "cell-c16470ca0986f6da",
     "locked": true,
     "points": 2,
     "schema_version": 3,
     "solution": false
    }
   },
   "outputs": [],
   "source": [
    "### TEST ###\n",
    "assert_in_delta 0.17012249631509135, t6_split_dollar[1], 1e-2"
   ]
  },
  {
   "cell_type": "code",
   "execution_count": 144,
   "metadata": {
    "deletable": false,
    "editable": false,
    "nbgrader": {
     "cell_type": "code",
     "checksum": "4e71217502cf32847dc00852a4c01c65",
     "grade": true,
     "grade_id": "cell-ae2486adb874eb71",
     "locked": true,
     "points": 2,
     "schema_version": 3,
     "solution": false
    }
   },
   "outputs": [
    {
     "name": "stdout",
     "output_type": "stream",
     "text": [
      "0.18570201019349364\n",
      "0.17012249631509135\n"
     ]
    }
   ],
   "source": [
    "### TEST: Produces same result as split_on_numeric_value ###\n",
    "t6_iris_expected_ig = information_gain(t6_iris_entropy, split_on_numeric_value(iris[\"data\"], \"sepal_width\", 3.4))\n",
    "assert_in_delta t6_iris_expected_ig, t6_split_sepal_width[1], 1e-2\n",
    "t6_spambase_expected_ig = information_gain(t6_spambase_entropy, split_on_numeric_value(spambase[\"data\"], \"char_freq_$\", 0.056))\n",
    "assert_in_delta t6_spambase_expected_ig, t6_split_dollar[1], 1e-2"
   ]
  },
  {
   "cell_type": "code",
   "execution_count": null,
   "metadata": {},
   "outputs": [],
   "source": []
  },
  {
   "cell_type": "code",
   "execution_count": null,
   "metadata": {},
   "outputs": [],
   "source": []
  }
 ],
 "metadata": {
  "kernelspec": {
   "display_name": "Ruby 2.5.1",
   "language": "ruby",
   "name": "ruby"
  },
  "language_info": {
   "file_extension": ".rb",
   "mimetype": "application/x-ruby",
   "name": "ruby",
   "version": "2.5.1"
  }
 },
 "nbformat": 4,
 "nbformat_minor": 2
}
