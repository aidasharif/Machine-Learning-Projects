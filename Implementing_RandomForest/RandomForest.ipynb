{
 "cells": [
  {
   "cell_type": "markdown",
   "metadata": {},
   "source": [
    "# CS6140 Assignments\n",
    "\n",
    "**Instructions**\n",
    "1. In each assignment cell, look for the block:\n",
    " ```\n",
    "  #BEGIN YOUR CODE\n",
    "  raise NotImplementedError.new()\n",
    "  #END YOUR CODE\n",
    " ```\n",
    "1. Replace this block with your solution.\n",
    "1. Test your solution by running the cells following your block (indicated by ##TEST##)\n",
    "1. Click the \"Validate\" button above to validate the work.\n",
    "\n",
    "**Notes**\n",
    "* You may add other cells and functions as needed\n",
    "* Keep all code in the same notebook\n",
    "* In order to receive credit, code must \"Validate\" on the JupyterHub server\n",
    "\n",
    "---"
   ]
  },
  {
   "cell_type": "code",
   "execution_count": null,
   "metadata": {},
   "outputs": [],
   "source": []
  },
  {
   "cell_type": "markdown",
   "metadata": {
    "deletable": false,
    "editable": false,
    "nbgrader": {
     "cell_type": "markdown",
     "checksum": "8f04d4b2d1351bbf0873c31fea360edd",
     "grade": false,
     "grade_id": "cell-b57e519517d6df20",
     "locked": true,
     "schema_version": 3,
     "solution": false,
     "task": false
    }
   },
   "source": [
    "# Assignment 8: Decision Trees\n",
    "\n",
    "Implement a trainer for a single decision tree and an ensemble of decision tress, called Random Forest. Much of the code has already been completed in previous assignments. Once completed, you should have some learners to use for the Final Project.\n",
    "\n",
    "The trainer implementation will happen in the following stages:\n",
    "\n",
    "1. Create a ```NumericSplitter``` and a ```CategoricalSplitter``` which create a ```NumericSplit``` and a ```CategoricalSplit```, respecively. \n",
    "2. Create a ```DecisionTreeLearner``` which implements a recursive trainer given a list of possible splits\n",
    "3. Add a ```predict``` method to the decision tree class that predicts for new examples\n",
    "4. Using your ```DecisionTreeLearner``` as a weak learner, implement Bagging and a random subset of features to train a ```RandomForestTrainer```.\n",
    "5. Implement the ```AUCMetric``` which helps you draw an ROC curve.\n",
    "6. Apply $k$-fold Cross Validation to find the best parameters for two datasets. "
   ]
  },
  {
   "cell_type": "code",
   "execution_count": 1,
   "metadata": {
    "deletable": false,
    "editable": false,
    "nbgrader": {
     "cell_type": "code",
     "checksum": "d12eb51c94015ef2dddb141de58b4122",
     "grade": false,
     "grade_id": "cell-32383ff59bdabdf4",
     "locked": true,
     "schema_version": 3,
     "solution": false,
     "task": false
    }
   },
   "outputs": [
    {
     "data": {
      "application/javascript": [
       "if(window['d3'] === undefined ||\n",
       "   window['Nyaplot'] === undefined){\n",
       "    var path = {\"d3\":\"https://cdnjs.cloudflare.com/ajax/libs/d3/3.5.5/d3.min\",\"downloadable\":\"http://cdn.rawgit.com/domitry/d3-downloadable/master/d3-downloadable\"};\n",
       "\n",
       "\n",
       "\n",
       "    var shim = {\"d3\":{\"exports\":\"d3\"},\"downloadable\":{\"exports\":\"downloadable\"}};\n",
       "\n",
       "    require.config({paths: path, shim:shim});\n",
       "\n",
       "\n",
       "require(['d3'], function(d3){window['d3']=d3;console.log('finished loading d3');require(['downloadable'], function(downloadable){window['downloadable']=downloadable;console.log('finished loading downloadable');\n",
       "\n",
       "\tvar script = d3.select(\"head\")\n",
       "\t    .append(\"script\")\n",
       "\t    .attr(\"src\", \"http://cdn.rawgit.com/domitry/Nyaplotjs/master/release/nyaplot.js\")\n",
       "\t    .attr(\"async\", true);\n",
       "\n",
       "\tscript[0][0].onload = script[0][0].onreadystatechange = function(){\n",
       "\n",
       "\n",
       "\t    var event = document.createEvent(\"HTMLEvents\");\n",
       "\t    event.initEvent(\"load_nyaplot\",false,false);\n",
       "\t    window.dispatchEvent(event);\n",
       "\t    console.log('Finished loading Nyaplotjs');\n",
       "\n",
       "\t};\n",
       "\n",
       "\n",
       "});});\n",
       "}\n"
      ],
      "text/plain": [
       "\"if(window['d3'] === undefined ||\\n   window['Nyaplot'] === undefined){\\n    var path = {\\\"d3\\\":\\\"https://cdnjs.cloudflare.com/ajax/libs/d3/3.5.5/d3.min\\\",\\\"downloadable\\\":\\\"http://cdn.rawgit.com/domitry/d3-downloadable/master/d3-downloadable\\\"};\\n\\n\\n\\n    var shim = {\\\"d3\\\":{\\\"exports\\\":\\\"d3\\\"},\\\"downloadable\\\":{\\\"exports\\\":\\\"downloadable\\\"}};\\n\\n    require.config({paths: path, shim:shim});\\n\\n\\nrequire(['d3'], function(d3){window['d3']=d3;console.log('finished loading d3');require(['downloadable'], function(downloadable){window['downloadable']=downloadable;console.log('finished loading downloadable');\\n\\n\\tvar script = d3.select(\\\"head\\\")\\n\\t    .append(\\\"script\\\")\\n\\t    .attr(\\\"src\\\", \\\"http://cdn.rawgit.com/domitry/Nyaplotjs/master/release/nyaplot.js\\\")\\n\\t    .attr(\\\"async\\\", true);\\n\\n\\tscript[0][0].onload = script[0][0].onreadystatechange = function(){\\n\\n\\n\\t    var event = document.createEvent(\\\"HTMLEvents\\\");\\n\\t    event.initEvent(\\\"load_nyaplot\\\",false,false);\\n\\t    window.dispatchEvent(event);\\n\\t    console.log('Finished loading Nyaplotjs');\\n\\n\\t};\\n\\n\\n});});\\n}\\n\""
      ]
     },
     "metadata": {},
     "output_type": "display_data"
    },
    {
     "name": "stdout",
     "output_type": "stream",
     "text": [
      "**Iris Dataset**\n",
      "Features\n",
      "[\"sepal_length\", \"sepal_width\", \"petal_length\", \"petal_width\"]\n",
      "\n",
      "First example\n",
      "{\"features\"=>{\"sepal_length\"=>7.0, \"sepal_width\"=>3.2, \"petal_length\"=>4.7, \"petal_width\"=>1.4}, \"label\"=>1}\n",
      "\n",
      "\n",
      "**German Credit Dataset**\n",
      "Features\n",
      "[\"checking_account\", \"loan_duration\", \"credit_history\", \"purpose\", \"credit_amount\", \"savings\", \"job_tenure\", \"installment_to_salary\", \"personal_status_gender\", \"other_debtors\", \"residence_tenure\", \"property\", \"age\", \"other_installments\", \"housing\", \"existing credits\", \"job\", \"dependents\", \"has_telephone\", \"is_foreign_worker\"]\n",
      "\n",
      "First example\n",
      "{\"id\"=>0, \"label\"=>1, \"features\"=>{\"checking_account\"=>\"(-inf,0)\", \"loan_duration\"=>6.0, \"credit_history\"=>\"critical account\", \"purpose\"=>\"radio/television\", \"credit_amount\"=>1169.0, \"savings\"=>\"none\", \"job_tenure\"=>\"[7,inf)\", \"installment_to_salary\"=>4.0, \"personal_status_gender\"=>\"m_single\", \"other_debtors\"=>\"none\", \"residence_tenure\"=>4.0, \"property\"=>\"real_estate\", \"age\"=>67.0, \"other_installments\"=>\"none\", \"housing\"=>\"own\", \"existing credits\"=>2.0, \"job\"=>\"skilled\", \"dependents\"=>1.0, \"has_telephone\"=>\"yes\", \"is_foreign_worker\"=>\"yes\"}}\n"
     ]
    }
   ],
   "source": [
    "require './assignment_lib'\n",
    "\n",
    "def load_german_credit_dataset; JSON.parse(File.read('german-credit.json')); end\n",
    "def load_iris_dataset(); read_sparse_data_from_csv \"iris\"; end\n",
    "\n",
    "puts \"**Iris Dataset**\"\n",
    "puts \"Features\", load_iris_dataset()[\"features\"], \"\"\n",
    "puts \"First example\", load_iris_dataset()[\"data\"].first\n",
    "\n",
    "puts \"\\n\\n**German Credit Dataset**\"\n",
    "puts \"Features\", load_german_credit_dataset()[\"features\"], \"\"\n",
    "puts \"First example\", load_german_credit_dataset()[\"data\"].first"
   ]
  },
  {
   "cell_type": "markdown",
   "metadata": {
    "deletable": false,
    "editable": false,
    "nbgrader": {
     "cell_type": "markdown",
     "checksum": "3894e8ad7cd9c016192534d46de2747c",
     "grade": false,
     "grade_id": "cell-b80735c0dc0aa824",
     "locked": true,
     "schema_version": 3,
     "solution": false,
     "task": false
    }
   },
   "source": [
    "# Question 1\n",
    "\n",
    "Copy the various pieces you have already implemented for decision trees\n",
    "\n",
    "## Question 1.1 (1 Point)\n",
    "\n",
    "Copy **your** implementation of ```class_distribution```, mean, and stdev from previous assignments"
   ]
  },
  {
   "cell_type": "code",
   "execution_count": 2,
   "metadata": {
    "deletable": false,
    "nbgrader": {
     "cell_type": "code",
     "checksum": "0ed7bbd169e130319ce052f0f22d0d5e",
     "grade": false,
     "grade_id": "cell-c5c50fa87697e12b",
     "locked": false,
     "schema_version": 3,
     "solution": true
    }
   },
   "outputs": [
    {
     "data": {
      "text/plain": [
       ":stdev"
      ]
     },
     "execution_count": 2,
     "metadata": {},
     "output_type": "execute_result"
    }
   ],
   "source": [
    "def class_distribution dataset\n",
    "  #puts dataset\n",
    "  classes = Hash.new {|h,k| h[k] = 0}\n",
    "  dataset.each do |item|\n",
    "    classes[item[\"label\"]]=1+classes[item[\"label\"]]\n",
    "  end\n",
    "  \n",
    "  result={}\n",
    "  classes.each do |key,array|\n",
    "    result[key]=array.to_f/dataset.size.to_f\n",
    "  end\n",
    "  \n",
    "  return result\n",
    "end\n",
    "\n",
    "def mean x\n",
    "  sum=0\n",
    "  x.each do |item|\n",
    "    sum+=item.to_f\n",
    "  end\n",
    "  \n",
    "  return sum.to_f/(x.size)\n",
    "end\n",
    "\n",
    "def stdev x\n",
    "  sum=0\n",
    "  mean1=mean(x)\n",
    "  x.each do |item|\n",
    "    sum+=(item-mean1)**2\n",
    "  end\n",
    "\n",
    "  return (sum.to_f/(x.size-1))**0.5\n",
    "end\n"
   ]
  },
  {
   "cell_type": "code",
   "execution_count": 3,
   "metadata": {
    "deletable": false,
    "editable": false,
    "nbgrader": {
     "cell_type": "code",
     "checksum": "d4e9241e67fe9a6b941333a847dd9a05",
     "grade": true,
     "grade_id": "cell-d5732b0ff4217fef",
     "locked": true,
     "points": 1,
     "schema_version": 3,
     "solution": false
    }
   },
   "outputs": [],
   "source": [
    "### TESTS ###\n",
    "def test_d5732b\n",
    "  iris = load_iris_dataset()\n",
    "  t1_iris_dist = class_distribution iris[\"data\"]\n",
    "  t1_iris_num_classes = 3\n",
    "  n = t1_iris_num_classes.times do |cls|\n",
    "    assert_in_delta t1_iris_dist[cls], 0.33333, 1e-4\n",
    "  end\n",
    "  assert_equal t1_iris_num_classes, n\n",
    "end\n",
    "test_d5732b()"
   ]
  },
  {
   "cell_type": "markdown",
   "metadata": {
    "deletable": false,
    "editable": false,
    "nbgrader": {
     "cell_type": "markdown",
     "checksum": "f80ec7f620cc2ea6896089f5b1bb5aa3",
     "grade": false,
     "grade_id": "cell-d9ad3f6c384d5c45",
     "locked": true,
     "schema_version": 3,
     "solution": false,
     "task": false
    }
   },
   "source": [
    "## Question 1.2 (1 Point)\n",
    "\n",
    "Copy **your** implementation of ```entropy``` from previous assignments"
   ]
  },
  {
   "cell_type": "code",
   "execution_count": 4,
   "metadata": {
    "deletable": false,
    "nbgrader": {
     "cell_type": "code",
     "checksum": "57ff232c1692e0061a1b6a4518bf3a39",
     "grade": false,
     "grade_id": "cell-fd56a58088d438e0",
     "locked": false,
     "schema_version": 3,
     "solution": true
    }
   },
   "outputs": [
    {
     "data": {
      "text/plain": [
       ":entropy"
      ]
     },
     "execution_count": 4,
     "metadata": {},
     "output_type": "execute_result"
    }
   ],
   "source": [
    "def entropy dist\n",
    "  ent=0\n",
    "  dist.each do |key,array|\n",
    "    if array==0\n",
    "      return 0.0\n",
    "    end\n",
    "    ent+=-array*Math.log(array)\n",
    "  end\n",
    "  \n",
    "  ent\n",
    "end"
   ]
  },
  {
   "cell_type": "code",
   "execution_count": 5,
   "metadata": {
    "deletable": false,
    "editable": false,
    "nbgrader": {
     "cell_type": "code",
     "checksum": "99e12ed1e7efee31b9c89af94b481756",
     "grade": true,
     "grade_id": "cell-4b0b32cb212709a1",
     "locked": true,
     "points": 1,
     "schema_version": 3,
     "solution": false
    }
   },
   "outputs": [],
   "source": [
    "### TESTS ###\n",
    "def test_4b0b32()\n",
    "  iris = load_iris_dataset()\n",
    "  t2_iris_dist = class_distribution iris[\"data\"]\n",
    "  t2_iris_entropy = entropy t2_iris_dist\n",
    "  assert_in_delta(1.0986122886681096, t2_iris_entropy, 1e-4)\n",
    "  \n",
    "\n",
    "  german_credit = load_german_credit_dataset()\n",
    "  german_credit_dist = class_distribution german_credit[\"data\"]\n",
    "  german_credit_entropy = entropy german_credit_dist\n",
    "  assert_in_delta(0.6108643020548935, german_credit_entropy, 1e-4)\n",
    "end\n",
    "\n",
    "test_4b0b32()"
   ]
  },
  {
   "cell_type": "markdown",
   "metadata": {
    "deletable": false,
    "editable": false,
    "nbgrader": {
     "cell_type": "markdown",
     "checksum": "ef7cbe8d06d1ab199d7dc54207e3d7ed",
     "grade": false,
     "grade_id": "cell-b3e87660d3594fe2",
     "locked": true,
     "schema_version": 3,
     "solution": false,
     "task": false
    }
   },
   "source": [
    "## Question 1.3 (1 Point)\n",
    "\n",
    "Copy **your** implementation of ```information_gain``` from previous assignments"
   ]
  },
  {
   "cell_type": "code",
   "execution_count": 6,
   "metadata": {
    "deletable": false,
    "nbgrader": {
     "cell_type": "code",
     "checksum": "6964b2cb859fd6c3d9e6ce4fcc00677d",
     "grade": false,
     "grade_id": "cell-3c712cfd02e165c5",
     "locked": false,
     "schema_version": 3,
     "solution": true,
     "task": false
    }
   },
   "outputs": [
    {
     "data": {
      "text/plain": [
       ":information_gain"
      ]
     },
     "execution_count": 6,
     "metadata": {},
     "output_type": "execute_result"
    }
   ],
   "source": [
    "def information_gain h0, splits\n",
    " size = Hash.new {|h,k| h[k] = 0}\n",
    "  sum = Hash.new {|h,k| h[k] = 0}\n",
    "  total=0\n",
    "  \n",
    "  splits.each do |key, array|\n",
    "    total+=array.size\n",
    "  end\n",
    "  \n",
    "  splits.each do |key, array|\n",
    "    sum[key]+=entropy(class_distribution(array))\n",
    "    size[key]=array.size\n",
    "  end\n",
    "  \n",
    "  result=0\n",
    "  \n",
    "  size.each do |key,array|\n",
    "    size[key]=size[key].to_f/total\n",
    "  end\n",
    "  \n",
    "  splits.each do |key, array|\n",
    "    result+=sum[key]*size[key]\n",
    "  end\n",
    "\n",
    "  return h0-result\n",
    "end"
   ]
  },
  {
   "cell_type": "code",
   "execution_count": 7,
   "metadata": {
    "deletable": false,
    "editable": false,
    "nbgrader": {
     "cell_type": "code",
     "checksum": "6689dc4df3f365789376f50545bd2119",
     "grade": true,
     "grade_id": "cell-21236c60b85a6f02",
     "locked": true,
     "points": 1,
     "schema_version": 3,
     "solution": false,
     "task": false
    }
   },
   "outputs": [],
   "source": [
    "def test_21236c()\n",
    "  iris = load_iris_dataset()\n",
    "  t3_random_split = iris[\"data\"].group_by {|row| rand > 0.5 ? \"l\" : \"r\"}\n",
    "  t3_entropy = entropy(class_distribution(iris[\"data\"]))\n",
    "\n",
    "  assert_true(!t3_entropy.nil?)\n",
    "end\n",
    "test_21236c()"
   ]
  },
  {
   "cell_type": "markdown",
   "metadata": {
    "deletable": false,
    "editable": false,
    "nbgrader": {
     "cell_type": "markdown",
     "checksum": "47d1794f27fd6f0585973a4fcc04d57d",
     "grade": false,
     "grade_id": "cell-928bb3a04c06901a",
     "locked": true,
     "schema_version": 3,
     "solution": false,
     "task": false
    }
   },
   "source": [
    "# Question 2 Splits\n",
    "\n",
    "Implement a ```NumericSplit``` and a ```CategoricalSplit``` based on methods you implemented in previous assignments. Although much of the code will be reused, we will need to rearrange it.\n",
    "\n",
    "The decision tree uses the ```Splitter``` to find and create the best ```Split``` for a feature. The ```Split``` holds the information needed to define the split and check whether an example shown go down one path or another. \n",
    "\n",
    "\n",
    "## Question 2.1 (5 Points)\n",
    "\n",
    "Implement the ```CategoricalSplit```, which can split a dataset by the values of a categorical value. \n",
    "\n",
    "For example, consider splitting on the feature \"f1\". \n",
    "\n",
    "For the input as follows:\n",
    "```ruby\n",
    "[ \n",
    "    {\"features\" => {\"f1\" => \"a\"}}, \n",
    "    {\"features\" => {\"f1\" => \"b\"}},\n",
    "    {\"features\" => {\"f2\" => \"c\"}}\n",
    "]\n",
    "```\n",
    "\n",
    "The splits are stored in a hash where the key is a name of the path and the values are all examples under that path.\n",
    "```ruby\n",
    "{ \n",
    "    \"f1 == 'a'\" => [{\"features\" => {\"f1\" => \"a\"}}],\n",
    "    \"f1 == 'b'\" => [{\"features\" => {\"f1\" => \"b\"}}]\n",
    "}\n",
    "```\n",
    "\n",
    "Notes:\n",
    "\n",
    "1. Skip any example which has a missing value for the features\n",
    "1. Use the pattern ```@path_pattern % [@feature_name, feature_value]``` to assign a string-valued name to the split."
   ]
  },
  {
   "cell_type": "code",
   "execution_count": 8,
   "metadata": {
    "deletable": false,
    "nbgrader": {
     "cell_type": "code",
     "checksum": "34526fdef9e22a97f85bb7db86261159",
     "grade": false,
     "grade_id": "cell-415123a97885af63",
     "locked": false,
     "schema_version": 3,
     "solution": true,
     "task": false
    }
   },
   "outputs": [
    {
     "data": {
      "text/plain": [
       ":split_on_feature"
      ]
     },
     "execution_count": 8,
     "metadata": {},
     "output_type": "execute_result"
    }
   ],
   "source": [
    "class CategoricalSplit\n",
    "  attr_reader :feature_name\n",
    "  \n",
    "  def initialize fname\n",
    "    @feature_name = fname\n",
    "    @path_pattern = \"%s == '%s'\"\n",
    "  end\n",
    "  \n",
    "  def to_s\n",
    "    \"Categorical[#{@feature_name}]\"\n",
    "  end\n",
    "\n",
    "  def split_on_feature examples\n",
    "    \n",
    "    splits = Hash.new {|h,k| h[k] = []}\n",
    "    examples.each do |item|\n",
    "      item[\"features\"].each do |key2,array2|\n",
    "        if key2==@feature_name\n",
    "          @path_pattern = \"%s == '%s'\" % [key2, array2.to_s]\n",
    "          splits[@path_pattern]=(splits[@path_pattern]).append(item)\n",
    "        end\n",
    "      end\n",
    "    end\n",
    "\n",
    "    return splits\n",
    "  end\n",
    "end"
   ]
  },
  {
   "cell_type": "code",
   "execution_count": 9,
   "metadata": {
    "deletable": false,
    "editable": false,
    "nbgrader": {
     "cell_type": "code",
     "checksum": "6fe84e08a29ee1875b1b02bfa4fbdf26",
     "grade": true,
     "grade_id": "cell-af2e0c6d78f7708f",
     "locked": true,
     "points": 2,
     "schema_version": 3,
     "solution": false,
     "task": false
    }
   },
   "outputs": [
    {
     "name": "stdout",
     "output_type": "stream",
     "text": [
      "Splits\n",
      "[\"f1 == 'a'\", \"f1 == 'b'\"]\n",
      "[1, 1]\n"
     ]
    }
   ],
   "source": [
    "def test_af2e0c()  \n",
    "  f1_split = CategoricalSplit.new \"f1\"\n",
    "\n",
    "  example1 = {\"features\" => {\"f1\" => \"a\"}}\n",
    "  example2 = {\"features\" => {\"f1\" => \"b\"}}\n",
    "  example3_missing = {\"features\" => {\"f2\" => \"c\"}}\n",
    "  examples = [example1, example2, example3_missing]\n",
    "  \n",
    "  splits = f1_split.split_on_feature examples\n",
    "  puts \"Splits\", splits.keys  \n",
    "  split_sizes = splits.values.collect {|v| v.size}\n",
    "  puts split_sizes\n",
    "  \n",
    "  assert_equal 2, splits.size, \"Returns all possible values for f1 feature\"\n",
    "  assert_equal 1, splits[\"f1 == 'a'\"].size, \"a\"\n",
    "  assert_equal 1, splits[\"f1 == 'b'\"].size, \"b\"\n",
    "end\n",
    "test_af2e0c()"
   ]
  },
  {
   "cell_type": "code",
   "execution_count": 10,
   "metadata": {
    "deletable": false,
    "editable": false,
    "nbgrader": {
     "cell_type": "code",
     "checksum": "25d1e3c6bf399f607eb5e909a97d1611",
     "grade": true,
     "grade_id": "cell-b08a8bbdb9ab651e",
     "locked": true,
     "points": 3,
     "schema_version": 3,
     "solution": false,
     "task": false
    }
   },
   "outputs": [
    {
     "name": "stdout",
     "output_type": "stream",
     "text": [
      "Splits for german_credit.jobs\n",
      "[\"job == 'skilled'\", \"job == 'unskilled'\", \"job == 'management'\", \"job == 'unemployed'\"]\n",
      "[630, 200, 148, 22]\n"
     ]
    }
   ],
   "source": [
    "def test_b08a8b()  \n",
    "  job_split = CategoricalSplit.new \"job\"\n",
    "  \n",
    "  german_credit = load_german_credit_dataset()  \n",
    "  examples = german_credit[\"data\"]\n",
    "  \n",
    "  splits = job_split.split_on_feature examples\n",
    "  puts \"Splits for german_credit.jobs\", splits.keys\n",
    "  \n",
    "  split_sizes = splits.values.collect {|v| v.size}\n",
    "  puts split_sizes\n",
    "  \n",
    "  assert_equal 4, splits.size, \"Returns all possible values for job feature\"\n",
    "  assert_equal 22, splits[\"job == 'unemployed'\"].size, \"unemployed\"\n",
    "  assert_equal 200, splits[\"job == 'unskilled'\"].size, \"unskilled\"\n",
    "end\n",
    "test_b08a8b()"
   ]
  },
  {
   "cell_type": "markdown",
   "metadata": {
    "deletable": false,
    "editable": false,
    "nbgrader": {
     "cell_type": "markdown",
     "checksum": "eafb28c6ab1b5d0f3484ba8f16599e91",
     "grade": false,
     "grade_id": "cell-4fcb5c53a9784f88",
     "locked": true,
     "schema_version": 3,
     "solution": false,
     "task": false
    }
   },
   "source": [
    "## Question 2.2 (4 Points)\n",
    "\n",
    "Add a ```test``` method to your ```CategoricalSplit``` which considers an example and returns the string-valued name of the path to follow. If the example does not have a value for this feature, return ```nil```.\n",
    "\n",
    "For example, for an example with feature \"f1\", defined as follows:\n",
    "\n",
    "```ruby\n",
    "{\"features\" => {\"f1\" => \"a\"}}\n",
    "```\n",
    "\n",
    "The ```test``` method returns the name of the appropriate path to follow based on the feature. Note that the string name is available through the ```@path_pattern``` member variable.\n",
    "\n",
    "Output:\n",
    "```ruby\n",
    "\"f1 == 'a'\"\n",
    "```\n",
    "\n",
    "Notes:\n",
    "\n",
    "1. Note that the categorical value could be generated dynamically. "
   ]
  },
  {
   "cell_type": "code",
   "execution_count": 11,
   "metadata": {
    "deletable": false,
    "nbgrader": {
     "cell_type": "code",
     "checksum": "8f69785a1cd122fa6d52217a30790f40",
     "grade": false,
     "grade_id": "cell-520c0ad52bc57742",
     "locked": false,
     "schema_version": 3,
     "solution": true,
     "task": false
    }
   },
   "outputs": [
    {
     "data": {
      "text/plain": [
       ":test"
      ]
     },
     "execution_count": 11,
     "metadata": {},
     "output_type": "execute_result"
    }
   ],
   "source": [
    "class CategoricalSplit\n",
    "  def test example \n",
    "\n",
    "    if example[\"features\"][@feature_name]\n",
    "      return \"%s == '%s'\" % [@feature_name, example[\"features\"][@feature_name]]\n",
    "    end \n",
    "      \n",
    "    return nil\n",
    "\n",
    "  end\n",
    "end"
   ]
  },
  {
   "cell_type": "code",
   "execution_count": 12,
   "metadata": {
    "deletable": false,
    "editable": false,
    "nbgrader": {
     "cell_type": "code",
     "checksum": "aeae94e3361c1d836de3a3188b05ac7f",
     "grade": true,
     "grade_id": "cell-7462976ffd30340a",
     "locked": true,
     "points": 4,
     "schema_version": 3,
     "solution": false,
     "task": false
    }
   },
   "outputs": [],
   "source": [
    "def test_746297()  \n",
    "  f1_split = CategoricalSplit.new \"f1\"\n",
    "\n",
    "  example1 = {\"features\" => {\"f1\" => \"a\"}}\n",
    "  example2 = {\"features\" => {\"f1\" => \"b\"}}  \n",
    "  example3 = {\"features\" => {\"f2\" => \"c\"}}\n",
    "  \n",
    "  assert_equal \"f1 == 'a'\", f1_split.test(example1), \"Example 1\"\n",
    "  assert_equal \"f1 == 'b'\", f1_split.test(example2), \"Example 2\"  \n",
    "  assert_equal nil, f1_split.test(example3), \"Example 3\"\n",
    "end\n",
    "test_746297()"
   ]
  },
  {
   "cell_type": "markdown",
   "metadata": {
    "deletable": false,
    "editable": false,
    "nbgrader": {
     "cell_type": "markdown",
     "checksum": "47894dbafd51b1fa63d75e47f6a8d206",
     "grade": false,
     "grade_id": "cell-2ecf049ae1375a23",
     "locked": true,
     "schema_version": 3,
     "solution": false,
     "task": false
    }
   },
   "source": [
    "## Question 2.3 (5 Points)\n",
    "\n",
    "Implement ```NumericSplit``` which splits a dataset based on a provided numeric value. The ```split_on_feature``` method is very similar to the ```split_on_numeric_value``` from previous assignments. You may refactor **your** implementation of ```split_on_numeric_value```.\n",
    "\n",
    "The splits are stored in a hash where the key is a name of the path and the values are all examples under that path. For example, consider the iris dataset, with a feature name \"petal_length\" and the value1 1.7. The ```split_on_feature``` method should return:\n",
    "\n",
    "```ruby\n",
    "{\n",
    "    \"petal_length >= 1.7\" => [...],\n",
    "    \"petal_length < 1.7\" => [...],\n",
    "}\n",
    "```\n",
    "\n",
    "Notes:\n",
    "1. For numeric values, any feature which is missing should be assumed to have a value of zero.\n",
    "1. The path names are stored in a member array for numeric features because they are deterministic."
   ]
  },
  {
   "cell_type": "code",
   "execution_count": 13,
   "metadata": {
    "deletable": false,
    "nbgrader": {
     "cell_type": "code",
     "checksum": "fa60b00ff7410031c2e38bec20806805",
     "grade": false,
     "grade_id": "cell-bffd3efcd0245a35",
     "locked": false,
     "schema_version": 3,
     "solution": true,
     "task": false
    }
   },
   "outputs": [
    {
     "data": {
      "text/plain": [
       ":split_on_feature"
      ]
     },
     "execution_count": 13,
     "metadata": {},
     "output_type": "execute_result"
    }
   ],
   "source": [
    "class NumericSplit\n",
    "  attr_reader :feature_name, :split_point, :paths\n",
    "  def initialize fname, value\n",
    "    @feature_name = fname\n",
    "    @split_point = value\n",
    "    @split_point_str = \"%.2g\" % @split_point\n",
    "    @paths = [\"#{@feature_name} < #{@split_point_str}\", \"#{@feature_name} >= #{@split_point_str}\"]\n",
    "  end\n",
    "  \n",
    "  def to_s\n",
    "    \"Numeric[#{@feature_name} <=> #{@split_point_str}]\"\n",
    "  end\n",
    "\n",
    "  def split_on_feature examples\n",
    "    splits = Hash.new \n",
    "\n",
    "    splits={@paths[0]=>[], @paths[1]=>[]}\n",
    "\n",
    "    examples.each do |item|\n",
    "      if item[\"features\"][@feature_name]\n",
    "        y=item[\"features\"][@feature_name]\n",
    "      else\n",
    "        y=0.0\n",
    "      end\n",
    "      if y<@split_point\n",
    "        splits[@paths[0]] << item\n",
    "      end\n",
    "      if y>=@split_point\n",
    "        splits[@paths[1]] << item\n",
    "      end\n",
    "    end\n",
    "  \n",
    "    return splits\n",
    "  end\n",
    "end"
   ]
  },
  {
   "cell_type": "code",
   "execution_count": 14,
   "metadata": {
    "deletable": false,
    "editable": false,
    "nbgrader": {
     "cell_type": "code",
     "checksum": "7617f6e85966a02d8dfbb1feb16e2151",
     "grade": true,
     "grade_id": "cell-c028592cc3913c8e",
     "locked": true,
     "points": 2,
     "schema_version": 3,
     "solution": false
    }
   },
   "outputs": [
    {
     "name": "stdout",
     "output_type": "stream",
     "text": [
      "Splits\n",
      "[\"petal_length < 1.7\", \"petal_length >= 1.7\"]\n",
      "[44, 106]\n"
     ]
    }
   ],
   "source": [
    "def test_c02859()  \n",
    "  t21_split = NumericSplit.new \"petal_length\", 1.7\n",
    "  \n",
    "  iris = load_iris_dataset()\n",
    "  t21_iris_splits = t21_split.split_on_feature iris[\"data\"]\n",
    "  puts \"Splits\", t21_iris_splits.keys  \n",
    "  split_sizes = t21_iris_splits.values.collect {|v| v.size}\n",
    "  puts split_sizes\n",
    "\n",
    "  \n",
    "  t21_split_sizes = t21_iris_splits.values.collect {|v| v.size}.sort\n",
    "  t21_num_splits = 2\n",
    "  assert_equal t21_num_splits, t21_split_sizes.size\n",
    "  assert_equal 44, t21_split_sizes[0]\n",
    "  assert_equal 106, t21_split_sizes[1]\n",
    "end\n",
    "test_c02859()"
   ]
  },
  {
   "cell_type": "code",
   "execution_count": 15,
   "metadata": {
    "deletable": false,
    "editable": false,
    "nbgrader": {
     "cell_type": "code",
     "checksum": "d89f802d4bc4ffb6111d73f3aacae58a",
     "grade": true,
     "grade_id": "cell-17d8745a2c8c30d1",
     "locked": true,
     "points": 3,
     "schema_version": 3,
     "solution": false,
     "task": false
    }
   },
   "outputs": [],
   "source": [
    "def test_17d874()\n",
    "  iris = load_iris_dataset()\n",
    "  split = NumericSplit.new \"petal_length\", 1.7\n",
    "  t5_iris_splits = split.split_on_feature iris[\"data\"]\n",
    "  t5_split_sizes = t5_iris_splits.values.collect {|v| v.size}.sort\n",
    "\n",
    "  # Checks the information gain for this split\n",
    "  t5_iris_entropy = entropy(class_distribution(iris[\"data\"]))\n",
    "  t5_iris_information_gain = information_gain t5_iris_entropy, t5_iris_splits\n",
    "  assert_in_delta 0.48280104455013506, t5_iris_information_gain, 5e-2\n",
    "end\n",
    "test_17d874()"
   ]
  },
  {
   "cell_type": "markdown",
   "metadata": {},
   "source": [
    "## Question 2.3 (5 Points)\n",
    "\n",
    "Add the ```test``` method to the ```NumericSplit``` which will return a string-valued path, corresponding to one of the values of the ```@paths``` array defined earlier. \n",
    "\n",
    "For example, consider the input as follows:\n",
    "\n",
    "```ruby\n",
    "{\"features\" => {\"petal_length\" => 0.7}}\n",
    "```\n",
    "\n",
    "The ```test``` method should return:\n",
    "\n",
    "```ruby\n",
    "\"petal_length < 1.7\" \n",
    "```\n",
    "\n",
    "Notes:\n",
    "\n",
    "1. If the feature value does not exist for the example, return ```nil```."
   ]
  },
  {
   "cell_type": "code",
   "execution_count": 16,
   "metadata": {
    "deletable": false,
    "nbgrader": {
     "cell_type": "code",
     "checksum": "502f9c9b0ce611914860e8f4bf519670",
     "grade": false,
     "grade_id": "cell-298619bab5be58b0",
     "locked": false,
     "schema_version": 3,
     "solution": true
    }
   },
   "outputs": [
    {
     "data": {
      "text/plain": [
       ":test"
      ]
     },
     "execution_count": 16,
     "metadata": {},
     "output_type": "execute_result"
    }
   ],
   "source": [
    "class NumericSplit\n",
    "  def test example\n",
    "      \n",
    "    if example[\"features\"][@feature_name]\n",
    "      y=example[\"features\"][@feature_name]\n",
    "      if y==nil\n",
    "        return nil\n",
    "      end\n",
    "      if y<@split_point\n",
    "        return @paths[0]\n",
    "      elsif y>=@split_point\n",
    "        return @paths[1]\n",
    "      end\n",
    "    end\n",
    "  \n",
    "  end\n",
    "end"
   ]
  },
  {
   "cell_type": "code",
   "execution_count": 17,
   "metadata": {
    "deletable": false,
    "editable": false,
    "nbgrader": {
     "cell_type": "code",
     "checksum": "ff9adaabb04ed4f2cfa259e0dbe4f1ff",
     "grade": true,
     "grade_id": "cell-64e0d8c09783adc6",
     "locked": true,
     "points": 3,
     "schema_version": 3,
     "solution": false
    }
   },
   "outputs": [],
   "source": [
    "def test_64e0d8()\n",
    "  splitter = NumericSplit.new \"petal_length\", 1.7\n",
    "  t22_x_left = {\"features\" => {\"petal_length\" => 0.7}}\n",
    "  assert_equal splitter.paths[0], splitter.test(t22_x_left), \"< 1.7\"\n",
    "\n",
    "  t22_x_right = {\"features\" => {\"petal_length\" => 1.71}}\n",
    "  assert_equal splitter.paths[1], splitter.test(t22_x_right), \">= 1.7\"\n",
    "\n",
    "  t22_x_right_eq = {\"features\" => {\"petal_length\" => 1.7}}\n",
    "  assert_equal splitter.paths[1], splitter.test(t22_x_right_eq), \"= 1.7\"\n",
    "end\n",
    "test_64e0d8()"
   ]
  },
  {
   "cell_type": "code",
   "execution_count": 18,
   "metadata": {
    "deletable": false,
    "editable": false,
    "nbgrader": {
     "cell_type": "code",
     "checksum": "8fc60db7f68a51c2cac252d4f1c04377",
     "grade": true,
     "grade_id": "cell-cf6969258e36a7eb",
     "locked": true,
     "points": 2,
     "schema_version": 3,
     "solution": false,
     "task": false
    }
   },
   "outputs": [],
   "source": [
    "def test_cf6969()\n",
    "  splitter = NumericSplit.new \"petal_length\", 1.7\n",
    "  x_missing = {\"features\" => {\"petal_width\" => 0.7}}\n",
    "  assert_equal nil, splitter.test(x_missing), \"Handle missing value\"\n",
    "end\n",
    "test_cf6969()"
   ]
  },
  {
   "cell_type": "markdown",
   "metadata": {
    "deletable": false,
    "editable": false,
    "nbgrader": {
     "cell_type": "markdown",
     "checksum": "3c6f192a7a4ad1f64afe22e86769d043",
     "grade": false,
     "grade_id": "cell-078ee76cdeb9a3fb",
     "locked": true,
     "schema_version": 3,
     "solution": false,
     "task": false
    }
   },
   "source": [
    "# Question 3\n",
    "\n",
    "Implement the ```CategoricalSplitter``` and ```NumericSplitter```. A ```Splitter``` checks that a ```Split``` can be applied, creates the ```Split```, and calculates the information gain. Note that the ```matches?``` function is provided for you and determines whether a split can apply. \n",
    "\n",
    "## Question 3.1 (5 points)\n",
    "\n",
    "Implement the ```CategoricalSplit``` class, whose ```create_split``` method which takes the parent node's entropy, some examples and creates a ```CategoricalSplit``` on that feature name. It also calculates the information gain on the split.\n",
    "\n",
    "For example, given a dataset and a feature name of \"job\", this should return the following:\n",
    "\n",
    "```ruby\n",
    "{\"split\" => CategoricalSplit(...), \"information_gain\" => 0.1234}\n",
    "```\n",
    "\n",
    "Notes:\n",
    "1. You should call your ```information_gain``` function here."
   ]
  },
  {
   "cell_type": "code",
   "execution_count": 19,
   "metadata": {
    "deletable": false,
    "nbgrader": {
     "cell_type": "code",
     "checksum": "058c25e0263a6091c6f85b3c65d5cfd2",
     "grade": false,
     "grade_id": "cell-33f9d2801eea0533",
     "locked": false,
     "schema_version": 3,
     "solution": true,
     "task": false
    }
   },
   "outputs": [
    {
     "data": {
      "text/plain": [
       ":create_split"
      ]
     },
     "execution_count": 19,
     "metadata": {},
     "output_type": "execute_result"
    }
   ],
   "source": [
    "class CategoricalSplitter\n",
    "  def matches? examples, feature_name\n",
    "    has_feature = examples.select {|r| r[\"features\"].has_key? feature_name} \n",
    "    return false if has_feature.empty?    \n",
    "    return has_feature.all? do |r| \n",
    "      r[\"features\"].fetch(feature_name, 0.0).is_a?(String)\n",
    "    end\n",
    "  end\n",
    "  \n",
    "  def create_split examples, parent_entropy, feature_name\n",
    "    \n",
    "    if(matches?(examples, feature_name))\n",
    "      categorical_split = CategoricalSplit.new feature_name\n",
    "      splits = categorical_split.split_on_feature examples\n",
    "      ig = information_gain parent_entropy, splits\n",
    "      return {\"split\" => categorical_split, \"information_gain\" => ig}\n",
    "    end\n",
    "     \n",
    "  end\n",
    "  \n",
    "  \n",
    "end"
   ]
  },
  {
   "cell_type": "code",
   "execution_count": 20,
   "metadata": {
    "deletable": false,
    "editable": false,
    "nbgrader": {
     "cell_type": "code",
     "checksum": "0f89bfc28b9b75b940e595162f147715",
     "grade": true,
     "grade_id": "cell-f251f0242af39813",
     "locked": true,
     "points": 5,
     "schema_version": 3,
     "solution": false,
     "task": false
    }
   },
   "outputs": [
    {
     "name": "stdout",
     "output_type": "stream",
     "text": [
      "Split Result:\n",
      "{\"split\"=>#<CategoricalSplit:0x00000000039e7890 @feature_name=\"job\", @path_pattern=\"job == 'skilled'\">, \"information_gain\"=>0.0009269851357646131}\n"
     ]
    }
   ],
   "source": [
    "def test_f251f0()\n",
    "  german_credit = load_german_credit_dataset()\n",
    "  examples = german_credit[\"data\"]\n",
    "  feature_name = \"job\"\n",
    "  \n",
    "  h0 = entropy(class_distribution(examples))\n",
    "  splitter = CategoricalSplitter.new \n",
    "  split_result = splitter.create_split examples, h0, feature_name\n",
    "\n",
    "  puts \"Split Result:\", split_result\n",
    "  \n",
    "  split = split_result[\"split\"]\n",
    "  info_gain = split_result[\"information_gain\"]\n",
    "\n",
    "  assert_not_nil split\n",
    "  assert_in_delta 0.0009269851357646131, info_gain, 1e-2\n",
    "end \n",
    "test_f251f0()"
   ]
  },
  {
   "cell_type": "markdown",
   "metadata": {
    "deletable": false,
    "editable": false,
    "nbgrader": {
     "cell_type": "markdown",
     "checksum": "9653943184d841241ea898a5a9d8ace6",
     "grade": false,
     "grade_id": "cell-188f89d82b6541b5",
     "locked": true,
     "schema_version": 3,
     "solution": false,
     "task": false
    }
   },
   "source": [
    "## Question 3.2 (5 Points\n",
    "\n",
    "Implement the ```NumericSplitter``` class. Given a feature, create_split finds the best feature value and creates the split. This behavior was implemented in a previous assignment, so adapt **your** ```find_split_point_numeric``` method to implement ```create_split```. \n",
    "\n",
    "\n",
    "```ruby\n",
    "{\"split\" => NumericSplit(...), \"information_gain\" => 0.1234}\n",
    "```\n",
    "\n",
    "Notes:\n",
    "1. In previous versions of the ```find_split_point_numeric```, we set missing values to zero. We will do the same thing here. However in the ```matches?``` function, we require at least one non-missing value. \n",
    "1. Return a ```nil``` if there is no available split point."
   ]
  },
  {
   "cell_type": "code",
   "execution_count": null,
   "metadata": {},
   "outputs": [],
   "source": []
  },
  {
   "cell_type": "code",
   "execution_count": 21,
   "metadata": {
    "deletable": false,
    "nbgrader": {
     "cell_type": "code",
     "checksum": "a5c891b6d0ecb171a38bbcce5b3a2d22",
     "grade": false,
     "grade_id": "cell-f21a997a3508866a",
     "locked": false,
     "schema_version": 3,
     "solution": true
    }
   },
   "outputs": [
    {
     "data": {
      "text/plain": [
       ":create_split"
      ]
     },
     "execution_count": 21,
     "metadata": {},
     "output_type": "execute_result"
    }
   ],
   "source": [
    "class NumericSplitter\n",
    "  def matches? examples, feature_name\n",
    "    has_feature = examples.select {|r| r[\"features\"].has_key? feature_name} \n",
    "    return false if has_feature.empty?    \n",
    "    return has_feature.all? do |r| \n",
    "      r[\"features\"].fetch(feature_name, 0.0).is_a?(Numeric)\n",
    "    end\n",
    "  end\n",
    "  \n",
    "  def create_split examples, parent_entropy, feature_name  \n",
    "    \n",
    "    if(matches?(examples, feature_name))\n",
    "\n",
    "      sorted_values = examples.collect {|r| r[\"features\"][feature_name]}.uniq.sort\n",
    "      ig_max=-1\n",
    "      t_max=-1\n",
    "\n",
    "      threshold = []\n",
    "      iG = []\n",
    "      sorted_values.each do |item|\n",
    "        threshold << item\n",
    "        split1 = NumericSplit.new(feature_name, item)\n",
    "        iG << information_gain(parent_entropy, split1.split_on_feature(examples))\n",
    "        if iG.last>ig_max\n",
    "          ig_max=iG.last\n",
    "          t_max=threshold.last\n",
    "        end\n",
    "      end\n",
    "\n",
    "      split = NumericSplit.new feature_name, t_max\n",
    "      ig=information_gain(parent_entropy, split.split_on_feature(examples))\n",
    "\n",
    "      return {\"split\" => split, \"information_gain\" => ig}\n",
    "    \n",
    "    end\n",
    "    \n",
    "  end\n",
    "end"
   ]
  },
  {
   "cell_type": "code",
   "execution_count": 22,
   "metadata": {
    "deletable": false,
    "editable": false,
    "nbgrader": {
     "cell_type": "code",
     "checksum": "e4eb8d75f5872deeeecb2b933ebb8522",
     "grade": true,
     "grade_id": "cell-f350086de28b522b",
     "locked": true,
     "points": 2,
     "schema_version": 3,
     "solution": false,
     "task": false
    }
   },
   "outputs": [],
   "source": [
    "def test_f35008()\n",
    "  iris = load_iris_dataset()\n",
    "  t6_iris_entropy = entropy(class_distribution(iris[\"data\"]))\n",
    "  splitter = NumericSplitter.new \n",
    "  split_result = splitter.create_split iris[\"data\"], t6_iris_entropy, \"sepal_width\"\n",
    "  \n",
    "  split = split_result[\"split\"]\n",
    "  info_gain = split_result[\"information_gain\"]\n",
    "\n",
    "  assert_in_delta 3.4, split.split_point, 1e-2, \"Iris best split\"\n",
    "\n",
    "end\n",
    "test_f35008()"
   ]
  },
  {
   "cell_type": "code",
   "execution_count": 23,
   "metadata": {
    "deletable": false,
    "editable": false,
    "nbgrader": {
     "cell_type": "code",
     "checksum": "5f2c2f97d9d40526f8bcba8241b7423c",
     "grade": true,
     "grade_id": "cell-207f3528bfc6a327",
     "locked": true,
     "points": 2,
     "schema_version": 3,
     "solution": false
    }
   },
   "outputs": [],
   "source": [
    "def test_207f35()\n",
    "  gc = load_german_credit_dataset()\n",
    "  gc_entropy = entropy(class_distribution(gc[\"data\"]))  \n",
    "  splitter = NumericSplitter.new \n",
    "  split_result = splitter.create_split gc[\"data\"], gc_entropy, \"age\"\n",
    "\n",
    "  split = split_result[\"split\"]\n",
    "  info_gain = split_result[\"information_gain\"]\n",
    "  \n",
    "  assert_not_nil split\n",
    "  assert_in_delta 0.007817315714005901, info_gain, 1e-3\n",
    "  assert_in_delta 26.0, split.split_point, 1e-2\n",
    "end \n",
    "test_207f35()"
   ]
  },
  {
   "cell_type": "code",
   "execution_count": 24,
   "metadata": {
    "deletable": false,
    "editable": false,
    "nbgrader": {
     "cell_type": "code",
     "checksum": "94d0895f6b7282dd941bdb1d52f0f05e",
     "grade": true,
     "grade_id": "cell-eedbaec7b3dce537",
     "locked": true,
     "points": 1,
     "schema_version": 3,
     "solution": false,
     "task": false
    }
   },
   "outputs": [],
   "source": [
    "def test_eedbae()\n",
    "  parent_entropy = 1.0\n",
    "  splitter = NumericSplitter.new \n",
    "  empty_examples = []\n",
    "  split_result = splitter.create_split empty_examples, parent_entropy, \"none\"\n",
    "\n",
    "  assert_nil split_result, \"Empty examples\"\n",
    "  \n",
    "  one_example = [{\"features\" => {\"f1\" => 1.0}, \"label\" => 1}]\n",
    "  split_result = splitter.create_split one_example, parent_entropy, \"one\"\n",
    "\n",
    "  assert_nil split_result, \"One example\"\n",
    "end \n",
    "test_eedbae()"
   ]
  },
  {
   "cell_type": "markdown",
   "metadata": {
    "deletable": false,
    "editable": false,
    "nbgrader": {
     "cell_type": "markdown",
     "checksum": "8ba77ac48a6362366a72549dfc41623c",
     "grade": false,
     "grade_id": "cell-1babd97dd77f60e8",
     "locked": true,
     "schema_version": 3,
     "solution": false,
     "task": false
    }
   },
   "source": [
    "## Question 4\n",
    "\n",
    "The core of the decision tree is the ```DecisionNode```, which is used in training and evaluation.\n",
    "\n",
    "During training, the ```DecisionNode``` temporarily holds an array of examples, finds the best split and creates the splits. \n",
    "\n",
    "During evaluation, the node applies the test to find which of its children should be consulted for the leaf node. A leaf node is a node without any children.\n",
    "\n",
    "## Question 4.1 (5 Points)\n",
    "\n",
    "Implement the ```score``` method. When in a leaf node, the score for a particular class is calculated as the class distribution for the training data in that node. Because a decision tree is a multi-class classifier, we need to specify the class label when calling the ```score``` function. You should assume that there is no smoothing so if label isn't in the class distribution, the score is zero.\n",
    "\n",
    "The score is the posterior class distribution given that an example is in the leaf $l$, defined as follows:\n",
    "\n",
    "# $P(c \\mid l) = \\frac{ \\left| \\left\\{x \\mid c(x) = c \\wedge x \\in l \\right\\} \\right| }{ \\left| \\left\\{x\\in l \\right\\} \\right| }$\n",
    "\n",
    "where $c(x)$ is the class label for example $x$."
   ]
  },
  {
   "cell_type": "markdown",
   "metadata": {
    "deletable": false,
    "editable": false,
    "nbgrader": {
     "cell_type": "markdown",
     "checksum": "4117ee848ae9238ddf3cb12fb5702581",
     "grade": false,
     "grade_id": "cell-555cc1d3bb0b56ba",
     "locked": true,
     "schema_version": 3,
     "solution": false,
     "task": false
    }
   },
   "source": [
    "Why is the score function for a leaf returning a constant and does not need to even look at the example?\n",
    "  \n",
    "**A**. Decision tree is overfitting by memorizing the training data and thus will not generalize\n",
    "\n",
    "**B**. The code is wrong and it should be looking at the example\n",
    "\n",
    "**C**. Decision tree assumes that all examples in the leaf have the same class distribution\n",
    "\n",
    "**D**. It does look at the example, but it stores a class member variable so it does not need to be provided as an argument\n",
    "\n",
    "\n",
    "_(Instructions) In the function below, return an array of the upper-case letters indicating your answer (zero or more). For example, if you think that the answers is \"Z\", write the following:_\n",
    "\n",
    "```ruby\n",
    "def answer_ce174b()\n",
    "    %w(Z)\n",
    "end\n",
    "```"
   ]
  },
  {
   "cell_type": "code",
   "execution_count": 25,
   "metadata": {
    "deletable": false,
    "nbgrader": {
     "cell_type": "code",
     "checksum": "8f7fbe334513a3d50e059d3fdbefa887",
     "grade": false,
     "grade_id": "cell-673f8ba76f020649",
     "locked": false,
     "schema_version": 3,
     "solution": true,
     "task": false
    }
   },
   "outputs": [
    {
     "data": {
      "text/plain": [
       ":answer_673f8b"
      ]
     },
     "execution_count": 25,
     "metadata": {},
     "output_type": "execute_result"
    }
   ],
   "source": [
    "def answer_673f8b()\n",
    "  %w(C)\n",
    "end"
   ]
  },
  {
   "cell_type": "code",
   "execution_count": 26,
   "metadata": {
    "deletable": false,
    "editable": false,
    "nbgrader": {
     "cell_type": "code",
     "checksum": "10159e309953d374a1462f29ec25b579",
     "grade": true,
     "grade_id": "cell-ed35ce92365ed86f",
     "locked": true,
     "points": 3,
     "schema_version": 3,
     "solution": false,
     "task": false
    }
   },
   "outputs": [],
   "source": [
    "assert_not_nil answer_673f8b()"
   ]
  },
  {
   "cell_type": "code",
   "execution_count": 27,
   "metadata": {
    "deletable": false,
    "nbgrader": {
     "cell_type": "code",
     "checksum": "d05c523c5692761dd18d41a61175513a",
     "grade": false,
     "grade_id": "cell-b89e3d010587f933",
     "locked": false,
     "schema_version": 3,
     "solution": true,
     "task": false
    }
   },
   "outputs": [
    {
     "data": {
      "text/plain": [
       ":score"
      ]
     },
     "execution_count": 27,
     "metadata": {},
     "output_type": "execute_result"
    }
   ],
   "source": [
    "class DecisionNode\n",
    "  attr_reader :children, :examples, :split, :node_entropy, :node_class_distribution\n",
    "  \n",
    "  def initialize examples\n",
    "    @examples = examples\n",
    "    @node_class_distribution = class_distribution examples    \n",
    "    @node_entropy = entropy (@node_class_distribution)\n",
    "    @children = Hash.new\n",
    "  end\n",
    "  \n",
    "  def is_leaf?\n",
    "    self.children.empty?\n",
    "  end\n",
    "  \n",
    "  def set_split thisSplit\n",
    "    @split=thisSplit\n",
    "  end\n",
    "      \n",
    "  def score positive_class_label\n",
    "    \n",
    "    scores=Hash.new {|h,k| h[k] = 0}\n",
    "\n",
    "    if @node_class_distribution[positive_class_label]==nil\n",
    "      return 0\n",
    "    else return @node_class_distribution[positive_class_label]\n",
    "    end\n",
    "  end\n",
    "\n",
    "end"
   ]
  },
  {
   "cell_type": "code",
   "execution_count": 28,
   "metadata": {
    "deletable": false,
    "editable": false,
    "nbgrader": {
     "cell_type": "code",
     "checksum": "89668082e85831de22e0f7b6058b6c4a",
     "grade": true,
     "grade_id": "cell-42e1b1a28012a7a8",
     "locked": true,
     "points": 2,
     "schema_version": 3,
     "solution": false,
     "task": false
    }
   },
   "outputs": [],
   "source": [
    "def test_42e1b1()\n",
    "  iris = load_iris_dataset()\n",
    "\n",
    "  # Check the first split for iris\n",
    "  examples = iris[\"data\"]\n",
    "  root = DecisionNode.new examples\n",
    "\n",
    "  assert_true root.is_leaf?, \"Single-node root is a leaf\"\n",
    "  \n",
    "  assert_in_delta 0.3333, root.score(0), 1e-3, \"Score for class 0\"\n",
    "  assert_in_delta 0.3333, root.score(1), 1e-3, \"Score for class 1\"\n",
    "  assert_in_delta 0.3333, root.score(2), 1e-3, \"Score for class 2\"\n",
    "  assert_in_delta 0.0, root.score(3), 1e-3, \"Score for class 3 -- there is no class 3\"  \n",
    "end\n",
    "test_42e1b1()"
   ]
  },
  {
   "cell_type": "markdown",
   "metadata": {
    "deletable": false,
    "editable": false,
    "nbgrader": {
     "cell_type": "markdown",
     "checksum": "e338a6cc17b8a1512b43b4f293001d78",
     "grade": false,
     "grade_id": "cell-78df94ed3d421382",
     "locked": true,
     "schema_version": 3,
     "solution": false,
     "task": false
    }
   },
   "source": [
    "## Question 4.2 (10 Points)\n",
    "\n",
    "Add ```all_possible_splits``` to the ```DecisionNode```. This considers an array of feature names and an array of splitters (```CategoricalSplitter``` or ```NumericSplitter```). Next, apply all splitters, if they match, to each feature. Then, apply a set of filters:\n",
    "1. Remove any split which is ```nil```\n",
    "1. Remove any split where the information gain is not strictly $> 0$. \n",
    "\n",
    "Return all possible splits that meet the criteria. \n",
    "\n",
    "For example, given the iris dataset and the ```NumericSplitter```, return the following best splits for each feature:\n",
    "\n",
    "```ruby\n",
    "    [\n",
    "        {\"split\"=>NumericSplit(feature_name: \"petal_width\", split_point: X), \"information_gain\" => 0.636514}, \n",
    "        {\"split\"=>NumericSplit(feature_name: \"petal_length\", split_point: X),  \"information_gain\"=>0.636514},\n",
    "        {\"split\"=>NumericSplit(feature_name: \"sepal_length\", split_point: X), \"information_gain\"=>0.38624},\n",
    "        ...\n",
    "    ]\n",
    "```\n",
    "\n",
    "Note that the result above would be the same if we used passed both the ```CategoricalSplitter``` and ```NumericSplitter``` because only the ```NumericSplitter``` will ```matches?``` features in the iris dataset."
   ]
  },
  {
   "cell_type": "code",
   "execution_count": 29,
   "metadata": {
    "deletable": false,
    "nbgrader": {
     "cell_type": "code",
     "checksum": "1fe6edd2592f5fdd4d65e3bf9f1336d3",
     "grade": false,
     "grade_id": "cell-2c8319f1394cb66e",
     "locked": false,
     "schema_version": 3,
     "solution": true,
     "task": false
    }
   },
   "outputs": [
    {
     "data": {
      "text/plain": [
       ":all_possible_splits"
      ]
     },
     "execution_count": 29,
     "metadata": {},
     "output_type": "execute_result"
    }
   ],
   "source": [
    "class DecisionNode\n",
    "  def all_possible_splits feature_names, splitters\n",
    "    all_splits = []\n",
    "    \n",
    "    splitters.each do |split|\n",
    "      feature_names.each do |item|\n",
    "\n",
    "        split_result = split.create_split @examples, @node_entropy, item\n",
    "        if !split_result or (split_result[\"split\"]==nil and split_result[\"information_gain\"]==nil) \n",
    "          split_result=nil\n",
    "        else \n",
    "          all_splits+=[split_result]\n",
    "        end\n",
    "      end\n",
    "    end\n",
    "\n",
    "    all_splits.delete(nil)\n",
    "    \n",
    "    return all_splits\n",
    "  end\n",
    "end"
   ]
  },
  {
   "cell_type": "code",
   "execution_count": 30,
   "metadata": {
    "deletable": false,
    "editable": false,
    "nbgrader": {
     "cell_type": "code",
     "checksum": "083c59e6c3fd7844e96996a1f8947abb",
     "grade": true,
     "grade_id": "cell-e3c5cb95d7b9a58e",
     "locked": true,
     "points": 5,
     "schema_version": 3,
     "solution": false
    }
   },
   "outputs": [
    {
     "name": "stdout",
     "output_type": "stream",
     "text": [
      "[{\"split\"=>#<NumericSplit:0x0000000003691740 @feature_name=\"petal_width\", @split_point=1.0, @split_point_str=\"1\", @paths=[\"petal_width < 1\", \"petal_width >= 1\"]>, \"information_gain\"=>0.6365141682948128}, {\"split\"=>#<NumericSplit:0x000000000394fe28 @feature_name=\"petal_length\", @split_point=3.0, @split_point_str=\"3\", @paths=[\"petal_length < 3\", \"petal_length >= 3\"]>, \"information_gain\"=>0.6365141682948128}, {\"split\"=>#<NumericSplit:0x0000000003c41848 @feature_name=\"sepal_length\", @split_point=5.6, @split_point_str=\"5.6\", @paths=[\"sepal_length < 5.6\", \"sepal_length >= 5.6\"]>, \"information_gain\"=>0.3862442664692113}, {\"split\"=>#<NumericSplit:0x0000000003b71738 @feature_name=\"sepal_width\", @split_point=3.4, @split_point_str=\"3.4\", @paths=[\"sepal_width < 3.4\", \"sepal_width >= 3.4\"]>, \"information_gain\"=>0.18570201019349364}]\n",
      "Best split\n",
      "{\"split\"=>#<NumericSplit:0x0000000003691740 @feature_name=\"petal_width\", @split_point=1.0, @split_point_str=\"1\", @paths=[\"petal_width < 1\", \"petal_width >= 1\"]>, \"information_gain\"=>0.6365141682948128}\n"
     ]
    }
   ],
   "source": [
    "def test_e3c5cb()\n",
    "  iris = load_iris_dataset()\n",
    "\n",
    "  # Check the first split for iris\n",
    "  feature_names = iris[\"features\"]\n",
    "  examples = iris[\"data\"]\n",
    "  root = DecisionNode.new examples\n",
    "  \n",
    "  splitters = [NumericSplitter.new]\n",
    "  all_splits = root.all_possible_splits feature_names, splitters\n",
    "\n",
    "  assert_equal 4, all_splits.size, \"Calculate all possible splits\"  \n",
    "  sorted_splits = all_splits.sort_by {|split| split[\"information_gain\"]}.reverse\n",
    "  \n",
    "  puts sorted_splits\n",
    "  best_split = sorted_splits.first\n",
    "  \n",
    "  puts \"Best split\", best_split\n",
    "  split = best_split[\"split\"]\n",
    "  info_gain = best_split[\"information_gain\"]\n",
    "\n",
    "  assert_not_nil split\n",
    "  assert_in_delta 0.6365141682948128, info_gain, 1e-2, \"Returns top info gain\"\n",
    "  assert_false %w(petal_length petal_width).index(split.feature_name).nil?, \"Find one of the top features\"\n",
    "end\n",
    "test_e3c5cb()"
   ]
  },
  {
   "cell_type": "code",
   "execution_count": 31,
   "metadata": {
    "deletable": false,
    "editable": false,
    "nbgrader": {
     "cell_type": "code",
     "checksum": "6e599dd21b257cf04b4a47b9999fa12e",
     "grade": true,
     "grade_id": "cell-377c129f75bb5762",
     "locked": true,
     "points": 5,
     "schema_version": 3,
     "solution": false,
     "task": false
    }
   },
   "outputs": [
    {
     "name": "stdout",
     "output_type": "stream",
     "text": [
      "[{\"split\"=>#<CategoricalSplit:0x00000000039c6e88 @feature_name=\"checking_account\", @path_pattern=\"checking_account == '[0,200)'\">, \"information_gain\"=>0.06566796091172744}, {\"split\"=>#<CategoricalSplit:0x000000000393b8d8 @feature_name=\"credit_history\", @path_pattern=\"credit_history == 'critical account'\">, \"information_gain\"=>0.030233554614261138}, {\"split\"=>#<CategoricalSplit:0x0000000002f89790 @feature_name=\"savings\", @path_pattern=\"savings == '[100,500)'\">, \"information_gain\"=>0.01948760776931857}, {\"split\"=>#<CategoricalSplit:0x00000000036cd4c0 @feature_name=\"purpose\", @path_pattern=\"purpose == 'car_used'\">, \"information_gain\"=>0.017254887066567637}, {\"split\"=>#<CategoricalSplit:0x00000000039071c8 @feature_name=\"property\", @path_pattern=\"property == 'other'\">, \"information_gain\"=>0.011773233742666589}, {\"split\"=>#<CategoricalSplit:0x0000000003c066a8 @feature_name=\"job_tenure\", @path_pattern=\"job_tenure == 'unemployed'\">, \"information_gain\"=>0.009081837924813763}, {\"split\"=>#<CategoricalSplit:0x0000000003d43278 @feature_name=\"housing\", @path_pattern=\"housing == 'own'\">, \"information_gain\"=>0.008839835250397332}, {\"split\"=>#<CategoricalSplit:0x00000000036862a0 @feature_name=\"other_installments\", @path_pattern=\"other_installments == 'none'\">, \"information_gain\"=>0.006151729960983343}, {\"split\"=>#<CategoricalSplit:0x0000000003a15718 @feature_name=\"personal_status_gender\", @path_pattern=\"personal_status_gender == 'm_single'\">, \"information_gain\"=>0.004720713347871275}, {\"split\"=>#<CategoricalSplit:0x0000000003948290 @feature_name=\"is_foreign_worker\", @path_pattern=\"is_foreign_worker == 'yes'\">, \"information_gain\"=>0.004036189803978685}, {\"split\"=>#<CategoricalSplit:0x000000000398e420 @feature_name=\"other_debtors\", @path_pattern=\"other_debtors == 'none'\">, \"information_gain\"=>0.00332504153506763}, {\"split\"=>#<CategoricalSplit:0x0000000003b626e8 @feature_name=\"job\", @path_pattern=\"job == 'skilled'\">, \"information_gain\"=>0.0009269851357646131}, {\"split\"=>#<CategoricalSplit:0x00000000039c5df8 @feature_name=\"has_telephone\", @path_pattern=\"has_telephone == 'none'\">, \"information_gain\"=>0.0006679582223527714}]\n",
      "Best split\n",
      "{\"split\"=>#<CategoricalSplit:0x00000000039c6e88 @feature_name=\"checking_account\", @path_pattern=\"checking_account == '[0,200)'\">, \"information_gain\"=>0.06566796091172744}\n"
     ]
    }
   ],
   "source": [
    "def test_377c12()\n",
    "  german_credit = load_german_credit_dataset()\n",
    "\n",
    "  # Check the first split for iris\n",
    "  feature_names = german_credit[\"features\"]\n",
    "  examples = german_credit[\"data\"]\n",
    "  root = DecisionNode.new examples\n",
    "  \n",
    "  splitters = [CategoricalSplitter.new]\n",
    "  all_splits = root.all_possible_splits feature_names, splitters\n",
    "\n",
    "  assert_equal 13, all_splits.size, \"Calculate all possible splits\"  \n",
    "  sorted_splits = all_splits.sort_by {|split| split[\"information_gain\"]}.reverse\n",
    "  \n",
    "  puts sorted_splits\n",
    "  best_split = sorted_splits.first\n",
    "  \n",
    "  puts \"Best split\", best_split\n",
    "  split = best_split[\"split\"]\n",
    "  info_gain = best_split[\"information_gain\"]\n",
    "\n",
    "  assert_not_nil split\n",
    "  assert_in_delta 0.06566796091172744, info_gain, 1e-2, \"Returns top info gain\"\n",
    "  assert_false %w(checking_account).index(split.feature_name).nil?, \"Find one of the top features\"\n",
    "end\n",
    "test_377c12()"
   ]
  },
  {
   "cell_type": "markdown",
   "metadata": {
    "deletable": false,
    "editable": false,
    "nbgrader": {
     "cell_type": "markdown",
     "checksum": "cff46238bbc7975184969fb803879a6f",
     "grade": false,
     "grade_id": "cell-7179f911ecdf2c09",
     "locked": true,
     "schema_version": 3,
     "solution": false,
     "task": false
    }
   },
   "source": [
    "## Question 4.3 (5 Points)\n",
    "\n",
    "Given a specific split, possibly created from ```all_possible_splits``` above, implement ```split_node!```. Ruby's convention of adding a \"!\" to a method indicates that the method changes the state of the object. In this case, the ```split_node!``` method calls the ```split_on_feature``` method of the split and creates children ```DecisionNode```s. The ```@children``` member variable is a hash which maps each path calculated by the split to ```DecisionNode```. \n",
    "\n",
    "Given input examples as follows:\n",
    "```ruby\n",
    "[\n",
    "    {\"features\" => {\"f1\" => \"a\", \"f2\" => \"d\"}},\n",
    "    {\"features\" => {\"f1\" => \"a\", \"f2\" => \"c\"}},\n",
    "    {\"features\" => {\"f1\" => \"b\", \"f2\" => \"c\"}}\n",
    "]\n",
    "```\n",
    "\n",
    "Children should be as follows:\n",
    "```ruby\n",
    "{\n",
    "    \"f1 == 'a'\" => DecisionNode(...),\n",
    "    \"f1 == 'b'\" => DecisionNode(...)\n",
    "}\n",
    "```\n",
    "\n",
    "Note:\n",
    "1. The ```@examples``` data held by the node is freed after splitting to reduce memory consumption."
   ]
  },
  {
   "cell_type": "code",
   "execution_count": 32,
   "metadata": {
    "deletable": false,
    "nbgrader": {
     "cell_type": "code",
     "checksum": "0a914c580d8617341332a4957c2cdfcd",
     "grade": false,
     "grade_id": "cell-24ceddd081fb1a2e",
     "locked": false,
     "schema_version": 3,
     "solution": true,
     "task": false
    }
   },
   "outputs": [
    {
     "data": {
      "text/plain": [
       ":split_node!"
      ]
     },
     "execution_count": 32,
     "metadata": {},
     "output_type": "execute_result"
    }
   ],
   "source": [
    "class DecisionNode\n",
    "  def split_node! split    \n",
    "    @split = split\n",
    "    \n",
    "    mySplit=@split.split_on_feature(@examples)\n",
    "\n",
    "    mySplit.each do |key,array|\n",
    "      @children[key]=DecisionNode.new(array)\n",
    "    end\n",
    "\n",
    "    #@examples = nil\n",
    "  end\n",
    "end"
   ]
  },
  {
   "cell_type": "code",
   "execution_count": 33,
   "metadata": {
    "deletable": false,
    "editable": false,
    "nbgrader": {
     "cell_type": "code",
     "checksum": "4f7b4fd02a527379a51bfe840a2bd996",
     "grade": true,
     "grade_id": "cell-cfc3609bda0990e0",
     "locked": true,
     "points": 5,
     "schema_version": 3,
     "solution": false,
     "task": false
    }
   },
   "outputs": [
    {
     "name": "stdout",
     "output_type": "stream",
     "text": [
      "{\"f1 == 'a'\"=>#<DecisionNode:0x00000000036d5918 @examples=[{\"features\"=>{\"f1\"=>\"a\", \"f2\"=>\"d\"}}, {\"features\"=>{\"f1\"=>\"a\", \"f2\"=>\"c\"}}], @node_class_distribution={nil=>1.0}, @node_entropy=0.0, @children={}>, \"f1 == 'b'\"=>#<DecisionNode:0x00000000036d56e8 @examples=[{\"features\"=>{\"f1\"=>\"b\", \"f2\"=>\"c\"}}], @node_class_distribution={nil=>1.0}, @node_entropy=0.0, @children={}>}\n"
     ]
    }
   ],
   "source": [
    "def test_cfc360()  \n",
    "  # Check the first split for iris\n",
    "  example1 = {\"features\" => {\"f1\" => \"a\", \"f2\" => \"d\"}}\n",
    "  example2 = {\"features\" => {\"f1\" => \"a\", \"f2\" => \"c\"}}\n",
    "  example3 = {\"features\" => {\"f1\" => \"b\", \"f2\" => \"c\"}}\n",
    "  \n",
    "  examples = [example1, example2, example3]\n",
    "  \n",
    "  root = DecisionNode.new examples  \n",
    "  split = CategoricalSplit.new \"f1\"  \n",
    "  root.split_node! split\n",
    "\n",
    "  children = root.children\n",
    "  puts children\n",
    "  assert_equal 2, children.size, \"Creates 2 children\"  \n",
    "  assert_equal 2, children[\"f1 == 'a'\"].examples.size, \"Child a\"\n",
    "  assert_equal 1, children[\"f1 == 'b'\"].examples.size, \"Child b\"\n",
    "end\n",
    "test_cfc360()"
   ]
  },
  {
   "cell_type": "markdown",
   "metadata": {
    "deletable": false,
    "editable": false,
    "nbgrader": {
     "cell_type": "markdown",
     "checksum": "799b93c5e982bbfb34e2b5d64554d26b",
     "grade": false,
     "grade_id": "cell-a0af33e996f54cfe",
     "locked": true,
     "schema_version": 3,
     "solution": false,
     "task": false
    }
   },
   "source": [
    "# Question 5\n",
    "\n",
    "With the ```DecisionNode``` complete, we are ready to build the decision tree trainer. The decision tree is an example of a ```Learner``` which we are defining below. The ```Learner``` interface will enable us to compare several different models and combinations of models. For this and all future assignments, we will implement new algorithms as a ```Learner```. The interface is defined below. Note that Ruby does not have an explicit interface, so we use a mixin module."
   ]
  },
  {
   "cell_type": "code",
   "execution_count": 34,
   "metadata": {
    "deletable": false,
    "editable": false,
    "nbgrader": {
     "cell_type": "code",
     "checksum": "3f282971d46c9b5fe0acc03fb107159e",
     "grade": false,
     "grade_id": "cell-cce9b80f2d3a55d3",
     "locked": true,
     "schema_version": 3,
     "solution": false,
     "task": false
    }
   },
   "outputs": [
    {
     "data": {
      "text/plain": [
       ":evaluate"
      ]
     },
     "execution_count": 34,
     "metadata": {},
     "output_type": "execute_result"
    }
   ],
   "source": [
    "module Learner  \n",
    "  attr_reader :parameters\n",
    "  def train train_dataset    \n",
    "  end\n",
    "  def predict example\n",
    "  end\n",
    "  def evaluate eval_dataset\n",
    "  end\n",
    "end\n",
    "  "
   ]
  },
  {
   "cell_type": "markdown",
   "metadata": {
    "deletable": false,
    "editable": false,
    "nbgrader": {
     "cell_type": "markdown",
     "checksum": "9b548645cabfc93d8321c52a9dd72f07",
     "grade": false,
     "grade_id": "cell-f362b19828c5a06d",
     "locked": true,
     "schema_version": 3,
     "solution": false,
     "task": false
    }
   },
   "source": [
    "The contract for a ```Learner``` is defined as follows:\n",
    "\n",
    "* ```parameters```: A hash containing parameter values used for training. Keep only model hyper-parameters in this hash. \n",
    "* ```train```: Trains the model and keeps any model state in the object. Post training, the learner can be used as a trained model. The same learner can be re-trained if needed.\n",
    "* ```predict```: Predicts on a single example, expects the model to be trained first. Assumes the model is a binary classifier and returns a single score related to the positive class. \n",
    "* ```evaluate```: Evaluates the model on a full dataset and returns an array of (score, label) pairs.\n",
    "\n",
    "\n",
    "In ```evaluate```, the output is as follows:\n",
    "\n",
    "```ruby\n",
    "[\n",
    "    [0.12345, 0],\n",
    "    [0.4562, 1]\n",
    "]\n",
    "````\n",
    "\n",
    "where the first entry in each element the score (output of predict) and the second is the label. Use 1 for positive and 0 for negative regardless of how the class is defined in the dataset."
   ]
  },
  {
   "cell_type": "markdown",
   "metadata": {
    "deletable": false,
    "editable": false,
    "nbgrader": {
     "cell_type": "markdown",
     "checksum": "d6b6823a48d03ef5aa7cd099fe57e9db",
     "grade": false,
     "grade_id": "cell-57a269e9fad749ee",
     "locked": true,
     "schema_version": 3,
     "solution": false,
     "task": false
    }
   },
   "source": [
    "## Question 5.1 (10 points)\n",
    "\n",
    "The ```train``` method for a decison tree is simple.  It calls a recursive method ```grow_tree``` which starts at a ```parent``` and proceeds to grow the parent by considering all possible splits, take the best, and create children. Then, it tries to grow each child on that child's subset of the data. \n",
    "\n",
    "As a recursive function, ```grow_tree``` has 3 termination criteria:\n",
    "\n",
    "1. The tree is too deep--no more remaining depth\n",
    "2. No more splits available\n",
    "3. No more than ```min_size``` examples in the parent.\n",
    "\n",
    "A summary method method has been provided for you to print the resulting tree. For a ```max_depth``` of 1, this should produce a single leaf node. On the iris dataset, this is as follows:\n",
    "\n",
    "```json\n",
    "{\n",
    "  \"leaf\": true,\n",
    "  \"class_distribution\": {\n",
    "    \"1\": 0.3333333333333333,\n",
    "    \"2\": 0.3333333333333333,\n",
    "    \"0\": 0.3333333333333333\n",
    "  }\n",
    "}\n",
    "```\n",
    "\n",
    "For a ```max_depth``` of 2, this should produce a tree with exactly one split. On the iris dataset, this is as follows:\n",
    "\n",
    "```json\n",
    "{\n",
    "  \"leaf\": false,\n",
    "  \"split\": \"Numeric[petal_length <=> 3]\",\n",
    "  \"children\": {\n",
    "    \"petal_length < 3\": {\n",
    "      \"leaf\": true,\n",
    "      \"class_distribution\": {\n",
    "        \"0\": 1.0\n",
    "      }\n",
    "    },\n",
    "    \"petal_length >= 3\": {\n",
    "      \"leaf\": true,\n",
    "      \"class_distribution\": {\n",
    "        \"1\": 0.5,\n",
    "        \"2\": 0.5\n",
    "      }\n",
    "    }\n",
    "  }\n",
    "}\n",
    "```\n",
    "\n",
    "Notes:\n",
    "1. We are implementing a fixed height (depth) tree. This is necessary both to prevent overflow but we will also use it for testing. Keep in mind that depth is **not** a typical hyperparameter. We are just using it to simplify the calculation. In practice, set the depth to a really large number and use the ```min_size``` as the true hyperparameter."
   ]
  },
  {
   "cell_type": "code",
   "execution_count": 35,
   "metadata": {
    "deletable": false,
    "nbgrader": {
     "cell_type": "code",
     "checksum": "9e3bb08ec9e35929c00c072635c580e0",
     "grade": false,
     "grade_id": "cell-f4cc8bda6b019d43",
     "locked": false,
     "schema_version": 3,
     "solution": true
    }
   },
   "outputs": [
    {
     "data": {
      "text/plain": [
       ":grow_tree"
      ]
     },
     "execution_count": 35,
     "metadata": {},
     "output_type": "execute_result"
    }
   ],
   "source": [
    "class DecisionTreeLearner\n",
    "  include DecisionTreeHelper\n",
    "  include Learner  \n",
    "  attr_reader :root\n",
    "  \n",
    "  def initialize positive_class_label, min_size: 10, max_depth: 50\n",
    "    @splitters = [CategoricalSplitter.new, NumericSplitter.new]\n",
    "    @parameters = {\"min_size\" => min_size, \"max_depth\" => max_depth}\n",
    "    @positive_class_label = positive_class_label\n",
    "  end\n",
    "    \n",
    "  def train dataset\n",
    "    @feature_names = dataset[\"features\"]\n",
    "    examples = dataset[\"data\"]\n",
    "    @root = DecisionNode.new examples\n",
    "    grow_tree @root, @parameters[\"max_depth\"]\n",
    "  end\n",
    "\n",
    "  def grow_tree parent, remaining_depth\n",
    "\n",
    "    if parent.examples.size<@parameters[\"min_size\"] or !@feature_names.size or remaining_depth<1\n",
    "      return\n",
    "    end\n",
    "   \n",
    "    all_splits=parent.all_possible_splits(@feature_names,@splitters)\n",
    "    sorted_splits=all_splits.sort_by{|split| split[\"information_gain\"]}.reverse\n",
    "    \n",
    "    best_split=sorted_splits.first\n",
    "    split=best_split[\"split\"]\n",
    "    \n",
    "    decreased_depth=remaining_depth-1\n",
    "    parent.set_split(split)\n",
    "    \n",
    "    if (decreased_depth>0)\n",
    "      parent.split_node! (split)\n",
    "      children=parent.children\n",
    "      children.each do |child|\n",
    "        decreased_depth=remaining_depth-1\n",
    "        child_decision_node=child[1]\n",
    "        grow_tree(child_decision_node,decreased_depth)\n",
    "      end\n",
    "    end\n",
    "  end\n",
    "    \n",
    "end"
   ]
  },
  {
   "cell_type": "code",
   "execution_count": 36,
   "metadata": {
    "deletable": false,
    "editable": false,
    "nbgrader": {
     "cell_type": "code",
     "checksum": "f90bdf96c23882b1f9012e51184edc30",
     "grade": true,
     "grade_id": "cell-594f6e1cceee3c21",
     "locked": true,
     "points": 3,
     "schema_version": 3,
     "solution": false
    }
   },
   "outputs": [
    {
     "name": "stdout",
     "output_type": "stream",
     "text": [
      "Root Only Tree\n",
      "{\n",
      "  \"leaf\": true,\n",
      "  \"class_distribution\": {\n",
      "    \"1\": 0.3333333333333333,\n",
      "    \"2\": 0.3333333333333333,\n",
      "    \"0\": 0.3333333333333333\n",
      "  }\n",
      "}\n"
     ]
    }
   ],
   "source": [
    "def test_594f6e()\n",
    "  iris = load_iris_dataset()\n",
    "  \n",
    "  model = DecisionTreeLearner.new 1, min_size: 10, max_depth: 1\n",
    "  model.train iris\n",
    "  tree = model.root\n",
    "\n",
    "  puts \"Root Only Tree\", model.to_s\n",
    "\n",
    "  assert_true tree.children.empty?\n",
    "  assert_true tree.is_leaf?\n",
    "end\n",
    "\n",
    "test_594f6e()"
   ]
  },
  {
   "cell_type": "code",
   "execution_count": 37,
   "metadata": {
    "deletable": false,
    "editable": false,
    "nbgrader": {
     "cell_type": "code",
     "checksum": "febf96990bc2c8814698240d97cca227",
     "grade": true,
     "grade_id": "cell-1c728f1b16cfed44",
     "locked": true,
     "points": 3,
     "schema_version": 3,
     "solution": false
    }
   },
   "outputs": [
    {
     "name": "stdout",
     "output_type": "stream",
     "text": [
      "Two-level Tree\n",
      "{\n",
      "  \"leaf\": false,\n",
      "  \"split\": \"Numeric[petal_width <=> 1]\",\n",
      "  \"children\": {\n",
      "    \"petal_width < 1\": {\n",
      "      \"leaf\": true,\n",
      "      \"class_distribution\": {\n",
      "        \"0\": 1.0\n",
      "      }\n",
      "    },\n",
      "    \"petal_width >= 1\": {\n",
      "      \"leaf\": true,\n",
      "      \"class_distribution\": {\n",
      "        \"1\": 0.5,\n",
      "        \"2\": 0.5\n",
      "      }\n",
      "    }\n",
      "  }\n",
      "}\n"
     ]
    }
   ],
   "source": [
    "def test_1c728f()\n",
    "  iris = load_iris_dataset()\n",
    "  model = DecisionTreeLearner.new 1, min_size: 10, max_depth: 2\n",
    "  model.train iris\n",
    "  root = model.root\n",
    "\n",
    "  puts \"Two-level Tree\", model.to_s\n",
    "\n",
    "  assert_false root.is_leaf?\n",
    "  assert_not_nil root.split\n",
    "  assert_equal 2, root.children.size\n",
    "  assert_true(root.children.values.all? {|leaf| leaf.is_leaf?})\n",
    "end\n",
    "test_1c728f()"
   ]
  },
  {
   "cell_type": "code",
   "execution_count": 38,
   "metadata": {
    "deletable": false,
    "editable": false,
    "nbgrader": {
     "cell_type": "code",
     "checksum": "cf1cc3d8a5461c93c49128b4431f0eb6",
     "grade": true,
     "grade_id": "cell-1e9f1b0f04d4bac4",
     "locked": true,
     "points": 4,
     "schema_version": 3,
     "solution": false
    }
   },
   "outputs": [
    {
     "name": "stdout",
     "output_type": "stream",
     "text": [
      "Multi-level Tree\n",
      "{\n",
      "  \"leaf\": false,\n",
      "  \"split\": \"Numeric[petal_width <=> 1]\",\n",
      "  \"children\": {\n",
      "    \"petal_width < 1\": {\n",
      "      \"leaf\": false,\n",
      "      \"split\": \"Numeric[petal_width <=> 0.1]\",\n",
      "      \"children\": {\n",
      "        \"petal_width < 0.1\": {\n",
      "          \"leaf\": true,\n",
      "          \"class_distribution\": {\n",
      "          }\n",
      "        },\n",
      "        \"petal_width >= 0.1\": {\n",
      "          \"leaf\": false,\n",
      "          \"split\": \"Numeric[petal_width <=> 0.1]\",\n",
      "          \"children\": {\n",
      "            \"petal_width < 0.1\": {\n",
      "              \"leaf\": true,\n",
      "              \"class_distribution\": {\n",
      "              }\n",
      "            },\n",
      "            \"petal_width >= 0.1\": {\n",
      "              \"leaf\": false,\n",
      "              \"split\": \"Numeric[petal_width <=> 0.1]\",\n",
      "              \"children\": {\n",
      "                \"petal_width < 0.1\": {\n",
      "                  \"leaf\": true,\n",
      "                  \"class_distribution\": {\n",
      "                  }\n",
      "                },\n",
      "                \"petal_width >= 0.1\": {\n",
      "                  \"leaf\": false,\n",
      "                  \"split\": \"Numeric[petal_width <=> 0.1]\",\n",
      "                  \"children\": {\n",
      "                    \"petal_width < 0.1\": {\n",
      "                      \"leaf\": true,\n",
      "                      \"class_distribution\": {\n",
      "                      }\n",
      "                    },\n",
      "                    \"petal_width >= 0.1\": {\n",
      "                      \"leaf\": false,\n",
      "                      \"split\": \"Numeric[petal_width <=> 0.1]\",\n",
      "                      \"children\": {\n",
      "                        \"petal_width < 0.1\": {\n",
      "                          \"leaf\": true,\n",
      "                          \"class_distribution\": {\n",
      "                          }\n",
      "                        },\n",
      "                        \"petal_width >= 0.1\": {\n",
      "                          \"leaf\": false,\n",
      "                          \"split\": \"Numeric[petal_width <=> 0.1]\",\n",
      "                          \"children\": {\n",
      "                            \"petal_width < 0.1\": {\n",
      "                              \"leaf\": true,\n",
      "                              \"class_distribution\": {\n",
      "                              }\n",
      "                            },\n",
      "                            \"petal_width >= 0.1\": {\n",
      "                              \"leaf\": false,\n",
      "                              \"split\": \"Numeric[petal_width <=> 0.1]\",\n",
      "                              \"children\": {\n",
      "                                \"petal_width < 0.1\": {\n",
      "                                  \"leaf\": true,\n",
      "                                  \"class_distribution\": {\n",
      "                                  }\n",
      "                                },\n",
      "                                \"petal_width >= 0.1\": {\n",
      "                                  \"leaf\": false,\n",
      "                                  \"split\": \"Numeric[petal_width <=> 0.1]\",\n",
      "                                  \"children\": {\n",
      "                                    \"petal_width < 0.1\": {\n",
      "                                      \"leaf\": true,\n",
      "                                      \"class_distribution\": {\n",
      "                                      }\n",
      "                                    },\n",
      "                                    \"petal_width >= 0.1\": {\n",
      "                                      \"leaf\": true,\n",
      "                                      \"class_distribution\": {\n",
      "                                        \"0\": 1.0\n",
      "                                      }\n",
      "                                    }\n",
      "                                  }\n",
      "                                }\n",
      "                              }\n",
      "                            }\n",
      "                          }\n",
      "                        }\n",
      "                      }\n",
      "                    }\n",
      "                  }\n",
      "                }\n",
      "              }\n",
      "            }\n",
      "          }\n",
      "        }\n",
      "      }\n",
      "    },\n",
      "    \"petal_width >= 1\": {\n",
      "      \"leaf\": false,\n",
      "      \"split\": \"Numeric[petal_width <=> 1.8]\",\n",
      "      \"children\": {\n",
      "        \"petal_width < 1.8\": {\n",
      "          \"leaf\": false,\n",
      "          \"split\": \"Numeric[petal_length <=> 5]\",\n",
      "          \"children\": {\n",
      "            \"petal_length < 5\": {\n",
      "              \"leaf\": false,\n",
      "              \"split\": \"Numeric[petal_width <=> 1.7]\",\n",
      "              \"children\": {\n",
      "                \"petal_width < 1.7\": {\n",
      "                  \"leaf\": false,\n",
      "                  \"split\": \"Numeric[petal_width <=> 1]\",\n",
      "                  \"children\": {\n",
      "                    \"petal_width < 1\": {\n",
      "                      \"leaf\": true,\n",
      "                      \"class_distribution\": {\n",
      "                      }\n",
      "                    },\n",
      "                    \"petal_width >= 1\": {\n",
      "                      \"leaf\": false,\n",
      "                      \"split\": \"Numeric[petal_width <=> 1]\",\n",
      "                      \"children\": {\n",
      "                        \"petal_width < 1\": {\n",
      "                          \"leaf\": true,\n",
      "                          \"class_distribution\": {\n",
      "                          }\n",
      "                        },\n",
      "                        \"petal_width >= 1\": {\n",
      "                          \"leaf\": false,\n",
      "                          \"split\": \"Numeric[petal_width <=> 1]\",\n",
      "                          \"children\": {\n",
      "                            \"petal_width < 1\": {\n",
      "                              \"leaf\": true,\n",
      "                              \"class_distribution\": {\n",
      "                              }\n",
      "                            },\n",
      "                            \"petal_width >= 1\": {\n",
      "                              \"leaf\": false,\n",
      "                              \"split\": \"Numeric[petal_width <=> 1]\",\n",
      "                              \"children\": {\n",
      "                                \"petal_width < 1\": {\n",
      "                                  \"leaf\": true,\n",
      "                                  \"class_distribution\": {\n",
      "                                  }\n",
      "                                },\n",
      "                                \"petal_width >= 1\": {\n",
      "                                  \"leaf\": false,\n",
      "                                  \"split\": \"Numeric[petal_width <=> 1]\",\n",
      "                                  \"children\": {\n",
      "                                    \"petal_width < 1\": {\n",
      "                                      \"leaf\": true,\n",
      "                                      \"class_distribution\": {\n",
      "                                      }\n",
      "                                    },\n",
      "                                    \"petal_width >= 1\": {\n",
      "                                      \"leaf\": true,\n",
      "                                      \"class_distribution\": {\n",
      "                                        \"1\": 1.0\n",
      "                                      }\n",
      "                                    }\n",
      "                                  }\n",
      "                                }\n",
      "                              }\n",
      "                            }\n",
      "                          }\n",
      "                        }\n",
      "                      }\n",
      "                    }\n",
      "                  }\n",
      "                },\n",
      "                \"petal_width >= 1.7\": {\n",
      "                  \"leaf\": true,\n",
      "                  \"class_distribution\": {\n",
      "                    \"2\": 1.0\n",
      "                  }\n",
      "                }\n",
      "              }\n",
      "            },\n",
      "            \"petal_length >= 5\": {\n",
      "              \"leaf\": true,\n",
      "              \"class_distribution\": {\n",
      "                \"1\": 0.3333333333333333,\n",
      "                \"2\": 0.6666666666666666\n",
      "              }\n",
      "            }\n",
      "          }\n",
      "        },\n",
      "        \"petal_width >= 1.8\": {\n",
      "          \"leaf\": false,\n",
      "          \"split\": \"Numeric[petal_length <=> 4.9]\",\n",
      "          \"children\": {\n",
      "            \"petal_length < 4.9\": {\n",
      "              \"leaf\": true,\n",
      "              \"class_distribution\": {\n",
      "                \"2\": 0.6666666666666666,\n",
      "                \"1\": 0.3333333333333333\n",
      "              }\n",
      "            },\n",
      "            \"petal_length >= 4.9\": {\n",
      "              \"leaf\": false,\n",
      "              \"split\": \"Numeric[petal_width <=> 1.8]\",\n",
      "              \"children\": {\n",
      "                \"petal_width < 1.8\": {\n",
      "                  \"leaf\": true,\n",
      "                  \"class_distribution\": {\n",
      "                  }\n",
      "                },\n",
      "                \"petal_width >= 1.8\": {\n",
      "                  \"leaf\": false,\n",
      "                  \"split\": \"Numeric[petal_width <=> 1.8]\",\n",
      "                  \"children\": {\n",
      "                    \"petal_width < 1.8\": {\n",
      "                      \"leaf\": true,\n",
      "                      \"class_distribution\": {\n",
      "                      }\n",
      "                    },\n",
      "                    \"petal_width >= 1.8\": {\n",
      "                      \"leaf\": false,\n",
      "                      \"split\": \"Numeric[petal_width <=> 1.8]\",\n",
      "                      \"children\": {\n",
      "                        \"petal_width < 1.8\": {\n",
      "                          \"leaf\": true,\n",
      "                          \"class_distribution\": {\n",
      "                          }\n",
      "                        },\n",
      "                        \"petal_width >= 1.8\": {\n",
      "                          \"leaf\": false,\n",
      "                          \"split\": \"Numeric[petal_width <=> 1.8]\",\n",
      "                          \"children\": {\n",
      "                            \"petal_width < 1.8\": {\n",
      "                              \"leaf\": true,\n",
      "                              \"class_distribution\": {\n",
      "                              }\n",
      "                            },\n",
      "                            \"petal_width >= 1.8\": {\n",
      "                              \"leaf\": false,\n",
      "                              \"split\": \"Numeric[petal_width <=> 1.8]\",\n",
      "                              \"children\": {\n",
      "                                \"petal_width < 1.8\": {\n",
      "                                  \"leaf\": true,\n",
      "                                  \"class_distribution\": {\n",
      "                                  }\n",
      "                                },\n",
      "                                \"petal_width >= 1.8\": {\n",
      "                                  \"leaf\": false,\n",
      "                                  \"split\": \"Numeric[petal_width <=> 1.8]\",\n",
      "                                  \"children\": {\n",
      "                                    \"petal_width < 1.8\": {\n",
      "                                      \"leaf\": true,\n",
      "                                      \"class_distribution\": {\n",
      "                                      }\n",
      "                                    },\n",
      "                                    \"petal_width >= 1.8\": {\n",
      "                                      \"leaf\": true,\n",
      "                                      \"class_distribution\": {\n",
      "                                        \"2\": 1.0\n",
      "                                      }\n",
      "                                    }\n",
      "                                  }\n",
      "                                }\n",
      "                              }\n",
      "                            }\n",
      "                          }\n",
      "                        }\n",
      "                      }\n",
      "                    }\n",
      "                  }\n",
      "                }\n",
      "              }\n",
      "            }\n",
      "          }\n",
      "        }\n",
      "      }\n",
      "    }\n",
      "  }\n",
      "}\n"
     ]
    }
   ],
   "source": [
    "def test_1e9f1b()\n",
    "  iris = load_iris_dataset()\n",
    "  model = DecisionTreeLearner.new 1, min_size: 25, max_depth: 10\n",
    "  model.train iris\n",
    "  root = model.root\n",
    "\n",
    "  puts \"Multi-level Tree\", model.to_s\n",
    "\n",
    "  assert_false root.is_leaf?\n",
    "  assert_not_nil root.split\n",
    "  assert_equal 2, root.children.size\n",
    "end\n",
    "test_1e9f1b()"
   ]
  },
  {
   "cell_type": "markdown",
   "metadata": {
    "deletable": false,
    "editable": false,
    "nbgrader": {
     "cell_type": "markdown",
     "checksum": "2a52fcdaf84645749e804cd30c406925",
     "grade": false,
     "grade_id": "cell-c9fbdb1913c42526",
     "locked": true,
     "schema_version": 3,
     "solution": false,
     "task": false
    }
   },
   "source": [
    "## Question 5.2 (5 Points)\n",
    "\n",
    "Implement ```find_leaf``` which maps an example to an appropriate leaf node. By recursively applying the split tests, find the leaf node. That leaf will be used to calculate the score. \n",
    "\n",
    "The ```find_leaf``` method is recursive given a node. It has 2 termination conditions:\n",
    "\n",
    "1. Node is a leaf\n",
    "2. Node would have applied a split but there is no child. This happens if a new categorical value was added.\n"
   ]
  },
  {
   "cell_type": "code",
   "execution_count": 39,
   "metadata": {
    "deletable": false,
    "nbgrader": {
     "cell_type": "code",
     "checksum": "c95011d7beb39d6c46bd91ab476b17e1",
     "grade": false,
     "grade_id": "cell-b7f75a7e794733cc",
     "locked": false,
     "schema_version": 3,
     "solution": true
    }
   },
   "outputs": [
    {
     "data": {
      "text/plain": [
       ":find_leaf"
      ]
     },
     "execution_count": 39,
     "metadata": {},
     "output_type": "execute_result"
    }
   ],
   "source": [
    "class DecisionTreeLearner\n",
    "  attr_accessor :positive_class_label\n",
    "  def predict example\n",
    "    leaf = find_leaf @root, example\n",
    "    return leaf.score @positive_class_label\n",
    "  end\n",
    "\n",
    "  def evaluate eval_dataset\n",
    "    examples = eval_dataset[\"data\"]\n",
    "    examples.map do |example|\n",
    "      score = predict(example)\n",
    "      label = example[\"label\"] == @positive_class_label ? 1 : 0\n",
    "      [score, label]\n",
    "    end\n",
    "  end\n",
    "\n",
    "def find_leaf node, example\n",
    "    \n",
    "    if(node.is_leaf?)\n",
    "      return node\n",
    "    end\n",
    "      \n",
    "    children = node.children\n",
    "    node_split = node.split\n",
    "\n",
    "    children.each do |child_node|\n",
    "      condition = child_node[0]\n",
    "      child_decision_node = child_node[1]\n",
    "      test = node_split.test(example)\n",
    "      if(condition.eql?(test))\n",
    "        return find_leaf(child_decision_node, example)\n",
    "      end\n",
    "    end\n",
    "    return node\n",
    "  end\n",
    "end"
   ]
  },
  {
   "cell_type": "code",
   "execution_count": 40,
   "metadata": {
    "deletable": false,
    "editable": false,
    "nbgrader": {
     "cell_type": "code",
     "checksum": "5e78c74aa3f54a0f30c77f52e94f0446",
     "grade": true,
     "grade_id": "cell-e35c4e066990eb1a",
     "locked": true,
     "points": 5,
     "schema_version": 3,
     "solution": false
    }
   },
   "outputs": [],
   "source": [
    "def test_e35c4e()\n",
    "  iris = load_iris_dataset()\n",
    "  \n",
    "  ##Force decision tree to only have 'petal_length' feature\n",
    "  iris[\"features\"] = %w(petal_length)\n",
    "  \n",
    "  learner = DecisionTreeLearner.new 1, min_size: 10, max_depth: 2\n",
    "  learner.train iris  \n",
    "  \n",
    "  x1 = {\"features\" => {\"petal_length\" => 1.2}}\n",
    "  assert_in_delta 0.0, learner.predict(x1), 1e-3, \"example 1, class 1\"\n",
    "\n",
    "  x2 = {\"features\" => {\"petal_length\" => 3.1}}\n",
    "  assert_in_delta 0.5, learner.predict(x2), 1e-3, \"example 2, class 1\"\n",
    "  \n",
    "  learner.positive_class_label = 0\n",
    "  x3 = {\"features\" => {\"petal_length\" => 1.2}}\n",
    "  assert_in_delta 1.0, learner.predict(x3), 1e-3, \"example 3, class 0\"\n",
    "end\n",
    "\n",
    "test_e35c4e()"
   ]
  },
  {
   "cell_type": "markdown",
   "metadata": {
    "deletable": false,
    "editable": false,
    "nbgrader": {
     "cell_type": "markdown",
     "checksum": "3f6c0b68f944d2f956fabaee7ad6cb81",
     "grade": false,
     "grade_id": "cell-8a58b6952de67091",
     "locked": true,
     "schema_version": 3,
     "solution": false,
     "task": false
    }
   },
   "source": [
    "## Question 5.3 (5 Points)\n",
    "\n",
    "We introduce a ```Metric``` interface (mixin) which we will use to evaluate the performance of models. Here, we will implement the ```AUCMetric``` which calculates the AUC for a classifier. We would actually like to plot the entire ROC curve, so you will implement the ```roc_curve``` function which will return the false positive, true positive, and AUC values to be used the plot the curve.\n",
    "\n",
    "The return format for the ```roc_curve``` function is defined as follows:\n",
    "\n",
    "```ruby\n",
    "#False positive rates\n",
    "fp_rates = [0.0, 0.01, 0.02, ..., 1.0]\n",
    "\n",
    "#True positive rates\n",
    "tp_rates = [0.0, 0.01, 0.02, ..., 1.0]\n",
    "\n",
    "#AUC Value\n",
    "auc = 0.5\n",
    "\n",
    "return [fp, tp, auc]\n",
    "```\n",
    "\n",
    "When plotted, you should see a curve like this:\n",
    "\n",
    "![example_roc_curve](./roc_curve.png)\n",
    "\n",
    "\n"
   ]
  },
  {
   "cell_type": "code",
   "execution_count": 41,
   "metadata": {
    "deletable": false,
    "editable": false,
    "nbgrader": {
     "cell_type": "code",
     "checksum": "4b0406672f837f902370e02050a0f3d7",
     "grade": false,
     "grade_id": "cell-6272acb620024e6c",
     "locked": true,
     "schema_version": 3,
     "solution": false,
     "task": false
    }
   },
   "outputs": [
    {
     "data": {
      "text/plain": [
       ":apply"
      ]
     },
     "execution_count": 41,
     "metadata": {},
     "output_type": "execute_result"
    }
   ],
   "source": [
    "module Metric\n",
    "  def apply scores\n",
    "  end\n",
    "end"
   ]
  },
  {
   "cell_type": "code",
   "execution_count": 42,
   "metadata": {},
   "outputs": [
    {
     "data": {
      "text/plain": [
       ":false_positive"
      ]
     },
     "execution_count": 42,
     "metadata": {},
     "output_type": "execute_result"
    }
   ],
   "source": [
    "def false_positive(scores, t)\n",
    "\n",
    "  false_positive=0\n",
    "  false_negative=0\n",
    "  true_positive=0\n",
    "  true_negative=0\n",
    "  total=0\n",
    "  scores.each do |item|\n",
    "    next if item==nil\n",
    "    if item[0]<t and item[1]!=1.0\n",
    "      true_negative+=1.0\n",
    "    elsif item[0]>=t and item[1]==1.0\n",
    "      true_positive+=1.0\n",
    "    elsif item[0]>=t and item[1]!=1.0\n",
    "      false_positive+=1.0\n",
    "    elsif item[0]<t and item[1]==1.0\n",
    "      false_negative+=1.0\n",
    "    end \n",
    "  end\n",
    "  \n",
    "  return (false_positive)/((true_negative+false_positive))\n",
    "end"
   ]
  },
  {
   "cell_type": "code",
   "execution_count": 43,
   "metadata": {},
   "outputs": [
    {
     "data": {
      "text/plain": [
       ":true_positive"
      ]
     },
     "execution_count": 43,
     "metadata": {},
     "output_type": "execute_result"
    }
   ],
   "source": [
    "def true_positive(scores, t)\n",
    "  false_positive=0\n",
    "  false_negative=0\n",
    "  true_positive=0\n",
    "  true_negative=0\n",
    "  total=0\n",
    "  scores.each do |item|\n",
    "    next if item==nil\n",
    "    if item[0]<t and item[1]!=1.0\n",
    "      true_negative+=1.0\n",
    "    elsif item[0]>=t and item[1]==1.0\n",
    "      true_positive+=1.0\n",
    "    elsif item[0]>=t and item[1]!=1.0\n",
    "      false_positive+=1.0\n",
    "    elsif item[0]<t and item[1]==1.0\n",
    "      false_negative+=1.0\n",
    "    end \n",
    "  end\n",
    "      \n",
    "  return (true_positive)/(true_positive+false_negative)\n",
    "end"
   ]
  },
  {
   "cell_type": "code",
   "execution_count": 47,
   "metadata": {
    "deletable": false,
    "nbgrader": {
     "cell_type": "code",
     "checksum": "55a999a5e2f90dac8056a015dc953d4a",
     "grade": false,
     "grade_id": "cell-504889267a2e5097",
     "locked": false,
     "schema_version": 3,
     "solution": true,
     "task": false
    }
   },
   "outputs": [
    {
     "data": {
      "text/plain": [
       ":apply"
      ]
     },
     "execution_count": 47,
     "metadata": {},
     "output_type": "execute_result"
    }
   ],
   "source": [
    "class AUCMetric \n",
    "  include Metric\n",
    "  def roc_curve(scores)\n",
    "\n",
    "    max = scores[0][0]\n",
    "    min = scores[0][0]\n",
    "\n",
    "    (scores.size).times do |i|\n",
    "      if(max < scores[i][0])\n",
    "        max = scores[i][0]\n",
    "      end\n",
    "      if(min > scores[i][0])\n",
    "        min = scores[i][0]\n",
    "      end\n",
    "    end\n",
    "\n",
    "    cutCount = 100\n",
    "    auc = 0.0\n",
    "    prevTPositive = 1.0\n",
    "    prevFPositive = 1.0\n",
    "    t = min\n",
    "    tIncr = (max-min)/cutCount.to_f\n",
    "\n",
    "    arrayfp=[]\n",
    "    arraytp=[]\n",
    "\n",
    "   false_positive(scores, t)\n",
    "    cutCount.times do |i|\n",
    "      t += tIncr\n",
    "      arrayfp << false_positive(scores, t)\n",
    "      arraytp << true_positive(scores, t)\n",
    "    end\n",
    "\n",
    "    cutCount = 100\n",
    "    auc = 0.0\n",
    "    prevTPositive = 1.0\n",
    "    prevFPositive = 1.0\n",
    "    t = min\n",
    "    tIncr = (max-min)/cutCount.to_f\n",
    "    \n",
    "    cutCount.times do |i|\n",
    "      t += tIncr\n",
    "      auc += (-0.5)*(true_positive(scores, t) + prevTPositive)*(false_positive(scores, t) - prevFPositive)\n",
    "      prevTPositive = true_positive(scores, t)\n",
    "      prevFPositive = false_positive(scores, t)\n",
    "    end\n",
    "\n",
    "    return [arrayfp, arraytp, auc]\n",
    "  end\n",
    "  \n",
    "  def apply scores\n",
    "    fp, tp, auc = roc_curve scores\n",
    "    return auc\n",
    "  end\n",
    "end"
   ]
  },
  {
   "cell_type": "code",
   "execution_count": 48,
   "metadata": {
    "deletable": false,
    "editable": false,
    "nbgrader": {
     "cell_type": "code",
     "checksum": "8139a73fdbf0b7c2688a1fee1265635c",
     "grade": true,
     "grade_id": "cell-99112cc385990357",
     "locked": true,
     "points": 5,
     "schema_version": 3,
     "solution": false,
     "task": false
    }
   },
   "outputs": [
    {
     "name": "stdout",
     "output_type": "stream",
     "text": [
      "AUC = 0.7983285714285713\n"
     ]
    },
    {
     "data": {
      "text/html": [
       "<div id='vis-212d5026-298a-4a08-b672-247f39aa07a9'></div>\n",
       "<script>\n",
       "(function(){\n",
       "    var render = function(){\n",
       "        var model = {\"panes\":[{\"diagrams\":[{\"type\":\"line\",\"options\":{\"x\":\"x\",\"y\":\"y\"},\"data\":\"ef5a2270-7eb3-4ac6-8d1b-94f86935669e\"},{\"type\":\"line\",\"options\":{\"x\":\"data0\",\"y\":\"data1\",\"color\":\"gray\"},\"data\":\"b875202f-ff9c-48b5-bff9-3c136b38343e\"}],\"options\":{\"x_label\":\"False Positive Rate\",\"y_label\":\"True Positive Rate\",\"zoom\":true,\"width\":700,\"xrange\":[0.0,1],\"yrange\":[0.0,1.0]}}],\"data\":{\"ef5a2270-7eb3-4ac6-8d1b-94f86935669e\":[{\"x\":0.9533333333333334,\"y\":1.0},{\"x\":0.9533333333333334,\"y\":1.0},{\"x\":0.9533333333333334,\"y\":1.0},{\"x\":0.9533333333333334,\"y\":1.0},{\"x\":0.9533333333333334,\"y\":1.0},{\"x\":0.9533333333333334,\"y\":1.0},{\"x\":0.9533333333333334,\"y\":1.0},{\"x\":0.9533333333333334,\"y\":1.0},{\"x\":0.9533333333333334,\"y\":1.0},{\"x\":0.9533333333333334,\"y\":1.0},{\"x\":0.9533333333333334,\"y\":1.0},{\"x\":0.9533333333333334,\"y\":1.0},{\"x\":0.9533333333333334,\"y\":1.0},{\"x\":0.9533333333333334,\"y\":1.0},{\"x\":0.9533333333333334,\"y\":1.0},{\"x\":0.9533333333333334,\"y\":1.0},{\"x\":0.9533333333333334,\"y\":1.0},{\"x\":0.9533333333333334,\"y\":1.0},{\"x\":0.9533333333333334,\"y\":1.0},{\"x\":0.94,\"y\":0.9985714285714286},{\"x\":0.94,\"y\":0.9985714285714286},{\"x\":0.94,\"y\":0.9985714285714286},{\"x\":0.94,\"y\":0.9985714285714286},{\"x\":0.9066666666666666,\"y\":0.9942857142857143},{\"x\":0.8766666666666667,\"y\":0.99},{\"x\":0.8766666666666667,\"y\":0.99},{\"x\":0.8766666666666667,\"y\":0.99},{\"x\":0.8233333333333334,\"y\":0.9814285714285714},{\"x\":0.8066666666666666,\"y\":0.9785714285714285},{\"x\":0.8066666666666666,\"y\":0.9785714285714285},{\"x\":0.8066666666666666,\"y\":0.9785714285714285},{\"x\":0.8066666666666666,\"y\":0.9785714285714285},{\"x\":0.8066666666666666,\"y\":0.9785714285714285},{\"x\":0.8066666666666666,\"y\":0.9785714285714285},{\"x\":0.8066666666666666,\"y\":0.9785714285714285},{\"x\":0.6,\"y\":0.93},{\"x\":0.6,\"y\":0.93},{\"x\":0.6,\"y\":0.93},{\"x\":0.6,\"y\":0.93},{\"x\":0.6,\"y\":0.93},{\"x\":0.6,\"y\":0.93},{\"x\":0.6,\"y\":0.93},{\"x\":0.6,\"y\":0.93},{\"x\":0.6,\"y\":0.93},{\"x\":0.6,\"y\":0.93},{\"x\":0.6,\"y\":0.93},{\"x\":0.6,\"y\":0.93},{\"x\":0.6,\"y\":0.93},{\"x\":0.5333333333333333,\"y\":0.9028571428571428},{\"x\":0.5266666666666666,\"y\":0.9},{\"x\":0.5266666666666666,\"y\":0.9},{\"x\":0.4533333333333333,\"y\":0.8671428571428571},{\"x\":0.4533333333333333,\"y\":0.8671428571428571},{\"x\":0.4533333333333333,\"y\":0.8671428571428571},{\"x\":0.4533333333333333,\"y\":0.8671428571428571},{\"x\":0.4533333333333333,\"y\":0.8671428571428571},{\"x\":0.4533333333333333,\"y\":0.8671428571428571},{\"x\":0.4533333333333333,\"y\":0.8671428571428571},{\"x\":0.4533333333333333,\"y\":0.8671428571428571},{\"x\":0.4533333333333333,\"y\":0.8671428571428571},{\"x\":0.4533333333333333,\"y\":0.8671428571428571},{\"x\":0.4533333333333333,\"y\":0.8671428571428571},{\"x\":0.39666666666666667,\"y\":0.8271428571428572},{\"x\":0.39666666666666667,\"y\":0.8271428571428572},{\"x\":0.38,\"y\":0.8142857142857143},{\"x\":0.38,\"y\":0.8142857142857143},{\"x\":0.37333333333333335,\"y\":0.8085714285714286},{\"x\":0.37333333333333335,\"y\":0.8085714285714286},{\"x\":0.37333333333333335,\"y\":0.8085714285714286},{\"x\":0.37333333333333335,\"y\":0.8085714285714286},{\"x\":0.37333333333333335,\"y\":0.8085714285714286},{\"x\":0.36,\"y\":0.7942857142857143},{\"x\":0.31666666666666665,\"y\":0.7442857142857143},{\"x\":0.17666666666666667,\"y\":0.58},{\"x\":0.17,\"y\":0.5714285714285714},{\"x\":0.17,\"y\":0.5714285714285714},{\"x\":0.17,\"y\":0.5714285714285714},{\"x\":0.12333333333333334,\"y\":0.5014285714285714},{\"x\":0.12333333333333334,\"y\":0.5014285714285714},{\"x\":0.11,\"y\":0.4785714285714286},{\"x\":0.11,\"y\":0.4785714285714286},{\"x\":0.11,\"y\":0.4785714285714286},{\"x\":0.1,\"y\":0.4585714285714286},{\"x\":0.1,\"y\":0.4585714285714286},{\"x\":0.023333333333333334,\"y\":0.2742857142857143},{\"x\":0.023333333333333334,\"y\":0.2742857142857143},{\"x\":0.023333333333333334,\"y\":0.2742857142857143},{\"x\":0.023333333333333334,\"y\":0.2742857142857143},{\"x\":0.006666666666666667,\"y\":0.22},{\"x\":0.006666666666666667,\"y\":0.22},{\"x\":0.006666666666666667,\"y\":0.22},{\"x\":0.006666666666666667,\"y\":0.22},{\"x\":0.006666666666666667,\"y\":0.22},{\"x\":0.006666666666666667,\"y\":0.22},{\"x\":0.006666666666666667,\"y\":0.22},{\"x\":0.006666666666666667,\"y\":0.22},{\"x\":0.0,\"y\":0.1457142857142857},{\"x\":0.0,\"y\":0.1457142857142857},{\"x\":0.0,\"y\":0.1457142857142857},{\"x\":0.0,\"y\":0.0}],\"b875202f-ff9c-48b5-bff9-3c136b38343e\":[{\"data0\":0,\"data1\":0},{\"data0\":1,\"data1\":1}]},\"extension\":[]}\n",
       "        var id_name = '#vis-212d5026-298a-4a08-b672-247f39aa07a9';\n",
       "        Nyaplot.core.parse(model, id_name);\n",
       "\n",
       "        require(['downloadable'], function(downloadable){\n",
       "          var svg = d3.select(id_name).select(\"svg\");\n",
       "\t  if(!svg.empty())\n",
       "\t    svg.call(downloadable().filename('fig'));\n",
       "\t});\n",
       "    };\n",
       "    if(window['Nyaplot']==undefined){\n",
       "        window.addEventListener('load_nyaplot', render, false);\n",
       "\treturn;\n",
       "    } else {\n",
       "       render();\n",
       "    }\n",
       "})();\n",
       "</script>\n"
      ],
      "text/plain": [
       "#<Nyaplot::Frame:0x0000000003805360 @properties={:panes=>[#<Nyaplot::Plot:0x000000000392df08 @properties={:diagrams=>[#<Nyaplot::Diagram:0x0000000003678858 @properties={:type=>:line, :options=>{:x=>:x, :y=>:y}, :data=>\"ef5a2270-7eb3-4ac6-8d1b-94f86935669e\"}, @xrange=[0.0, 0.9533333333333334], @yrange=[0.0, 1.0]>, #<Nyaplot::Diagram:0x0000000003805f90 @properties={:type=>:line, :options=>{:x=>\"data0\", :y=>\"data1\", :color=>:gray}, :data=>\"b875202f-ff9c-48b5-bff9-3c136b38343e\"}, @xrange=[0, 1], @yrange=[0, 1]>], :options=>{:x_label=>\"False Positive Rate\", :y_label=>\"True Positive Rate\", :zoom=>true, :width=>700, :xrange=>[0.0, 1], :yrange=>[0.0, 1.0]}}>], :data=>{\"ef5a2270-7eb3-4ac6-8d1b-94f86935669e\"=>#<Nyaplot::DataFrame:0x00000000036803c8 @name=\"ef5a2270-7eb3-4ac6-8d1b-94f86935669e\", @rows=[{:x=>0.9533333333333334, :y=>1.0}, {:x=>0.9533333333333334, :y=>1.0}, {:x=>0.9533333333333334, :y=>1.0}, {:x=>0.9533333333333334, :y=>1.0}, {:x=>0.9533333333333334, :y=>1.0}, {:x=>0.9533333333333334, :y=>1.0}, {:x=>0.9533333333333334, :y=>1.0}, {:x=>0.9533333333333334, :y=>1.0}, {:x=>0.9533333333333334, :y=>1.0}, {:x=>0.9533333333333334, :y=>1.0}, {:x=>0.9533333333333334, :y=>1.0}, {:x=>0.9533333333333334, :y=>1.0}, {:x=>0.9533333333333334, :y=>1.0}, {:x=>0.9533333333333334, :y=>1.0}, {:x=>0.9533333333333334, :y=>1.0}, {:x=>0.9533333333333334, :y=>1.0}, {:x=>0.9533333333333334, :y=>1.0}, {:x=>0.9533333333333334, :y=>1.0}, {:x=>0.9533333333333334, :y=>1.0}, {:x=>0.94, :y=>0.9985714285714286}, {:x=>0.94, :y=>0.9985714285714286}, {:x=>0.94, :y=>0.9985714285714286}, {:x=>0.94, :y=>0.9985714285714286}, {:x=>0.9066666666666666, :y=>0.9942857142857143}, {:x=>0.8766666666666667, :y=>0.99}, {:x=>0.8766666666666667, :y=>0.99}, {:x=>0.8766666666666667, :y=>0.99}, {:x=>0.8233333333333334, :y=>0.9814285714285714}, {:x=>0.8066666666666666, :y=>0.9785714285714285}, {:x=>0.8066666666666666, :y=>0.9785714285714285}, {:x=>0.8066666666666666, :y=>0.9785714285714285}, {:x=>0.8066666666666666, :y=>0.9785714285714285}, {:x=>0.8066666666666666, :y=>0.9785714285714285}, {:x=>0.8066666666666666, :y=>0.9785714285714285}, {:x=>0.8066666666666666, :y=>0.9785714285714285}, {:x=>0.6, :y=>0.93}, {:x=>0.6, :y=>0.93}, {:x=>0.6, :y=>0.93}, {:x=>0.6, :y=>0.93}, {:x=>0.6, :y=>0.93}, {:x=>0.6, :y=>0.93}, {:x=>0.6, :y=>0.93}, {:x=>0.6, :y=>0.93}, {:x=>0.6, :y=>0.93}, {:x=>0.6, :y=>0.93}, {:x=>0.6, :y=>0.93}, {:x=>0.6, :y=>0.93}, {:x=>0.6, :y=>0.93}, {:x=>0.5333333333333333, :y=>0.9028571428571428}, {:x=>0.5266666666666666, :y=>0.9}, {:x=>0.5266666666666666, :y=>0.9}, {:x=>0.4533333333333333, :y=>0.8671428571428571}, {:x=>0.4533333333333333, :y=>0.8671428571428571}, {:x=>0.4533333333333333, :y=>0.8671428571428571}, {:x=>0.4533333333333333, :y=>0.8671428571428571}, {:x=>0.4533333333333333, :y=>0.8671428571428571}, {:x=>0.4533333333333333, :y=>0.8671428571428571}, {:x=>0.4533333333333333, :y=>0.8671428571428571}, {:x=>0.4533333333333333, :y=>0.8671428571428571}, {:x=>0.4533333333333333, :y=>0.8671428571428571}, {:x=>0.4533333333333333, :y=>0.8671428571428571}, {:x=>0.4533333333333333, :y=>0.8671428571428571}, {:x=>0.39666666666666667, :y=>0.8271428571428572}, {:x=>0.39666666666666667, :y=>0.8271428571428572}, {:x=>0.38, :y=>0.8142857142857143}, {:x=>0.38, :y=>0.8142857142857143}, {:x=>0.37333333333333335, :y=>0.8085714285714286}, {:x=>0.37333333333333335, :y=>0.8085714285714286}, {:x=>0.37333333333333335, :y=>0.8085714285714286}, {:x=>0.37333333333333335, :y=>0.8085714285714286}, {:x=>0.37333333333333335, :y=>0.8085714285714286}, {:x=>0.36, :y=>0.7942857142857143}, {:x=>0.31666666666666665, :y=>0.7442857142857143}, {:x=>0.17666666666666667, :y=>0.58}, {:x=>0.17, :y=>0.5714285714285714}, {:x=>0.17, :y=>0.5714285714285714}, {:x=>0.17, :y=>0.5714285714285714}, {:x=>0.12333333333333334, :y=>0.5014285714285714}, {:x=>0.12333333333333334, :y=>0.5014285714285714}, {:x=>0.11, :y=>0.4785714285714286}, {:x=>0.11, :y=>0.4785714285714286}, {:x=>0.11, :y=>0.4785714285714286}, {:x=>0.1, :y=>0.4585714285714286}, {:x=>0.1, :y=>0.4585714285714286}, {:x=>0.023333333333333334, :y=>0.2742857142857143}, {:x=>0.023333333333333334, :y=>0.2742857142857143}, {:x=>0.023333333333333334, :y=>0.2742857142857143}, {:x=>0.023333333333333334, :y=>0.2742857142857143}, {:x=>0.006666666666666667, :y=>0.22}, {:x=>0.006666666666666667, :y=>0.22}, {:x=>0.006666666666666667, :y=>0.22}, {:x=>0.006666666666666667, :y=>0.22}, {:x=>0.006666666666666667, :y=>0.22}, {:x=>0.006666666666666667, :y=>0.22}, {:x=>0.006666666666666667, :y=>0.22}, {:x=>0.006666666666666667, :y=>0.22}, {:x=>0.0, :y=>0.1457142857142857}, {:x=>0.0, :y=>0.1457142857142857}, {:x=>0.0, :y=>0.1457142857142857}, {:x=>0.0, :y=>0.0}]>, \"b875202f-ff9c-48b5-bff9-3c136b38343e\"=>#<Nyaplot::DataFrame:0x0000000003806eb8 @name=\"b875202f-ff9c-48b5-bff9-3c136b38343e\", @rows=[{:data0=>0, :data1=>0}, {:data0=>1, :data1=>1}]>}, :extension=>[]}>"
      ]
     },
     "metadata": {},
     "output_type": "display_data"
    }
   ],
   "source": [
    "def test_99112c()\n",
    "  german_credit = load_german_credit_dataset()\n",
    "  examples = german_credit[\"data\"]\n",
    "  learner = DecisionTreeLearner.new 1, min_size: 100, max_depth: 10\n",
    "  learner.train german_credit\n",
    "\n",
    "  scores = learner.evaluate german_credit\n",
    "  metric = AUCMetric.new\n",
    "  fp, tp, auc = metric.roc_curve scores\n",
    "  \n",
    "  puts \"AUC = #{auc}\"\n",
    "  \n",
    "  plot = Daru::DataFrame.new({x: fp, y: tp}).plot(type: :line, x: :x, y: :y) do |plot, diagram|\n",
    "    plot.x_label \"False Positive Rate\"\n",
    "    plot.y_label \"True Positive Rate\"\n",
    "  end\n",
    "  plot.add(:line, [0,1], [0,1]).color(:gray)\n",
    "  plot.show()\n",
    "end\n",
    "\n",
    "test_99112c()"
   ]
  },
  {
   "cell_type": "markdown",
   "metadata": {
    "deletable": false,
    "editable": false,
    "nbgrader": {
     "cell_type": "markdown",
     "checksum": "f076b222ffaca31b0ffffbe8d82561e1",
     "grade": false,
     "grade_id": "cell-2b4f09e104139353",
     "locked": true,
     "schema_version": 3,
     "solution": false,
     "task": false
    }
   },
   "source": [
    "# Question 6\n",
    "\n",
    "Using the height-limited Decision Tree Learner as a weak learner, we will now implement the ```RandomForestLearner```. The random forest classifier requires a seed, which is provided below.\n",
    "\n",
    "## Question 6.1 (10 points)\n",
    " \n",
    "The Random Forest algorithm combines Bagging with random features. Given a dataset, we will first identify a random subset of 3 features from the dataset. \n",
    "\n",
    "\n",
    "Next, implement Bagging which is to create bootstrap sample. A bootstrap sample is a sample of the same size as the original dataset, but each example is sampled with uniform probability with replacement. Sampling with replacement will result in some of the examples appearing more than once in the final dataset. \n",
    "\n",
    "The ```random_forest_dataset``` should return a new dataset where ```data``` and ```features``` have been changed based on the bootstrapping and random features logic.\n",
    "\n",
    "For example, given a dataset with 4 features, we expect a dataset with 3 features, defined as follows:\n",
    "\n",
    "```ruby\n",
    "{\n",
    "    \"labels\" => [...],\n",
    "    \"features\" => [\"x2\", \"x3\", \"x4\"],\n",
    "    \"data\" => [\n",
    "        {\"id\"=>92, \"features\"=>{\"x2\"=>92, \"x4\"=>92, \"x3\"=>92}}, \n",
    "        {\"id\"=>26, \"features\"=>{\"x2\"=>26, \"x4\"=>26, \"x3\"=>26}}, \n",
    "        {\"id\"=>33, \"features\"=>{\"x2\"=>33, \"x4\"=>33, \"x3\"=>33}}, \n",
    "        ...\n",
    "    ]\n",
    "}\n",
    "```\n",
    "\n",
    "\n",
    "Notes:\n",
    "\n",
    "1. Because we are using random numbers it is important that you call ```rng.rand(...)``` the right number of times. Using some other random number generator or even just one extra call will cause the tests not to pass. See Ruby's [Random](https://ruby-doc.org/core-2.5.4/Random.html) class for more details."
   ]
  },
  {
   "cell_type": "code",
   "execution_count": 49,
   "metadata": {
    "deletable": false,
    "editable": false,
    "nbgrader": {
     "cell_type": "code",
     "checksum": "0b56ef101a7763a0806325479e04526c",
     "grade": false,
     "grade_id": "cell-12abb205167f0536",
     "locked": true,
     "schema_version": 3,
     "solution": false,
     "task": false
    }
   },
   "outputs": [
    {
     "data": {
      "text/plain": [
       "3073016676488"
      ]
     },
     "execution_count": 49,
     "metadata": {},
     "output_type": "execute_result"
    }
   ],
   "source": [
    "SEED = 'eifjcchdivlbcbflbgblfgukbtkhvejvtkevfbtetjnl'.to_i(26)"
   ]
  },
  {
   "cell_type": "code",
   "execution_count": 50,
   "metadata": {
    "deletable": false,
    "nbgrader": {
     "cell_type": "code",
     "checksum": "36119ff4461996207ef5c6959b9d3c46",
     "grade": false,
     "grade_id": "cell-e6d59279d8311177",
     "locked": false,
     "schema_version": 3,
     "solution": true,
     "task": false
    }
   },
   "outputs": [
    {
     "data": {
      "text/plain": [
       ":random_forest_dataset"
      ]
     },
     "execution_count": 50,
     "metadata": {},
     "output_type": "execute_result"
    }
   ],
   "source": [
    "def random_features_subset dataset, rng\n",
    "  num_features = 3\n",
    "  feature_list = dataset[\"features\"].sample(num_features, random: rng)  \n",
    "end\n",
    "\n",
    "def random_forest_dataset dataset, rng\n",
    "  feature_list = random_features_subset dataset, rng\n",
    "  examples = dataset[\"data\"]\n",
    "  new_dataset = dataset.clone\n",
    "  \n",
    "  bootstrap=[]\n",
    "  \n",
    "  dataset[\"data\"].size.times do |i|\n",
    "\n",
    "    temp=dataset[\"data\"][rng.rand(dataset[\"data\"].size)].clone\n",
    "    temp[\"features\"]=temp[\"features\"].clone\n",
    "    temp[\"features\"].each do |key,array|\n",
    "      temp[\"features\"][key]=temp[\"features\"][key].clone\n",
    "      if !(feature_list.include?(key))\n",
    "        temp[\"features\"].delete(key)\n",
    "      end\n",
    "    end\n",
    "    bootstrap << temp\n",
    "  end\n",
    "  \n",
    "  new_dataset[\"features\"]=feature_list\n",
    "  new_dataset[\"data\"]=bootstrap\n",
    "  \n",
    "  return new_dataset\n",
    "end"
   ]
  },
  {
   "cell_type": "code",
   "execution_count": 51,
   "metadata": {
    "deletable": false,
    "editable": false,
    "nbgrader": {
     "cell_type": "code",
     "checksum": "fceca27e2286fb2f5c463e971e0212a1",
     "grade": true,
     "grade_id": "cell-61dee6ac3d9fdd07",
     "locked": true,
     "points": 3,
     "schema_version": 3,
     "solution": false,
     "task": false
    }
   },
   "outputs": [
    {
     "name": "stdout",
     "output_type": "stream",
     "text": [
      "Sampled features\n",
      "[\"x2\", \"x3\", \"x4\"]\n"
     ]
    }
   ],
   "source": [
    "def test_61dee6()\n",
    "  rng = Random.new(SEED)\n",
    "  \n",
    "  examples = Array.new 100 do |id|\n",
    "    {\"id\" => id, \"features\" => {\"x1\" => id * 1.0, \"x2\" => id, \"x3\" => id, \"x4\" => id}}\n",
    "  end\n",
    "  dataset = {\"features\" => %w(x1 x2 x3 x4), \"data\" => examples}\n",
    "  \n",
    "  rf_dataset = random_forest_dataset dataset, rng\n",
    "  \n",
    "  features = rf_dataset[\"features\"].sort\n",
    "  puts \"Sampled features\", features\n",
    "  \n",
    "  assert_equal 3, features.size\n",
    "  assert_equal \"x2\", features[0]  \n",
    "  assert_equal \"x4\", features[2]  \n",
    "end\n",
    "test_61dee6()"
   ]
  },
  {
   "cell_type": "code",
   "execution_count": 52,
   "metadata": {
    "deletable": false,
    "editable": false,
    "nbgrader": {
     "cell_type": "code",
     "checksum": "30fcf121d959447a3b54d9e293386fb9",
     "grade": true,
     "grade_id": "cell-e261031db8d4a28e",
     "locked": true,
     "points": 4,
     "schema_version": 3,
     "solution": false,
     "task": false
    }
   },
   "outputs": [
    {
     "name": "stdout",
     "output_type": "stream",
     "text": [
      "Sampled features\n",
      "[\"x2\", \"x3\", \"x4\"]\n",
      "[{\"id\"=>92, \"features\"=>{\"x2\"=>0.7382309556062473, \"x3\"=>0.4902051538880293, \"x4\"=>0.8321339621196061}}, {\"id\"=>26, \"features\"=>{\"x2\"=>0.9058511884689645, \"x3\"=>0.6480159304053194, \"x4\"=>0.14862808413212236}}, {\"id\"=>33, \"features\"=>{\"x2\"=>0.8779817106571303, \"x3\"=>0.5935117988751606, \"x4\"=>0.052513163798546425}}, {\"id\"=>23, \"features\"=>{\"x2\"=>0.8127461649463698, \"x3\"=>0.9818758966334915, \"x4\"=>0.11281946181217362}}, {\"id\"=>55, \"features\"=>{\"x2\"=>0.6965391901897178, \"x3\"=>0.37992498973029476, \"x4\"=>0.059710713558340456}}]\n",
      "Expect ID 91 is duplicated\n"
     ]
    }
   ],
   "source": [
    "def test_e26103()\n",
    "  rng = Random.new(SEED)\n",
    "  rng2 = Random.new(SEED)  \n",
    "  examples = Array.new 100 do |id|\n",
    "    {\"id\" => id, \"features\" => {\"x1\" => rng2.rand, \"x2\" => rng2.rand, \"x3\" => rng2.rand, \"x4\" => rng2.rand}}\n",
    "  end\n",
    "  dataset = {\"features\" => %w(x1 x2 x3 x4), \"data\" => examples}\n",
    "  \n",
    "  rf_dataset = random_forest_dataset dataset, rng\n",
    "  \n",
    "  features = rf_dataset[\"features\"].sort\n",
    "  puts \"Sampled features\", features\n",
    "  \n",
    "  rf_examples = rf_dataset[\"data\"]\n",
    "  puts rf_examples[0,5]\n",
    "  assert_equal 100, rf_examples.size\n",
    "  assert_equal 92, rf_examples[0][\"id\"]  \n",
    "  assert_in_delta 0.7382309556062473, rf_examples[0][\"features\"][\"x2\"], 1e-3, \"Must copy original example values\"\n",
    "  assert_equal 23, rf_examples[3][\"id\"]\n",
    "  assert_in_delta 0.11281946181217362, rf_examples[3][\"features\"][\"x4\"], 1e-3, \"Must copy original example values\"\n",
    "  \n",
    "  duplicated_ids = rf_examples.group_by {|e| e[\"id\"]}.select {|k,v| v.size > 1}.to_h.keys.sort\n",
    "  \n",
    "  puts \"Expect ID #{duplicated_ids.last} is duplicated\"\n",
    "  assert_equal 25, duplicated_ids.size\n",
    "  assert_equal 91, duplicated_ids.last\n",
    "end\n",
    "test_e26103()"
   ]
  },
  {
   "cell_type": "code",
   "execution_count": 53,
   "metadata": {
    "deletable": false,
    "editable": false,
    "nbgrader": {
     "cell_type": "code",
     "checksum": "f8484533129e6f99667dc78265efd654",
     "grade": true,
     "grade_id": "cell-5682b7088bfe5d12",
     "locked": true,
     "points": 3,
     "schema_version": 3,
     "solution": false,
     "task": false
    }
   },
   "outputs": [],
   "source": [
    "def test_5682b7()\n",
    "  rng = Random.new(SEED)\n",
    "  examples = Array.new 100 do |id|\n",
    "    {\"id\" => id, \"features\" => {\"x1\" => id * 1.0, \"x2\" => id, \"x3\" => id, \"x4\" => id}}\n",
    "  end\n",
    "  dataset = {\"features\" => %w(x1 x2 x3 x4), \"data\" => examples}\n",
    "  \n",
    "  rf_dataset = random_forest_dataset dataset, rng\n",
    "  \n",
    "  features = rf_dataset[\"features\"].sort\n",
    "  rf_examples = rf_dataset[\"data\"]\n",
    "  \n",
    "  assert_equal 100, rf_examples.size\n",
    "  checked = 0\n",
    "  rf_examples.each do |e| \n",
    "    assert_equal features, e[\"features\"].keys.sort, \"Expected only subset of features\"\n",
    "    checked += 1\n",
    "  end\n",
    "  assert_equal 100, checked\n",
    "end\n",
    "test_5682b7()"
   ]
  },
  {
   "cell_type": "markdown",
   "metadata": {
    "deletable": false,
    "editable": false,
    "nbgrader": {
     "cell_type": "markdown",
     "checksum": "f50e5ea7d441c4f9b00422e80d625f12",
     "grade": false,
     "grade_id": "cell-dfda98de73c9e41b",
     "locked": true,
     "schema_version": 3,
     "solution": false,
     "task": false
    }
   },
   "source": [
    "## Question 6.2 (2 Points)\n",
    "\n",
    "Implement the ```train``` method in the ```RandomForestLearner```, which simply calls train on each of the ```@trees``` with the ```random_forest_dataset```."
   ]
  },
  {
   "cell_type": "code",
   "execution_count": 54,
   "metadata": {
    "deletable": false,
    "nbgrader": {
     "cell_type": "code",
     "checksum": "fe70bba39211fae1ec47cee9c2ade861",
     "grade": false,
     "grade_id": "cell-e46b49b548005526",
     "locked": false,
     "schema_version": 3,
     "solution": true,
     "task": false
    }
   },
   "outputs": [
    {
     "data": {
      "text/plain": [
       ":train"
      ]
     },
     "execution_count": 54,
     "metadata": {},
     "output_type": "execute_result"
    }
   ],
   "source": [
    "class RandomForestLearner\n",
    "  include Learner  \n",
    "  attr_reader :trees\n",
    "  \n",
    "  def initialize positive_class_label, num_trees: 10, min_size: 10, max_depth: 50\n",
    "    @parameters = {\"num_trees\" => num_trees, \"min_size\" => min_size, \"max_depth\" => max_depth}\n",
    "    @positive_class_label = positive_class_label\n",
    "    tree_parameters = @parameters.clone.delete :num_trees\n",
    "    \n",
    "    @trees = Array.new(num_trees) do |i| \n",
    "    DecisionTreeLearner.new @positive_class_label, min_size: min_size, max_depth: max_depth\n",
    "    end\n",
    "  end\n",
    "  \n",
    "  def to_s\n",
    "    JSON.pretty_generate(@trees.collect {|t| t.summarize_node t.root})\n",
    "  end\n",
    "  \n",
    "  def train dataset\n",
    "    rng = Random.new SEED\n",
    "   \n",
    "    @trees.each do |tree|\n",
    "      train_dataset = random_forest_dataset(dataset, rng)\n",
    "      tree.train(train_dataset)     \n",
    "    end\n",
    "  end\n",
    "end\n",
    "  "
   ]
  },
  {
   "cell_type": "code",
   "execution_count": 55,
   "metadata": {
    "deletable": false,
    "editable": false,
    "nbgrader": {
     "cell_type": "code",
     "checksum": "a8759555aa524d79b209045e42813c0c",
     "grade": true,
     "grade_id": "cell-99f31e3414e871a0",
     "locked": true,
     "points": 2,
     "schema_version": 3,
     "solution": false,
     "task": false
    }
   },
   "outputs": [
    {
     "name": "stdout",
     "output_type": "stream",
     "text": [
      "Random Forest 3 trees, 2 levels\n",
      "[\n",
      "  {\n",
      "    \"leaf\": false,\n",
      "    \"split\": \"Numeric[petal_length <=> 3]\",\n",
      "    \"children\": {\n",
      "      \"petal_length < 3\": {\n",
      "        \"leaf\": true,\n",
      "        \"class_distribution\": {\n",
      "          \"0\": 1.0\n",
      "        }\n",
      "      },\n",
      "      \"petal_length >= 3\": {\n",
      "        \"leaf\": true,\n",
      "        \"class_distribution\": {\n",
      "          \"2\": 0.5555555555555556,\n",
      "          \"1\": 0.4444444444444444\n",
      "        }\n",
      "      }\n",
      "    }\n",
      "  },\n",
      "  {\n",
      "    \"leaf\": false,\n",
      "    \"split\": \"Numeric[petal_length <=> 3]\",\n",
      "    \"children\": {\n",
      "      \"petal_length < 3\": {\n",
      "        \"leaf\": true,\n",
      "        \"class_distribution\": {\n",
      "          \"0\": 1.0\n",
      "        }\n",
      "      },\n",
      "      \"petal_length >= 3\": {\n",
      "        \"leaf\": true,\n",
      "        \"class_distribution\": {\n",
      "          \"2\": 0.4205607476635514,\n",
      "          \"1\": 0.5794392523364486\n",
      "        }\n",
      "      }\n",
      "    }\n",
      "  },\n",
      "  {\n",
      "    \"leaf\": false,\n",
      "    \"split\": \"Numeric[petal_length <=> 3]\",\n",
      "    \"children\": {\n",
      "      \"petal_length < 3\": {\n",
      "        \"leaf\": true,\n",
      "        \"class_distribution\": {\n",
      "          \"0\": 1.0\n",
      "        }\n",
      "      },\n",
      "      \"petal_length >= 3\": {\n",
      "        \"leaf\": true,\n",
      "        \"class_distribution\": {\n",
      "          \"1\": 0.594059405940594,\n",
      "          \"2\": 0.40594059405940597\n",
      "        }\n",
      "      }\n",
      "    }\n",
      "  }\n",
      "]\n"
     ]
    }
   ],
   "source": [
    "def test_99f31e()\n",
    "  iris = load_iris_dataset()\n",
    "  model = RandomForestLearner.new 2, num_trees: 3, max_depth: 2, min_size: 25\n",
    "  model.train iris\n",
    "  trees = model.trees\n",
    "\n",
    "  puts \"Random Forest 3 trees, 2 levels\", model.to_s\n",
    "\n",
    "  assert_equal 3, trees.size\n",
    "end\n",
    "test_99f31e()"
   ]
  },
  {
   "cell_type": "markdown",
   "metadata": {
    "deletable": false,
    "editable": false,
    "nbgrader": {
     "cell_type": "markdown",
     "checksum": "db38a7793686d38bb5ca958071f67755",
     "grade": false,
     "grade_id": "cell-9b9d78c1a54dfff6",
     "locked": true,
     "schema_version": 3,
     "solution": false,
     "task": false
    }
   },
   "source": [
    "## Question 6.3 (5 Points)\n",
    "\n",
    "Implement the ```predict``` method in the ```RandomForestLearner```. Define the score for a random forest as follows:\n",
    "\n",
    "# $P(c \\mid t_1, \\dots ,t_k) = \\frac{1}{k} \\sum_{i} P(c \\mid t_i)$\n",
    "\n",
    "where $t_i$ is the $i$th tree and $P(c \\mid t_i)$ is the score for the $i$th tree."
   ]
  },
  {
   "cell_type": "code",
   "execution_count": 56,
   "metadata": {
    "deletable": false,
    "nbgrader": {
     "cell_type": "code",
     "checksum": "c87282ef72469a479edc925cc660309c",
     "grade": false,
     "grade_id": "cell-fc41201c7ea81d58",
     "locked": false,
     "schema_version": 3,
     "solution": true,
     "task": false
    }
   },
   "outputs": [
    {
     "data": {
      "text/plain": [
       ":predict"
      ]
     },
     "execution_count": 56,
     "metadata": {},
     "output_type": "execute_result"
    }
   ],
   "source": [
    "class RandomForestLearner\n",
    "  attr_accessor :positive_class_label\n",
    "  \n",
    "  def evaluate eval_dataset\n",
    "    examples = eval_dataset[\"data\"]\n",
    "    examples.map do |example|\n",
    "      score = predict(example)\n",
    "      label = example[\"label\"] == @positive_class_label ? 1 : 0\n",
    "      [score, label]\n",
    "    end\n",
    "  end\n",
    "  \n",
    "  def predict example\n",
    "\n",
    "    scores = @trees.inject(0.0) {|u, t| u += t.predict(example) }\n",
    "    scores/(@trees.size).to_f\n",
    "    \n",
    "  end\n",
    "end\n"
   ]
  },
  {
   "cell_type": "code",
   "execution_count": 57,
   "metadata": {
    "deletable": false,
    "editable": false,
    "nbgrader": {
     "cell_type": "code",
     "checksum": "5e6ce324d62530d45ac6ff042ae1b137",
     "grade": true,
     "grade_id": "cell-b6a8922a13ab6bbd",
     "locked": true,
     "points": 3,
     "schema_version": 3,
     "solution": false,
     "task": false
    }
   },
   "outputs": [
    {
     "name": "stdout",
     "output_type": "stream",
     "text": [
      "AUC = 0.8311428571428572\n"
     ]
    },
    {
     "data": {
      "text/html": [
       "<div id='vis-1a3b96f3-8dbd-464e-9398-7a35a78d7fe6'></div>\n",
       "<script>\n",
       "(function(){\n",
       "    var render = function(){\n",
       "        var model = {\"panes\":[{\"diagrams\":[{\"type\":\"line\",\"options\":{\"x\":\"x\",\"y\":\"y\"},\"data\":\"4e2e9b67-d1ad-44c6-a358-6c071a0ccbf9\"},{\"type\":\"line\",\"options\":{\"x\":\"data0\",\"y\":\"data1\",\"color\":\"gray\"},\"data\":\"16978fea-6c13-40d4-b0c1-d4590c240dfa\"}],\"options\":{\"x_label\":\"False Positive Rate\",\"y_label\":\"True Positive Rate\",\"zoom\":true,\"width\":700,\"xrange\":[0.0,1],\"yrange\":[0,1.0]}}],\"data\":{\"4e2e9b67-d1ad-44c6-a358-6c071a0ccbf9\":[{\"x\":0.9966666666666667,\"y\":1.0},{\"x\":0.9966666666666667,\"y\":1.0},{\"x\":0.9966666666666667,\"y\":1.0},{\"x\":0.9966666666666667,\"y\":1.0},{\"x\":0.9933333333333333,\"y\":1.0},{\"x\":0.9933333333333333,\"y\":1.0},{\"x\":0.9933333333333333,\"y\":1.0},{\"x\":0.9933333333333333,\"y\":1.0},{\"x\":0.9933333333333333,\"y\":1.0},{\"x\":0.9933333333333333,\"y\":1.0},{\"x\":0.9933333333333333,\"y\":1.0},{\"x\":0.99,\"y\":1.0},{\"x\":0.99,\"y\":1.0},{\"x\":0.9866666666666667,\"y\":1.0},{\"x\":0.9833333333333333,\"y\":1.0},{\"x\":0.98,\"y\":1.0},{\"x\":0.9766666666666667,\"y\":1.0},{\"x\":0.9766666666666667,\"y\":1.0},{\"x\":0.9766666666666667,\"y\":1.0},{\"x\":0.9766666666666667,\"y\":1.0},{\"x\":0.9733333333333334,\"y\":1.0},{\"x\":0.97,\"y\":1.0},{\"x\":0.9666666666666667,\"y\":1.0},{\"x\":0.9666666666666667,\"y\":1.0},{\"x\":0.96,\"y\":0.9971428571428571},{\"x\":0.9533333333333334,\"y\":0.9971428571428571},{\"x\":0.9466666666666667,\"y\":0.9971428571428571},{\"x\":0.9366666666666666,\"y\":0.9971428571428571},{\"x\":0.9366666666666666,\"y\":0.9957142857142857},{\"x\":0.9166666666666666,\"y\":0.9942857142857143},{\"x\":0.9066666666666666,\"y\":0.9928571428571429},{\"x\":0.8933333333333333,\"y\":0.9914285714285714},{\"x\":0.8833333333333333,\"y\":0.99},{\"x\":0.8666666666666667,\"y\":0.9885714285714285},{\"x\":0.8566666666666667,\"y\":0.9885714285714285},{\"x\":0.8466666666666667,\"y\":0.9885714285714285},{\"x\":0.8333333333333334,\"y\":0.9857142857142858},{\"x\":0.8066666666666666,\"y\":0.9842857142857143},{\"x\":0.7966666666666666,\"y\":0.9814285714285714},{\"x\":0.77,\"y\":0.9785714285714285},{\"x\":0.7533333333333333,\"y\":0.9757142857142858},{\"x\":0.73,\"y\":0.97},{\"x\":0.7066666666666667,\"y\":0.9614285714285714},{\"x\":0.6733333333333333,\"y\":0.9571428571428572},{\"x\":0.6666666666666666,\"y\":0.9428571428571428},{\"x\":0.63,\"y\":0.9371428571428572},{\"x\":0.5833333333333334,\"y\":0.9342857142857143},{\"x\":0.5466666666666666,\"y\":0.9242857142857143},{\"x\":0.51,\"y\":0.9085714285714286},{\"x\":0.4666666666666667,\"y\":0.9},{\"x\":0.44,\"y\":0.89},{\"x\":0.41333333333333333,\"y\":0.87},{\"x\":0.38666666666666666,\"y\":0.8514285714285714},{\"x\":0.36666666666666664,\"y\":0.8357142857142857},{\"x\":0.32666666666666666,\"y\":0.8214285714285714},{\"x\":0.3,\"y\":0.7957142857142857},{\"x\":0.27,\"y\":0.7714285714285715},{\"x\":0.24,\"y\":0.7428571428571429},{\"x\":0.19333333333333333,\"y\":0.71},{\"x\":0.16333333333333333,\"y\":0.6757142857142857},{\"x\":0.15,\"y\":0.6457142857142857},{\"x\":0.13333333333333333,\"y\":0.6085714285714285},{\"x\":0.11666666666666667,\"y\":0.5728571428571428},{\"x\":0.10666666666666667,\"y\":0.5457142857142857},{\"x\":0.08333333333333333,\"y\":0.5157142857142857},{\"x\":0.07333333333333333,\"y\":0.4757142857142857},{\"x\":0.06333333333333334,\"y\":0.44285714285714284},{\"x\":0.06333333333333334,\"y\":0.42},{\"x\":0.06,\"y\":0.3914285714285714},{\"x\":0.043333333333333335,\"y\":0.37142857142857144},{\"x\":0.04,\"y\":0.33714285714285713},{\"x\":0.03,\"y\":0.31142857142857144},{\"x\":0.02666666666666667,\"y\":0.2842857142857143},{\"x\":0.016666666666666666,\"y\":0.25857142857142856},{\"x\":0.013333333333333334,\"y\":0.24},{\"x\":0.01,\"y\":0.21857142857142858},{\"x\":0.01,\"y\":0.1957142857142857},{\"x\":0.0033333333333333335,\"y\":0.16714285714285715},{\"x\":0.0033333333333333335,\"y\":0.1457142857142857},{\"x\":0.0033333333333333335,\"y\":0.12857142857142856},{\"x\":0.0,\"y\":0.10714285714285714},{\"x\":0.0,\"y\":0.08714285714285715},{\"x\":0.0,\"y\":0.07},{\"x\":0.0,\"y\":0.06},{\"x\":0.0,\"y\":0.047142857142857146},{\"x\":0.0,\"y\":0.03857142857142857},{\"x\":0.0,\"y\":0.03428571428571429},{\"x\":0.0,\"y\":0.022857142857142857},{\"x\":0.0,\"y\":0.02},{\"x\":0.0,\"y\":0.014285714285714285},{\"x\":0.0,\"y\":0.01},{\"x\":0.0,\"y\":0.008571428571428572},{\"x\":0.0,\"y\":0.007142857142857143},{\"x\":0.0,\"y\":0.005714285714285714},{\"x\":0.0,\"y\":0.004285714285714286},{\"x\":0.0,\"y\":0.002857142857142857},{\"x\":0.0,\"y\":0.002857142857142857},{\"x\":0.0,\"y\":0.0014285714285714286},{\"x\":0.0,\"y\":0.0014285714285714286},{\"x\":0.0,\"y\":0.0014285714285714286}],\"16978fea-6c13-40d4-b0c1-d4590c240dfa\":[{\"data0\":0,\"data1\":0},{\"data0\":1,\"data1\":1}]},\"extension\":[]}\n",
       "        var id_name = '#vis-1a3b96f3-8dbd-464e-9398-7a35a78d7fe6';\n",
       "        Nyaplot.core.parse(model, id_name);\n",
       "\n",
       "        require(['downloadable'], function(downloadable){\n",
       "          var svg = d3.select(id_name).select(\"svg\");\n",
       "\t  if(!svg.empty())\n",
       "\t    svg.call(downloadable().filename('fig'));\n",
       "\t});\n",
       "    };\n",
       "    if(window['Nyaplot']==undefined){\n",
       "        window.addEventListener('load_nyaplot', render, false);\n",
       "\treturn;\n",
       "    } else {\n",
       "       render();\n",
       "    }\n",
       "})();\n",
       "</script>\n"
      ],
      "text/plain": [
       "#<Nyaplot::Frame:0x0000000003c42158 @properties={:panes=>[#<Nyaplot::Plot:0x0000000003cc9ab8 @properties={:diagrams=>[#<Nyaplot::Diagram:0x0000000003c44048 @properties={:type=>:line, :options=>{:x=>:x, :y=>:y}, :data=>\"4e2e9b67-d1ad-44c6-a358-6c071a0ccbf9\"}, @xrange=[0.0, 0.9966666666666667], @yrange=[0.0014285714285714286, 1.0]>, #<Nyaplot::Diagram:0x0000000003c42b08 @properties={:type=>:line, :options=>{:x=>\"data0\", :y=>\"data1\", :color=>:gray}, :data=>\"16978fea-6c13-40d4-b0c1-d4590c240dfa\"}, @xrange=[0, 1], @yrange=[0, 1]>], :options=>{:x_label=>\"False Positive Rate\", :y_label=>\"True Positive Rate\", :zoom=>true, :width=>700, :xrange=>[0.0, 1], :yrange=>[0, 1.0]}}>], :data=>{\"4e2e9b67-d1ad-44c6-a358-6c071a0ccbf9\"=>#<Nyaplot::DataFrame:0x0000000003c492c8 @name=\"4e2e9b67-d1ad-44c6-a358-6c071a0ccbf9\", @rows=[{:x=>0.9966666666666667, :y=>1.0}, {:x=>0.9966666666666667, :y=>1.0}, {:x=>0.9966666666666667, :y=>1.0}, {:x=>0.9966666666666667, :y=>1.0}, {:x=>0.9933333333333333, :y=>1.0}, {:x=>0.9933333333333333, :y=>1.0}, {:x=>0.9933333333333333, :y=>1.0}, {:x=>0.9933333333333333, :y=>1.0}, {:x=>0.9933333333333333, :y=>1.0}, {:x=>0.9933333333333333, :y=>1.0}, {:x=>0.9933333333333333, :y=>1.0}, {:x=>0.99, :y=>1.0}, {:x=>0.99, :y=>1.0}, {:x=>0.9866666666666667, :y=>1.0}, {:x=>0.9833333333333333, :y=>1.0}, {:x=>0.98, :y=>1.0}, {:x=>0.9766666666666667, :y=>1.0}, {:x=>0.9766666666666667, :y=>1.0}, {:x=>0.9766666666666667, :y=>1.0}, {:x=>0.9766666666666667, :y=>1.0}, {:x=>0.9733333333333334, :y=>1.0}, {:x=>0.97, :y=>1.0}, {:x=>0.9666666666666667, :y=>1.0}, {:x=>0.9666666666666667, :y=>1.0}, {:x=>0.96, :y=>0.9971428571428571}, {:x=>0.9533333333333334, :y=>0.9971428571428571}, {:x=>0.9466666666666667, :y=>0.9971428571428571}, {:x=>0.9366666666666666, :y=>0.9971428571428571}, {:x=>0.9366666666666666, :y=>0.9957142857142857}, {:x=>0.9166666666666666, :y=>0.9942857142857143}, {:x=>0.9066666666666666, :y=>0.9928571428571429}, {:x=>0.8933333333333333, :y=>0.9914285714285714}, {:x=>0.8833333333333333, :y=>0.99}, {:x=>0.8666666666666667, :y=>0.9885714285714285}, {:x=>0.8566666666666667, :y=>0.9885714285714285}, {:x=>0.8466666666666667, :y=>0.9885714285714285}, {:x=>0.8333333333333334, :y=>0.9857142857142858}, {:x=>0.8066666666666666, :y=>0.9842857142857143}, {:x=>0.7966666666666666, :y=>0.9814285714285714}, {:x=>0.77, :y=>0.9785714285714285}, {:x=>0.7533333333333333, :y=>0.9757142857142858}, {:x=>0.73, :y=>0.97}, {:x=>0.7066666666666667, :y=>0.9614285714285714}, {:x=>0.6733333333333333, :y=>0.9571428571428572}, {:x=>0.6666666666666666, :y=>0.9428571428571428}, {:x=>0.63, :y=>0.9371428571428572}, {:x=>0.5833333333333334, :y=>0.9342857142857143}, {:x=>0.5466666666666666, :y=>0.9242857142857143}, {:x=>0.51, :y=>0.9085714285714286}, {:x=>0.4666666666666667, :y=>0.9}, {:x=>0.44, :y=>0.89}, {:x=>0.41333333333333333, :y=>0.87}, {:x=>0.38666666666666666, :y=>0.8514285714285714}, {:x=>0.36666666666666664, :y=>0.8357142857142857}, {:x=>0.32666666666666666, :y=>0.8214285714285714}, {:x=>0.3, :y=>0.7957142857142857}, {:x=>0.27, :y=>0.7714285714285715}, {:x=>0.24, :y=>0.7428571428571429}, {:x=>0.19333333333333333, :y=>0.71}, {:x=>0.16333333333333333, :y=>0.6757142857142857}, {:x=>0.15, :y=>0.6457142857142857}, {:x=>0.13333333333333333, :y=>0.6085714285714285}, {:x=>0.11666666666666667, :y=>0.5728571428571428}, {:x=>0.10666666666666667, :y=>0.5457142857142857}, {:x=>0.08333333333333333, :y=>0.5157142857142857}, {:x=>0.07333333333333333, :y=>0.4757142857142857}, {:x=>0.06333333333333334, :y=>0.44285714285714284}, {:x=>0.06333333333333334, :y=>0.42}, {:x=>0.06, :y=>0.3914285714285714}, {:x=>0.043333333333333335, :y=>0.37142857142857144}, {:x=>0.04, :y=>0.33714285714285713}, {:x=>0.03, :y=>0.31142857142857144}, {:x=>0.02666666666666667, :y=>0.2842857142857143}, {:x=>0.016666666666666666, :y=>0.25857142857142856}, {:x=>0.013333333333333334, :y=>0.24}, {:x=>0.01, :y=>0.21857142857142858}, {:x=>0.01, :y=>0.1957142857142857}, {:x=>0.0033333333333333335, :y=>0.16714285714285715}, {:x=>0.0033333333333333335, :y=>0.1457142857142857}, {:x=>0.0033333333333333335, :y=>0.12857142857142856}, {:x=>0.0, :y=>0.10714285714285714}, {:x=>0.0, :y=>0.08714285714285715}, {:x=>0.0, :y=>0.07}, {:x=>0.0, :y=>0.06}, {:x=>0.0, :y=>0.047142857142857146}, {:x=>0.0, :y=>0.03857142857142857}, {:x=>0.0, :y=>0.03428571428571429}, {:x=>0.0, :y=>0.022857142857142857}, {:x=>0.0, :y=>0.02}, {:x=>0.0, :y=>0.014285714285714285}, {:x=>0.0, :y=>0.01}, {:x=>0.0, :y=>0.008571428571428572}, {:x=>0.0, :y=>0.007142857142857143}, {:x=>0.0, :y=>0.005714285714285714}, {:x=>0.0, :y=>0.004285714285714286}, {:x=>0.0, :y=>0.002857142857142857}, {:x=>0.0, :y=>0.002857142857142857}, {:x=>0.0, :y=>0.0014285714285714286}, {:x=>0.0, :y=>0.0014285714285714286}, {:x=>0.0, :y=>0.0014285714285714286}]>, \"16978fea-6c13-40d4-b0c1-d4590c240dfa\"=>#<Nyaplot::DataFrame:0x0000000003c43468 @name=\"16978fea-6c13-40d4-b0c1-d4590c240dfa\", @rows=[{:data0=>0, :data1=>0}, {:data0=>1, :data1=>1}]>}, :extension=>[]}>"
      ]
     },
     "metadata": {},
     "output_type": "display_data"
    }
   ],
   "source": [
    "def test_99f31e()\n",
    "  german_credit = load_german_credit_dataset()\n",
    "  learner = RandomForestLearner.new 1, num_trees: 11, min_size: 100, max_depth: 10\n",
    "  learner.train german_credit\n",
    "  assert_equal 11, learner.trees.size\n",
    "\n",
    "  scores = learner.evaluate german_credit\n",
    "  metric = AUCMetric.new\n",
    "  fp, tp, auc = metric.roc_curve scores\n",
    "  \n",
    "  puts \"AUC = #{auc}\"\n",
    "  \n",
    "  plot = Daru::DataFrame.new({x: fp, y: tp}).plot(type: :line, x: :x, y: :y) do |plot, diagram|\n",
    "    plot.x_label \"False Positive Rate\"\n",
    "    plot.y_label \"True Positive Rate\"\n",
    "  end\n",
    "  plot.add(:line, [0,1], [0,1]).color(:gray)\n",
    "  plot.show()\n",
    "end\n",
    "test_99f31e()"
   ]
  },
  {
   "cell_type": "markdown",
   "metadata": {
    "deletable": false,
    "editable": false,
    "nbgrader": {
     "cell_type": "markdown",
     "checksum": "b2f9617e767f2ac817f99a484ad49397",
     "grade": false,
     "grade_id": "cell-4829e0435f22dcca",
     "locked": true,
     "schema_version": 3,
     "solution": false,
     "task": false
    }
   },
   "source": [
    "In the tests above, we calculated the AUC for a single decision tree and a random forest, using the same tree depth and minimum leaf size. Is the training AUC better on Random Forest and Decision Tree?\n",
    "\n",
    "**A**. We cannot compare AUC across different models.\n",
    "\n",
    "**B**. Both Single Decision Tree and Random Forest perform the same.\n",
    "\n",
    "**C**. Single Decision Tree has better training AUC that a Random Forest.\n",
    "\n",
    "**D**. Random Forest has better training AUC that a Single Decision Tree.\n",
    "\n",
    "\n",
    "_(Instructions) In the function below, return an array of the upper-case letters indicating your answer (zero or more). For example, if you think that the answer is \"Z\", write the following:_\n",
    "\n",
    "```ruby\n",
    "def answer_0b47d3()\n",
    "    %w(Z)\n",
    "end\n",
    "```"
   ]
  },
  {
   "cell_type": "code",
   "execution_count": 58,
   "metadata": {
    "deletable": false,
    "nbgrader": {
     "cell_type": "code",
     "checksum": "c9c6b2ac8df967f44d04bbf569aaefe8",
     "grade": false,
     "grade_id": "cell-0b47d323ea1a9866",
     "locked": false,
     "schema_version": 3,
     "solution": true,
     "task": false
    }
   },
   "outputs": [
    {
     "data": {
      "text/plain": [
       ":answer_0b47d3"
      ]
     },
     "execution_count": 58,
     "metadata": {},
     "output_type": "execute_result"
    }
   ],
   "source": [
    "def answer_0b47d3()\n",
    "  %w(D)\n",
    "end"
   ]
  },
  {
   "cell_type": "code",
   "execution_count": 59,
   "metadata": {
    "deletable": false,
    "editable": false,
    "nbgrader": {
     "cell_type": "code",
     "checksum": "250107da64738c9247793f8cce979e35",
     "grade": true,
     "grade_id": "cell-00f2d3839bb07721",
     "locked": true,
     "points": 2,
     "schema_version": 3,
     "solution": false,
     "task": false
    }
   },
   "outputs": [],
   "source": [
    "assert_not_nil answer_0b47d3()"
   ]
  },
  {
   "cell_type": "markdown",
   "metadata": {
    "deletable": false,
    "editable": false,
    "nbgrader": {
     "cell_type": "markdown",
     "checksum": "6ad4ea5b1d2b1b08be29ebc2dc76bb3f",
     "grade": false,
     "grade_id": "cell-db8be72253f5eb28",
     "locked": true,
     "schema_version": 3,
     "solution": false,
     "task": false
    }
   },
   "source": [
    "# Question 7.1 (4 Points)\n",
    "\n",
    "Paste **your** implementation of ```cross_validate``` from previous assignments. "
   ]
  },
  {
   "cell_type": "code",
   "execution_count": 60,
   "metadata": {
    "deletable": false,
    "nbgrader": {
     "cell_type": "code",
     "checksum": "081b0a036819af2b5df525a9665de4e8",
     "grade": false,
     "grade_id": "cell-b13204b43e3a8be9",
     "locked": false,
     "schema_version": 3,
     "solution": true,
     "task": false
    }
   },
   "outputs": [
    {
     "data": {
      "text/plain": [
       ":cross_validate"
      ]
     },
     "execution_count": 60,
     "metadata": {},
     "output_type": "execute_result"
    }
   ],
   "source": [
    "def cross_validate dataset, folds, &block\n",
    "  c_dataset = dataset.clone\n",
    "  examples = c_dataset[\"data\"]\n",
    "  examples_size = examples.size().to_f\n",
    "  fold_size = (examples_size / folds).floor\n",
    "  folds_array = examples.each_slice(fold_size).to_a\n",
    " \n",
    "  folds_array.each_with_index do |value, index|\n",
    "    test_set = dataset.clone\n",
    "    test_set[\"data\"] = value\n",
    "    train_set = dataset.clone\n",
    "       \n",
    "    aux_train_data = folds_array.clone\n",
    "    aux_train_data.delete_at(index)\n",
    "    train_set[\"data\"] = aux_train_data.flatten(1)\n",
    "    yield train_set, test_set, index\n",
    "  end\n",
    "   \n",
    "end"
   ]
  },
  {
   "cell_type": "markdown",
   "metadata": {
    "deletable": false,
    "editable": false,
    "nbgrader": {
     "cell_type": "markdown",
     "checksum": "6619c0f6b1cb55090765de0226050d8a",
     "grade": false,
     "grade_id": "cell-ceb3e817cc4cce39",
     "locked": true,
     "schema_version": 3,
     "solution": false,
     "task": false
    }
   },
   "source": [
    "## Question 7.2 (5 points)\n",
    "\n",
    "Using cross validation and the generic ```Learner```s and ```Metric```s you implemented, we can build a generic tool for parameter selection. The next few methods are implemented for you so that you can interpret the results. \n"
   ]
  },
  {
   "cell_type": "code",
   "execution_count": 61,
   "metadata": {
    "deletable": false,
    "editable": false,
    "nbgrader": {
     "cell_type": "code",
     "checksum": "126fc4ce2dc84acb326b6a4806c16530",
     "grade": false,
     "grade_id": "cell-97f13fda713cfbf4",
     "locked": true,
     "schema_version": 3,
     "solution": false,
     "task": false
    }
   },
   "outputs": [
    {
     "data": {
      "text/plain": [
       ":cross_validation_model_performance"
      ]
     },
     "execution_count": 61,
     "metadata": {},
     "output_type": "execute_result"
    }
   ],
   "source": [
    "def cross_validation_model_performance dataset, folds, learners, metric    \n",
    "  learners.map do |learner|\n",
    "    tr_metrics = []\n",
    "    te_metrics = []\n",
    "    puts \"#{folds}-fold CV: #{learner.class.name}, parameters: #{learner.parameters}\"\n",
    "    cross_validate dataset, folds do |train_dataset, test_dataset|\n",
    "      learner.train train_dataset\n",
    "      train_scores = learner.evaluate train_dataset\n",
    "      test_scores = learner.evaluate test_dataset      \n",
    "      tr_metrics << metric.apply(train_scores)\n",
    "      te_metrics << metric.apply(test_scores)\n",
    "    end\n",
    "    {\n",
    "      \"learner\" => learner.class.name, \"parameters\" => learner.parameters, \"folds\" => folds,\n",
    "      \"mean_train_metric\" => mean(tr_metrics), \"stdev_train_metric\" => stdev(tr_metrics),\n",
    "      \"mean_test_metric\" => mean(te_metrics), \"stdev_test_metric\" => stdev(te_metrics),\n",
    "    }\n",
    "  end\n",
    "end\n"
   ]
  },
  {
   "cell_type": "code",
   "execution_count": 62,
   "metadata": {
    "deletable": false,
    "editable": false,
    "nbgrader": {
     "cell_type": "code",
     "checksum": "ab28c6c2efa38f40e078aeb068d3a1ed",
     "grade": false,
     "grade_id": "cell-d8832ba574060ec7",
     "locked": true,
     "schema_version": 3,
     "solution": false,
     "task": false
    }
   },
   "outputs": [
    {
     "data": {
      "text/plain": [
       ":parameter_search"
      ]
     },
     "execution_count": 62,
     "metadata": {},
     "output_type": "execute_result"
    }
   ],
   "source": [
    "def best_performance_by_learner stats  \n",
    "  stats.group_by {|s| s[\"learner\"]}.map do |g_s|\n",
    "    learner, learner_stats = g_s\n",
    "    best_parameters = learner_stats.max_by {|l| l[\"mean_test_metric\"]}    \n",
    "    [learner, best_parameters]\n",
    "  end.to_h\n",
    "end\n",
    "\n",
    "def parameter_search learners, dataset\n",
    "  metric = AUCMetric.new  \n",
    "  stats = cross_validation_model_performance dataset, 5, learners, metric\n",
    "  best_by_learner = best_performance_by_learner stats  \n",
    "  puts JSON.pretty_generate(best_by_learner)\n",
    "\n",
    "  assert_equal learners.size, stats.size\n",
    "  assert_true(stats.all? {|s| a = s[\"mean_train_metric\"]; a >= 0.0 and a <= 1.0}, \"0 <= Train AUC <= 1\")\n",
    "  assert_true(stats.all? {|s| a = s[\"mean_test_metric\"]; a >= 0.0 and a <= 1.0}, \"0 <= Train AUC <= 1\")\n",
    "  \n",
    "  df = Daru::DataFrame.new(stats) \n",
    "end"
   ]
  },
  {
   "cell_type": "markdown",
   "metadata": {
    "deletable": false,
    "editable": false,
    "nbgrader": {
     "cell_type": "markdown",
     "checksum": "fefe7bb8dbd8325b38a6343c8434c21c",
     "grade": false,
     "grade_id": "cell-5f0e3ea376a56cc5",
     "locked": true,
     "schema_version": 3,
     "solution": false,
     "task": false
    }
   },
   "source": [
    "We will select the best-performing model on the iris using a single decision tree with various ```min_size``` parameter values. "
   ]
  },
  {
   "cell_type": "code",
   "execution_count": 63,
   "metadata": {
    "deletable": false,
    "editable": false,
    "nbgrader": {
     "cell_type": "code",
     "checksum": "ddba90641d2a72e7ff515890535f34a0",
     "grade": true,
     "grade_id": "cell-6774f4fe33b374a1",
     "locked": true,
     "points": 1,
     "schema_version": 3,
     "solution": false,
     "task": false
    }
   },
   "outputs": [
    {
     "name": "stdout",
     "output_type": "stream",
     "text": [
      "5-fold CV: DecisionTreeLearner, parameters: {\"min_size\"=>1, \"max_depth\"=>50}\n",
      "5-fold CV: DecisionTreeLearner, parameters: {\"min_size\"=>2, \"max_depth\"=>50}\n",
      "5-fold CV: DecisionTreeLearner, parameters: {\"min_size\"=>5, \"max_depth\"=>50}\n",
      "5-fold CV: DecisionTreeLearner, parameters: {\"min_size\"=>10, \"max_depth\"=>50}\n",
      "5-fold CV: DecisionTreeLearner, parameters: {\"min_size\"=>15, \"max_depth\"=>50}\n",
      "5-fold CV: DecisionTreeLearner, parameters: {\"min_size\"=>20, \"max_depth\"=>50}\n",
      "5-fold CV: DecisionTreeLearner, parameters: {\"min_size\"=>25, \"max_depth\"=>50}\n",
      "5-fold CV: DecisionTreeLearner, parameters: {\"min_size\"=>50, \"max_depth\"=>50}\n",
      "5-fold CV: DecisionTreeLearner, parameters: {\"min_size\"=>100, \"max_depth\"=>50}\n",
      "{\n",
      "  \"DecisionTreeLearner\": {\n",
      "    \"learner\": \"DecisionTreeLearner\",\n",
      "    \"parameters\": {\n",
      "      \"min_size\": 5,\n",
      "      \"max_depth\": 50\n",
      "    },\n",
      "    \"folds\": 5,\n",
      "    \"mean_train_metric\": 0.9989665620143364,\n",
      "    \"stdev_train_metric\": 0.0005178575170429548,\n",
      "    \"mean_test_metric\": 0.9669308980493192,\n",
      "    \"stdev_test_metric\": 0.027307119579043134\n",
      "  }\n",
      "}\n"
     ]
    },
    {
     "data": {
      "text/html": [
       "<b> Daru::DataFrame(9x7) </b>\n",
       "<table border=\"1\" class=\"dataframe\">\n",
       "  <thead>\n",
       "  \n",
       "    <tr>\n",
       "      <th></th>\n",
       "      \n",
       "        <th>learner</th>\n",
       "      \n",
       "        <th>parameters</th>\n",
       "      \n",
       "        <th>folds</th>\n",
       "      \n",
       "        <th>mean_train_metric</th>\n",
       "      \n",
       "        <th>stdev_train_metric</th>\n",
       "      \n",
       "        <th>mean_test_metric</th>\n",
       "      \n",
       "        <th>stdev_test_metric</th>\n",
       "      \n",
       "    </tr>\n",
       "  \n",
       "</thead>\n",
       "  <tbody>\n",
       "  \n",
       "    <tr>\n",
       "      <td>0</td>\n",
       "      \n",
       "        <td>DecisionTreeLearner</td>\n",
       "      \n",
       "        <td>{\"min_size\"=>1, \"max_depth\"=>50}</td>\n",
       "      \n",
       "        <td>5</td>\n",
       "      \n",
       "        <td>1.0</td>\n",
       "      \n",
       "        <td>0.0</td>\n",
       "      \n",
       "        <td>0.9345445344129555</td>\n",
       "      \n",
       "        <td>0.0733671773349088</td>\n",
       "      \n",
       "    </tr>\n",
       "  \n",
       "    <tr>\n",
       "      <td>1</td>\n",
       "      \n",
       "        <td>DecisionTreeLearner</td>\n",
       "      \n",
       "        <td>{\"min_size\"=>2, \"max_depth\"=>50}</td>\n",
       "      \n",
       "        <td>5</td>\n",
       "      \n",
       "        <td>1.0</td>\n",
       "      \n",
       "        <td>0.0</td>\n",
       "      \n",
       "        <td>0.9345445344129555</td>\n",
       "      \n",
       "        <td>0.0733671773349088</td>\n",
       "      \n",
       "    </tr>\n",
       "  \n",
       "    <tr>\n",
       "      <td>2</td>\n",
       "      \n",
       "        <td>DecisionTreeLearner</td>\n",
       "      \n",
       "        <td>{\"min_size\"=>5, \"max_depth\"=>50}</td>\n",
       "      \n",
       "        <td>5</td>\n",
       "      \n",
       "        <td>0.9989665620143364</td>\n",
       "      \n",
       "        <td>0.0005178575170429548</td>\n",
       "      \n",
       "        <td>0.9669308980493192</td>\n",
       "      \n",
       "        <td>0.027307119579043134</td>\n",
       "      \n",
       "    </tr>\n",
       "  \n",
       "    <tr>\n",
       "      <td>3</td>\n",
       "      \n",
       "        <td>DecisionTreeLearner</td>\n",
       "      \n",
       "        <td>{\"min_size\"=>10, \"max_depth\"=>50}</td>\n",
       "      \n",
       "        <td>5</td>\n",
       "      \n",
       "        <td>0.9982473228658805</td>\n",
       "      \n",
       "        <td>0.0007191887672458989</td>\n",
       "      \n",
       "        <td>0.966430898049319</td>\n",
       "      \n",
       "        <td>0.028272644062163847</td>\n",
       "      \n",
       "    </tr>\n",
       "  \n",
       "    <tr>\n",
       "      <td>4</td>\n",
       "      \n",
       "        <td>DecisionTreeLearner</td>\n",
       "      \n",
       "        <td>{\"min_size\"=>15, \"max_depth\"=>50}</td>\n",
       "      \n",
       "        <td>5</td>\n",
       "      \n",
       "        <td>0.9982473228658805</td>\n",
       "      \n",
       "        <td>0.0007191887672458989</td>\n",
       "      \n",
       "        <td>0.966430898049319</td>\n",
       "      \n",
       "        <td>0.028272644062163847</td>\n",
       "      \n",
       "    </tr>\n",
       "  \n",
       "    <tr>\n",
       "      <td>5</td>\n",
       "      \n",
       "        <td>DecisionTreeLearner</td>\n",
       "      \n",
       "        <td>{\"min_size\"=>20, \"max_depth\"=>50}</td>\n",
       "      \n",
       "        <td>5</td>\n",
       "      \n",
       "        <td>0.9982473228658805</td>\n",
       "      \n",
       "        <td>0.0007191887672458989</td>\n",
       "      \n",
       "        <td>0.966430898049319</td>\n",
       "      \n",
       "        <td>0.028272644062163847</td>\n",
       "      \n",
       "    </tr>\n",
       "  \n",
       "    <tr>\n",
       "      <td>6</td>\n",
       "      \n",
       "        <td>DecisionTreeLearner</td>\n",
       "      \n",
       "        <td>{\"min_size\"=>25, \"max_depth\"=>50}</td>\n",
       "      \n",
       "        <td>5</td>\n",
       "      \n",
       "        <td>0.9982473228658805</td>\n",
       "      \n",
       "        <td>0.0007191887672458989</td>\n",
       "      \n",
       "        <td>0.966430898049319</td>\n",
       "      \n",
       "        <td>0.028272644062163847</td>\n",
       "      \n",
       "    </tr>\n",
       "  \n",
       "    <tr>\n",
       "      <td>7</td>\n",
       "      \n",
       "        <td>DecisionTreeLearner</td>\n",
       "      \n",
       "        <td>{\"min_size\"=>50, \"max_depth\"=>50}</td>\n",
       "      \n",
       "        <td>5</td>\n",
       "      \n",
       "        <td>0.9625302528281111</td>\n",
       "      \n",
       "        <td>0.019007707795564037</td>\n",
       "      \n",
       "        <td>0.9396210461365261</td>\n",
       "      \n",
       "        <td>0.0625609289874913</td>\n",
       "      \n",
       "    </tr>\n",
       "  \n",
       "    <tr>\n",
       "      <td>8</td>\n",
       "      \n",
       "        <td>DecisionTreeLearner</td>\n",
       "      \n",
       "        <td>{\"min_size\"=>100, \"max_depth\"=>50}</td>\n",
       "      \n",
       "        <td>5</td>\n",
       "      \n",
       "        <td>0.599259745534846</td>\n",
       "      \n",
       "        <td>0.13907511990779564</td>\n",
       "      \n",
       "        <td>0.600458767238953</td>\n",
       "      \n",
       "        <td>0.13181465182371033</td>\n",
       "      \n",
       "    </tr>\n",
       "  \n",
       "\n",
       "  \n",
       "</tbody>\n",
       "</table>"
      ],
      "text/plain": [
       "#<Daru::DataFrame(9x7)>\n",
       "               learner parameters      folds mean_train stdev_trai mean_test_ stdev_test\n",
       "          0 DecisionTr {\"min_size          5        1.0        0.0 0.93454453 0.07336717\n",
       "          1 DecisionTr {\"min_size          5        1.0        0.0 0.93454453 0.07336717\n",
       "          2 DecisionTr {\"min_size          5 0.99896656 0.00051785 0.96693089 0.02730711\n",
       "          3 DecisionTr {\"min_size          5 0.99824732 0.00071918 0.96643089 0.02827264\n",
       "          4 DecisionTr {\"min_size          5 0.99824732 0.00071918 0.96643089 0.02827264\n",
       "          5 DecisionTr {\"min_size          5 0.99824732 0.00071918 0.96643089 0.02827264\n",
       "          6 DecisionTr {\"min_size          5 0.99824732 0.00071918 0.96643089 0.02827264\n",
       "          7 DecisionTr {\"min_size          5 0.96253025 0.01900770 0.93962104 0.06256092\n",
       "          8 DecisionTr {\"min_size          5 0.59925974 0.13907511 0.60045876 0.13181465"
      ]
     },
     "execution_count": 63,
     "metadata": {},
     "output_type": "execute_result"
    }
   ],
   "source": [
    "def test_6774f4()\n",
    "  iris = load_iris_dataset()\n",
    "  limit = iris[\"data\"].size\n",
    "  min_sizes = [1, 2, 5, 10, 15, 20, 25, 50, 100, 200, 250, 500]\n",
    "  max_depth = 50  \n",
    "  min_sizes.select! {|s| s < limit}\n",
    "\n",
    "  learners = min_sizes.map do |s|\n",
    "    DecisionTreeLearner.new(1, min_size: s, max_depth: max_depth)\n",
    "  end\n",
    "\n",
    "  parameter_search learners, iris\n",
    "end\n",
    "test_6774f4()"
   ]
  },
  {
   "cell_type": "markdown",
   "metadata": {
    "deletable": false,
    "editable": false,
    "nbgrader": {
     "cell_type": "markdown",
     "checksum": "9b7f521bfb12776022d9466ba6d8ac3e",
     "grade": false,
     "grade_id": "cell-a3943848fe92d322",
     "locked": true,
     "schema_version": 3,
     "solution": false,
     "task": false
    }
   },
   "source": [
    "Select the best-performing model using RandomForest on the iris dataset with various ```min_size``` parameters."
   ]
  },
  {
   "cell_type": "code",
   "execution_count": 64,
   "metadata": {
    "deletable": false,
    "editable": false,
    "nbgrader": {
     "cell_type": "code",
     "checksum": "d1fa9579f87e544e8d2b2f3df2b2dfa5",
     "grade": true,
     "grade_id": "cell-f9aacd0920a93732",
     "locked": true,
     "points": 1,
     "schema_version": 3,
     "solution": false,
     "task": false
    }
   },
   "outputs": [
    {
     "name": "stdout",
     "output_type": "stream",
     "text": [
      "5-fold CV: RandomForestLearner, parameters: {\"num_trees\"=>11, \"min_size\"=>1, \"max_depth\"=>50}\n",
      "5-fold CV: RandomForestLearner, parameters: {\"num_trees\"=>11, \"min_size\"=>2, \"max_depth\"=>50}\n",
      "5-fold CV: RandomForestLearner, parameters: {\"num_trees\"=>11, \"min_size\"=>5, \"max_depth\"=>50}\n",
      "5-fold CV: RandomForestLearner, parameters: {\"num_trees\"=>11, \"min_size\"=>10, \"max_depth\"=>50}\n",
      "5-fold CV: RandomForestLearner, parameters: {\"num_trees\"=>11, \"min_size\"=>15, \"max_depth\"=>50}\n",
      "5-fold CV: RandomForestLearner, parameters: {\"num_trees\"=>11, \"min_size\"=>20, \"max_depth\"=>50}\n",
      "5-fold CV: RandomForestLearner, parameters: {\"num_trees\"=>11, \"min_size\"=>25, \"max_depth\"=>50}\n",
      "5-fold CV: RandomForestLearner, parameters: {\"num_trees\"=>11, \"min_size\"=>50, \"max_depth\"=>50}\n",
      "5-fold CV: RandomForestLearner, parameters: {\"num_trees\"=>11, \"min_size\"=>100, \"max_depth\"=>50}\n",
      "{\n",
      "  \"RandomForestLearner\": {\n",
      "    \"learner\": \"RandomForestLearner\",\n",
      "    \"parameters\": {\n",
      "      \"num_trees\": 11,\n",
      "      \"min_size\": 5,\n",
      "      \"max_depth\": 50\n",
      "    },\n",
      "    \"folds\": 5,\n",
      "    \"mean_train_metric\": 0.9998127745115697,\n",
      "    \"stdev_train_metric\": 0.0002754436926681575,\n",
      "    \"mean_test_metric\": 0.9959066985645932,\n",
      "    \"stdev_test_metric\": 0.0042249474383316\n",
      "  }\n",
      "}\n"
     ]
    },
    {
     "data": {
      "text/html": [
       "<b> Daru::DataFrame(9x7) </b>\n",
       "<table border=\"1\" class=\"dataframe\">\n",
       "  <thead>\n",
       "  \n",
       "    <tr>\n",
       "      <th></th>\n",
       "      \n",
       "        <th>learner</th>\n",
       "      \n",
       "        <th>parameters</th>\n",
       "      \n",
       "        <th>folds</th>\n",
       "      \n",
       "        <th>mean_train_metric</th>\n",
       "      \n",
       "        <th>stdev_train_metric</th>\n",
       "      \n",
       "        <th>mean_test_metric</th>\n",
       "      \n",
       "        <th>stdev_test_metric</th>\n",
       "      \n",
       "    </tr>\n",
       "  \n",
       "</thead>\n",
       "  <tbody>\n",
       "  \n",
       "    <tr>\n",
       "      <td>0</td>\n",
       "      \n",
       "        <td>RandomForestLearner</td>\n",
       "      \n",
       "        <td>{\"num_trees\"=>11, \"min_size\"=>1, \"max_depth\"=>50}</td>\n",
       "      \n",
       "        <td>5</td>\n",
       "      \n",
       "        <td>1.0</td>\n",
       "      \n",
       "        <td>9.614813431917819e-17</td>\n",
       "      \n",
       "        <td>0.9902930622009569</td>\n",
       "      \n",
       "        <td>0.013082264154270898</td>\n",
       "      \n",
       "    </tr>\n",
       "  \n",
       "    <tr>\n",
       "      <td>1</td>\n",
       "      \n",
       "        <td>RandomForestLearner</td>\n",
       "      \n",
       "        <td>{\"num_trees\"=>11, \"min_size\"=>2, \"max_depth\"=>50}</td>\n",
       "      \n",
       "        <td>5</td>\n",
       "      \n",
       "        <td>1.0</td>\n",
       "      \n",
       "        <td>7.850462293418876e-17</td>\n",
       "      \n",
       "        <td>0.9919976076555024</td>\n",
       "      \n",
       "        <td>0.00968866293954433</td>\n",
       "      \n",
       "    </tr>\n",
       "  \n",
       "    <tr>\n",
       "      <td>2</td>\n",
       "      \n",
       "        <td>RandomForestLearner</td>\n",
       "      \n",
       "        <td>{\"num_trees\"=>11, \"min_size\"=>5, \"max_depth\"=>50}</td>\n",
       "      \n",
       "        <td>5</td>\n",
       "      \n",
       "        <td>0.9998127745115697</td>\n",
       "      \n",
       "        <td>0.0002754436926681575</td>\n",
       "      \n",
       "        <td>0.9959066985645932</td>\n",
       "      \n",
       "        <td>0.0042249474383316</td>\n",
       "      \n",
       "    </tr>\n",
       "  \n",
       "    <tr>\n",
       "      <td>3</td>\n",
       "      \n",
       "        <td>RandomForestLearner</td>\n",
       "      \n",
       "        <td>{\"num_trees\"=>11, \"min_size\"=>10, \"max_depth\"=>50}</td>\n",
       "      \n",
       "        <td>5</td>\n",
       "      \n",
       "        <td>0.9987143386987765</td>\n",
       "      \n",
       "        <td>0.0005789812307288406</td>\n",
       "      \n",
       "        <td>0.9950536816125052</td>\n",
       "      \n",
       "        <td>0.004791949888287957</td>\n",
       "      \n",
       "    </tr>\n",
       "  \n",
       "    <tr>\n",
       "      <td>4</td>\n",
       "      \n",
       "        <td>RandomForestLearner</td>\n",
       "      \n",
       "        <td>{\"num_trees\"=>11, \"min_size\"=>15, \"max_depth\"=>50}</td>\n",
       "      \n",
       "        <td>5</td>\n",
       "      \n",
       "        <td>0.9981451952581469</td>\n",
       "      \n",
       "        <td>0.001014202784658836</td>\n",
       "      \n",
       "        <td>0.9950536816125052</td>\n",
       "      \n",
       "        <td>0.004791949888287957</td>\n",
       "      \n",
       "    </tr>\n",
       "  \n",
       "    <tr>\n",
       "      <td>5</td>\n",
       "      \n",
       "        <td>RandomForestLearner</td>\n",
       "      \n",
       "        <td>{\"num_trees\"=>11, \"min_size\"=>20, \"max_depth\"=>50}</td>\n",
       "      \n",
       "        <td>5</td>\n",
       "      \n",
       "        <td>0.9981451952581469</td>\n",
       "      \n",
       "        <td>0.001014202784658836</td>\n",
       "      \n",
       "        <td>0.9950536816125052</td>\n",
       "      \n",
       "        <td>0.004791949888287957</td>\n",
       "      \n",
       "    </tr>\n",
       "  \n",
       "    <tr>\n",
       "      <td>6</td>\n",
       "      \n",
       "        <td>RandomForestLearner</td>\n",
       "      \n",
       "        <td>{\"num_trees\"=>11, \"min_size\"=>25, \"max_depth\"=>50}</td>\n",
       "      \n",
       "        <td>5</td>\n",
       "      \n",
       "        <td>0.9981451952581469</td>\n",
       "      \n",
       "        <td>0.001014202784658836</td>\n",
       "      \n",
       "        <td>0.9950536816125052</td>\n",
       "      \n",
       "        <td>0.004791949888287957</td>\n",
       "      \n",
       "    </tr>\n",
       "  \n",
       "    <tr>\n",
       "      <td>7</td>\n",
       "      \n",
       "        <td>RandomForestLearner</td>\n",
       "      \n",
       "        <td>{\"num_trees\"=>11, \"min_size\"=>50, \"max_depth\"=>50}</td>\n",
       "      \n",
       "        <td>5</td>\n",
       "      \n",
       "        <td>0.9953056230166757</td>\n",
       "      \n",
       "        <td>0.0020947114451937312</td>\n",
       "      \n",
       "        <td>0.989371863430687</td>\n",
       "      \n",
       "        <td>0.013957991017633445</td>\n",
       "      \n",
       "    </tr>\n",
       "  \n",
       "    <tr>\n",
       "      <td>8</td>\n",
       "      \n",
       "        <td>RandomForestLearner</td>\n",
       "      \n",
       "        <td>{\"num_trees\"=>11, \"min_size\"=>100, \"max_depth\"=>50}</td>\n",
       "      \n",
       "        <td>5</td>\n",
       "      \n",
       "        <td>0.862281699359929</td>\n",
       "      \n",
       "        <td>0.1165309677630377</td>\n",
       "      \n",
       "        <td>0.8439845850743684</td>\n",
       "      \n",
       "        <td>0.14280195935156728</td>\n",
       "      \n",
       "    </tr>\n",
       "  \n",
       "\n",
       "  \n",
       "</tbody>\n",
       "</table>"
      ],
      "text/plain": [
       "#<Daru::DataFrame(9x7)>\n",
       "               learner parameters      folds mean_train stdev_trai mean_test_ stdev_test\n",
       "          0 RandomFore {\"num_tree          5        1.0 9.61481343 0.99029306 0.01308226\n",
       "          1 RandomFore {\"num_tree          5        1.0 7.85046229 0.99199760 0.00968866\n",
       "          2 RandomFore {\"num_tree          5 0.99981277 0.00027544 0.99590669 0.00422494\n",
       "          3 RandomFore {\"num_tree          5 0.99871433 0.00057898 0.99505368 0.00479194\n",
       "          4 RandomFore {\"num_tree          5 0.99814519 0.00101420 0.99505368 0.00479194\n",
       "          5 RandomFore {\"num_tree          5 0.99814519 0.00101420 0.99505368 0.00479194\n",
       "          6 RandomFore {\"num_tree          5 0.99814519 0.00101420 0.99505368 0.00479194\n",
       "          7 RandomFore {\"num_tree          5 0.99530562 0.00209471 0.98937186 0.01395799\n",
       "          8 RandomFore {\"num_tree          5 0.86228169 0.11653096 0.84398458 0.14280195"
      ]
     },
     "execution_count": 64,
     "metadata": {},
     "output_type": "execute_result"
    }
   ],
   "source": [
    "def test_f9aacd()\n",
    "  iris = load_iris_dataset()\n",
    "  limit = iris[\"data\"].size\n",
    "  min_sizes = [1, 2, 5, 10, 15, 20, 25, 50, 100, 200, 250, 500]\n",
    "  max_depth = 50  \n",
    "  num_trees = 11\n",
    "  min_sizes.select! {|s| s < limit}\n",
    "\n",
    "  learners = min_sizes.map do |s|\n",
    "    RandomForestLearner.new(1, num_trees: num_trees, min_size: s, max_depth: max_depth)\n",
    "  end\n",
    "\n",
    "  parameter_search learners, iris\n",
    "end\n",
    "test_f9aacd()"
   ]
  },
  {
   "cell_type": "markdown",
   "metadata": {
    "deletable": false,
    "editable": false,
    "nbgrader": {
     "cell_type": "markdown",
     "checksum": "53fc686870ad1ffb88df59f483865985",
     "grade": false,
     "grade_id": "cell-a6b67415c40204c7",
     "locked": true,
     "schema_version": 3,
     "solution": false,
     "task": false
    }
   },
   "source": [
    "We will select the best-performing model on the german credit dataset using a single decision tree with various ```min_size``` parameter values. "
   ]
  },
  {
   "cell_type": "code",
   "execution_count": 65,
   "metadata": {
    "deletable": false,
    "editable": false,
    "nbgrader": {
     "cell_type": "code",
     "checksum": "a6eb075abce2e0fcd24d28418226d4fb",
     "grade": true,
     "grade_id": "cell-0678f48593ff9e65",
     "locked": true,
     "points": 1,
     "schema_version": 3,
     "solution": false,
     "task": false
    }
   },
   "outputs": [
    {
     "name": "stdout",
     "output_type": "stream",
     "text": [
      "5-fold CV: DecisionTreeLearner, parameters: {\"min_size\"=>1, \"max_depth\"=>50}\n",
      "5-fold CV: DecisionTreeLearner, parameters: {\"min_size\"=>2, \"max_depth\"=>50}\n",
      "5-fold CV: DecisionTreeLearner, parameters: {\"min_size\"=>5, \"max_depth\"=>50}\n",
      "5-fold CV: DecisionTreeLearner, parameters: {\"min_size\"=>10, \"max_depth\"=>50}\n",
      "5-fold CV: DecisionTreeLearner, parameters: {\"min_size\"=>15, \"max_depth\"=>50}\n",
      "5-fold CV: DecisionTreeLearner, parameters: {\"min_size\"=>20, \"max_depth\"=>50}\n",
      "5-fold CV: DecisionTreeLearner, parameters: {\"min_size\"=>25, \"max_depth\"=>50}\n",
      "5-fold CV: DecisionTreeLearner, parameters: {\"min_size\"=>50, \"max_depth\"=>50}\n",
      "5-fold CV: DecisionTreeLearner, parameters: {\"min_size\"=>100, \"max_depth\"=>50}\n",
      "5-fold CV: DecisionTreeLearner, parameters: {\"min_size\"=>200, \"max_depth\"=>50}\n",
      "5-fold CV: DecisionTreeLearner, parameters: {\"min_size\"=>250, \"max_depth\"=>50}\n",
      "5-fold CV: DecisionTreeLearner, parameters: {\"min_size\"=>500, \"max_depth\"=>50}\n",
      "{\n",
      "  \"DecisionTreeLearner\": {\n",
      "    \"learner\": \"DecisionTreeLearner\",\n",
      "    \"parameters\": {\n",
      "      \"min_size\": 100,\n",
      "      \"max_depth\": 50\n",
      "    },\n",
      "    \"folds\": 5,\n",
      "    \"mean_train_metric\": 0.7954524902729203,\n",
      "    \"stdev_train_metric\": 0.014909288040687911,\n",
      "    \"mean_test_metric\": 0.7112051532135919,\n",
      "    \"stdev_test_metric\": 0.01604189606605205\n",
      "  }\n",
      "}\n"
     ]
    },
    {
     "data": {
      "text/html": [
       "<b> Daru::DataFrame(12x7) </b>\n",
       "<table border=\"1\" class=\"dataframe\">\n",
       "  <thead>\n",
       "  \n",
       "    <tr>\n",
       "      <th></th>\n",
       "      \n",
       "        <th>learner</th>\n",
       "      \n",
       "        <th>parameters</th>\n",
       "      \n",
       "        <th>folds</th>\n",
       "      \n",
       "        <th>mean_train_metric</th>\n",
       "      \n",
       "        <th>stdev_train_metric</th>\n",
       "      \n",
       "        <th>mean_test_metric</th>\n",
       "      \n",
       "        <th>stdev_test_metric</th>\n",
       "      \n",
       "    </tr>\n",
       "  \n",
       "</thead>\n",
       "  <tbody>\n",
       "  \n",
       "    <tr>\n",
       "      <td>0</td>\n",
       "      \n",
       "        <td>DecisionTreeLearner</td>\n",
       "      \n",
       "        <td>{\"min_size\"=>1, \"max_depth\"=>50}</td>\n",
       "      \n",
       "        <td>5</td>\n",
       "      \n",
       "        <td>1.0</td>\n",
       "      \n",
       "        <td>0.0</td>\n",
       "      \n",
       "        <td>0.6516006091556481</td>\n",
       "      \n",
       "        <td>0.01918964319590248</td>\n",
       "      \n",
       "    </tr>\n",
       "  \n",
       "    <tr>\n",
       "      <td>1</td>\n",
       "      \n",
       "        <td>DecisionTreeLearner</td>\n",
       "      \n",
       "        <td>{\"min_size\"=>2, \"max_depth\"=>50}</td>\n",
       "      \n",
       "        <td>5</td>\n",
       "      \n",
       "        <td>1.0</td>\n",
       "      \n",
       "        <td>0.0</td>\n",
       "      \n",
       "        <td>0.645453895387433</td>\n",
       "      \n",
       "        <td>0.01711775798586906</td>\n",
       "      \n",
       "    </tr>\n",
       "  \n",
       "    <tr>\n",
       "      <td>2</td>\n",
       "      \n",
       "        <td>DecisionTreeLearner</td>\n",
       "      \n",
       "        <td>{\"min_size\"=>5, \"max_depth\"=>50}</td>\n",
       "      \n",
       "        <td>5</td>\n",
       "      \n",
       "        <td>0.9917067985565085</td>\n",
       "      \n",
       "        <td>0.0017178055442335148</td>\n",
       "      \n",
       "        <td>0.663407636652569</td>\n",
       "      \n",
       "        <td>0.026003465696895333</td>\n",
       "      \n",
       "    </tr>\n",
       "  \n",
       "    <tr>\n",
       "      <td>3</td>\n",
       "      \n",
       "        <td>DecisionTreeLearner</td>\n",
       "      \n",
       "        <td>{\"min_size\"=>10, \"max_depth\"=>50}</td>\n",
       "      \n",
       "        <td>5</td>\n",
       "      \n",
       "        <td>0.9578304448517698</td>\n",
       "      \n",
       "        <td>0.0059235984382986235</td>\n",
       "      \n",
       "        <td>0.6802193422234561</td>\n",
       "      \n",
       "        <td>0.03286941967312497</td>\n",
       "      \n",
       "    </tr>\n",
       "  \n",
       "    <tr>\n",
       "      <td>4</td>\n",
       "      \n",
       "        <td>DecisionTreeLearner</td>\n",
       "      \n",
       "        <td>{\"min_size\"=>15, \"max_depth\"=>50}</td>\n",
       "      \n",
       "        <td>5</td>\n",
       "      \n",
       "        <td>0.9247815762488925</td>\n",
       "      \n",
       "        <td>0.009202376822055365</td>\n",
       "      \n",
       "        <td>0.6903447461045598</td>\n",
       "      \n",
       "        <td>0.027812012365180622</td>\n",
       "      \n",
       "    </tr>\n",
       "  \n",
       "    <tr>\n",
       "      <td>5</td>\n",
       "      \n",
       "        <td>DecisionTreeLearner</td>\n",
       "      \n",
       "        <td>{\"min_size\"=>20, \"max_depth\"=>50}</td>\n",
       "      \n",
       "        <td>5</td>\n",
       "      \n",
       "        <td>0.9031451380462301</td>\n",
       "      \n",
       "        <td>0.006733180130797864</td>\n",
       "      \n",
       "        <td>0.6946629160908199</td>\n",
       "      \n",
       "        <td>0.010637289149384473</td>\n",
       "      \n",
       "    </tr>\n",
       "  \n",
       "    <tr>\n",
       "      <td>6</td>\n",
       "      \n",
       "        <td>DecisionTreeLearner</td>\n",
       "      \n",
       "        <td>{\"min_size\"=>25, \"max_depth\"=>50}</td>\n",
       "      \n",
       "        <td>5</td>\n",
       "      \n",
       "        <td>0.8901014298504565</td>\n",
       "      \n",
       "        <td>0.008473446168602494</td>\n",
       "      \n",
       "        <td>0.7035040472769863</td>\n",
       "      \n",
       "        <td>0.01716436804579295</td>\n",
       "      \n",
       "    </tr>\n",
       "  \n",
       "    <tr>\n",
       "      <td>7</td>\n",
       "      \n",
       "        <td>DecisionTreeLearner</td>\n",
       "      \n",
       "        <td>{\"min_size\"=>50, \"max_depth\"=>50}</td>\n",
       "      \n",
       "        <td>5</td>\n",
       "      \n",
       "        <td>0.8212790476231632</td>\n",
       "      \n",
       "        <td>0.013079992195128268</td>\n",
       "      \n",
       "        <td>0.7035813184411198</td>\n",
       "      \n",
       "        <td>0.023590324118570035</td>\n",
       "      \n",
       "    </tr>\n",
       "  \n",
       "    <tr>\n",
       "      <td>8</td>\n",
       "      \n",
       "        <td>DecisionTreeLearner</td>\n",
       "      \n",
       "        <td>{\"min_size\"=>100, \"max_depth\"=>50}</td>\n",
       "      \n",
       "        <td>5</td>\n",
       "      \n",
       "        <td>0.7954524902729203</td>\n",
       "      \n",
       "        <td>0.014909288040687911</td>\n",
       "      \n",
       "        <td>0.7112051532135919</td>\n",
       "      \n",
       "        <td>0.01604189606605205</td>\n",
       "      \n",
       "    </tr>\n",
       "  \n",
       "    <tr>\n",
       "      <td>9</td>\n",
       "      \n",
       "        <td>DecisionTreeLearner</td>\n",
       "      \n",
       "        <td>{\"min_size\"=>200, \"max_depth\"=>50}</td>\n",
       "      \n",
       "        <td>5</td>\n",
       "      \n",
       "        <td>0.7769207959173894</td>\n",
       "      \n",
       "        <td>0.012726377745378778</td>\n",
       "      \n",
       "        <td>0.7047543476518368</td>\n",
       "      \n",
       "        <td>0.016109889999225177</td>\n",
       "      \n",
       "    </tr>\n",
       "  \n",
       "    <tr>\n",
       "      <td>10</td>\n",
       "      \n",
       "        <td>DecisionTreeLearner</td>\n",
       "      \n",
       "        <td>{\"min_size\"=>250, \"max_depth\"=>50}</td>\n",
       "      \n",
       "        <td>5</td>\n",
       "      \n",
       "        <td>0.7272222977126208</td>\n",
       "      \n",
       "        <td>0.008161170622703027</td>\n",
       "      \n",
       "        <td>0.7065442054179937</td>\n",
       "      \n",
       "        <td>0.026038778863525496</td>\n",
       "      \n",
       "    </tr>\n",
       "  \n",
       "    <tr>\n",
       "      <td>11</td>\n",
       "      \n",
       "        <td>DecisionTreeLearner</td>\n",
       "      \n",
       "        <td>{\"min_size\"=>500, \"max_depth\"=>50}</td>\n",
       "      \n",
       "        <td>5</td>\n",
       "      \n",
       "        <td>0.7007812582889915</td>\n",
       "      \n",
       "        <td>0.012227224868934931</td>\n",
       "      \n",
       "        <td>0.6968506534488721</td>\n",
       "      \n",
       "        <td>0.04713526976683937</td>\n",
       "      \n",
       "    </tr>\n",
       "  \n",
       "\n",
       "  \n",
       "</tbody>\n",
       "</table>"
      ],
      "text/plain": [
       "#<Daru::DataFrame(12x7)>\n",
       "               learner parameters      folds mean_train stdev_trai mean_test_ stdev_test\n",
       "          0 DecisionTr {\"min_size          5        1.0        0.0 0.65160060 0.01918964\n",
       "          1 DecisionTr {\"min_size          5        1.0        0.0 0.64545389 0.01711775\n",
       "          2 DecisionTr {\"min_size          5 0.99170679 0.00171780 0.66340763 0.02600346\n",
       "          3 DecisionTr {\"min_size          5 0.95783044 0.00592359 0.68021934 0.03286941\n",
       "          4 DecisionTr {\"min_size          5 0.92478157 0.00920237 0.69034474 0.02781201\n",
       "          5 DecisionTr {\"min_size          5 0.90314513 0.00673318 0.69466291 0.01063728\n",
       "          6 DecisionTr {\"min_size          5 0.89010142 0.00847344 0.70350404 0.01716436\n",
       "          7 DecisionTr {\"min_size          5 0.82127904 0.01307999 0.70358131 0.02359032\n",
       "          8 DecisionTr {\"min_size          5 0.79545249 0.01490928 0.71120515 0.01604189\n",
       "          9 DecisionTr {\"min_size          5 0.77692079 0.01272637 0.70475434 0.01610988\n",
       "         10 DecisionTr {\"min_size          5 0.72722229 0.00816117 0.70654420 0.02603877\n",
       "         11 DecisionTr {\"min_size          5 0.70078125 0.01222722 0.69685065 0.04713526"
      ]
     },
     "execution_count": 65,
     "metadata": {},
     "output_type": "execute_result"
    }
   ],
   "source": [
    "def test_0678f4()\n",
    "  german_credit = load_german_credit_dataset()\n",
    "  limit = german_credit[\"data\"].size\n",
    "  min_sizes = [1, 2, 5, 10, 15, 20, 25, 50, 100, 200, 250, 500]\n",
    "  max_depth = 50  \n",
    "  min_sizes.select! {|s| s < limit}\n",
    "\n",
    "  learners = min_sizes.map do |s|\n",
    "    DecisionTreeLearner.new(1, min_size: s, max_depth: max_depth)\n",
    "  end\n",
    "  parameter_search learners, german_credit\n",
    "end\n",
    "test_0678f4()"
   ]
  },
  {
   "cell_type": "code",
   "execution_count": 66,
   "metadata": {
    "deletable": false,
    "editable": false,
    "nbgrader": {
     "cell_type": "code",
     "checksum": "83fa28c5391747106bd1624eddb47568",
     "grade": true,
     "grade_id": "cell-f3ac87ce058925e0",
     "locked": true,
     "points": 1,
     "schema_version": 3,
     "solution": false,
     "task": false
    }
   },
   "outputs": [
    {
     "name": "stdout",
     "output_type": "stream",
     "text": [
      "5-fold CV: RandomForestLearner, parameters: {\"num_trees\"=>11, \"min_size\"=>1, \"max_depth\"=>50}\n",
      "5-fold CV: RandomForestLearner, parameters: {\"num_trees\"=>11, \"min_size\"=>2, \"max_depth\"=>50}\n",
      "5-fold CV: RandomForestLearner, parameters: {\"num_trees\"=>11, \"min_size\"=>5, \"max_depth\"=>50}\n",
      "5-fold CV: RandomForestLearner, parameters: {\"num_trees\"=>11, \"min_size\"=>10, \"max_depth\"=>50}\n",
      "5-fold CV: RandomForestLearner, parameters: {\"num_trees\"=>11, \"min_size\"=>15, \"max_depth\"=>50}\n",
      "5-fold CV: RandomForestLearner, parameters: {\"num_trees\"=>11, \"min_size\"=>20, \"max_depth\"=>50}\n",
      "5-fold CV: RandomForestLearner, parameters: {\"num_trees\"=>11, \"min_size\"=>25, \"max_depth\"=>50}\n",
      "5-fold CV: RandomForestLearner, parameters: {\"num_trees\"=>11, \"min_size\"=>50, \"max_depth\"=>50}\n",
      "5-fold CV: RandomForestLearner, parameters: {\"num_trees\"=>11, \"min_size\"=>100, \"max_depth\"=>50}\n",
      "5-fold CV: RandomForestLearner, parameters: {\"num_trees\"=>11, \"min_size\"=>200, \"max_depth\"=>50}\n",
      "5-fold CV: RandomForestLearner, parameters: {\"num_trees\"=>11, \"min_size\"=>250, \"max_depth\"=>50}\n",
      "5-fold CV: RandomForestLearner, parameters: {\"num_trees\"=>11, \"min_size\"=>500, \"max_depth\"=>50}\n",
      "{\n",
      "  \"RandomForestLearner\": {\n",
      "    \"learner\": \"RandomForestLearner\",\n",
      "    \"parameters\": {\n",
      "      \"num_trees\": 11,\n",
      "      \"min_size\": 200,\n",
      "      \"max_depth\": 50\n",
      "    },\n",
      "    \"folds\": 5,\n",
      "    \"mean_train_metric\": 0.8006474191295838,\n",
      "    \"stdev_train_metric\": 0.006417435439972225,\n",
      "    \"mean_test_metric\": 0.7559961281325124,\n",
      "    \"stdev_test_metric\": 0.007551962111232829\n",
      "  }\n",
      "}\n"
     ]
    },
    {
     "data": {
      "text/html": [
       "<b> Daru::DataFrame(12x7) </b>\n",
       "<table border=\"1\" class=\"dataframe\">\n",
       "  <thead>\n",
       "  \n",
       "    <tr>\n",
       "      <th></th>\n",
       "      \n",
       "        <th>learner</th>\n",
       "      \n",
       "        <th>parameters</th>\n",
       "      \n",
       "        <th>folds</th>\n",
       "      \n",
       "        <th>mean_train_metric</th>\n",
       "      \n",
       "        <th>stdev_train_metric</th>\n",
       "      \n",
       "        <th>mean_test_metric</th>\n",
       "      \n",
       "        <th>stdev_test_metric</th>\n",
       "      \n",
       "    </tr>\n",
       "  \n",
       "</thead>\n",
       "  <tbody>\n",
       "  \n",
       "    <tr>\n",
       "      <td>0</td>\n",
       "      \n",
       "        <td>RandomForestLearner</td>\n",
       "      \n",
       "        <td>{\"num_trees\"=>11, \"min_size\"=>1, \"max_depth\"=>50}</td>\n",
       "      \n",
       "        <td>5</td>\n",
       "      \n",
       "        <td>0.9433715915320612</td>\n",
       "      \n",
       "        <td>0.006533180048217666</td>\n",
       "      \n",
       "        <td>0.6976021250313444</td>\n",
       "      \n",
       "        <td>0.024394464967431646</td>\n",
       "      \n",
       "    </tr>\n",
       "  \n",
       "    <tr>\n",
       "      <td>1</td>\n",
       "      \n",
       "        <td>RandomForestLearner</td>\n",
       "      \n",
       "        <td>{\"num_trees\"=>11, \"min_size\"=>2, \"max_depth\"=>50}</td>\n",
       "      \n",
       "        <td>5</td>\n",
       "      \n",
       "        <td>0.9438138107947645</td>\n",
       "      \n",
       "        <td>0.006918617113953533</td>\n",
       "      \n",
       "        <td>0.6971035902592824</td>\n",
       "      \n",
       "        <td>0.02071717414106228</td>\n",
       "      \n",
       "    </tr>\n",
       "  \n",
       "    <tr>\n",
       "      <td>2</td>\n",
       "      \n",
       "        <td>RandomForestLearner</td>\n",
       "      \n",
       "        <td>{\"num_trees\"=>11, \"min_size\"=>5, \"max_depth\"=>50}</td>\n",
       "      \n",
       "        <td>5</td>\n",
       "      \n",
       "        <td>0.9344985357821514</td>\n",
       "      \n",
       "        <td>0.0070194704241788265</td>\n",
       "      \n",
       "        <td>0.6980830205450256</td>\n",
       "      \n",
       "        <td>0.02437193865912593</td>\n",
       "      \n",
       "    </tr>\n",
       "  \n",
       "    <tr>\n",
       "      <td>3</td>\n",
       "      \n",
       "        <td>RandomForestLearner</td>\n",
       "      \n",
       "        <td>{\"num_trees\"=>11, \"min_size\"=>10, \"max_depth\"=>50}</td>\n",
       "      \n",
       "        <td>5</td>\n",
       "      \n",
       "        <td>0.9183717945414595</td>\n",
       "      \n",
       "        <td>0.008618569518239206</td>\n",
       "      \n",
       "        <td>0.7107811422708211</td>\n",
       "      \n",
       "        <td>0.01833642476446939</td>\n",
       "      \n",
       "    </tr>\n",
       "  \n",
       "    <tr>\n",
       "      <td>4</td>\n",
       "      \n",
       "        <td>RandomForestLearner</td>\n",
       "      \n",
       "        <td>{\"num_trees\"=>11, \"min_size\"=>15, \"max_depth\"=>50}</td>\n",
       "      \n",
       "        <td>5</td>\n",
       "      \n",
       "        <td>0.908521553196698</td>\n",
       "      \n",
       "        <td>0.008820135563858142</td>\n",
       "      \n",
       "        <td>0.7139822552227277</td>\n",
       "      \n",
       "        <td>0.027820610290835726</td>\n",
       "      \n",
       "    </tr>\n",
       "  \n",
       "    <tr>\n",
       "      <td>5</td>\n",
       "      \n",
       "        <td>RandomForestLearner</td>\n",
       "      \n",
       "        <td>{\"num_trees\"=>11, \"min_size\"=>20, \"max_depth\"=>50}</td>\n",
       "      \n",
       "        <td>5</td>\n",
       "      \n",
       "        <td>0.8967379934105558</td>\n",
       "      \n",
       "        <td>0.010389539542732244</td>\n",
       "      \n",
       "        <td>0.7168904816774109</td>\n",
       "      \n",
       "        <td>0.023072017113250853</td>\n",
       "      \n",
       "    </tr>\n",
       "  \n",
       "    <tr>\n",
       "      <td>6</td>\n",
       "      \n",
       "        <td>RandomForestLearner</td>\n",
       "      \n",
       "        <td>{\"num_trees\"=>11, \"min_size\"=>25, \"max_depth\"=>50}</td>\n",
       "      \n",
       "        <td>5</td>\n",
       "      \n",
       "        <td>0.8892297840181689</td>\n",
       "      \n",
       "        <td>0.009162207406350698</td>\n",
       "      \n",
       "        <td>0.7268518942266013</td>\n",
       "      \n",
       "        <td>0.027861110298737675</td>\n",
       "      \n",
       "    </tr>\n",
       "  \n",
       "    <tr>\n",
       "      <td>7</td>\n",
       "      \n",
       "        <td>RandomForestLearner</td>\n",
       "      \n",
       "        <td>{\"num_trees\"=>11, \"min_size\"=>50, \"max_depth\"=>50}</td>\n",
       "      \n",
       "        <td>5</td>\n",
       "      \n",
       "        <td>0.8531862682882319</td>\n",
       "      \n",
       "        <td>0.0037218511366347413</td>\n",
       "      \n",
       "        <td>0.7425323643236931</td>\n",
       "      \n",
       "        <td>0.009877903173570856</td>\n",
       "      \n",
       "    </tr>\n",
       "  \n",
       "    <tr>\n",
       "      <td>8</td>\n",
       "      \n",
       "        <td>RandomForestLearner</td>\n",
       "      \n",
       "        <td>{\"num_trees\"=>11, \"min_size\"=>100, \"max_depth\"=>50}</td>\n",
       "      \n",
       "        <td>5</td>\n",
       "      \n",
       "        <td>0.822898216058182</td>\n",
       "      \n",
       "        <td>0.0037116306389919063</td>\n",
       "      \n",
       "        <td>0.7508894707978606</td>\n",
       "      \n",
       "        <td>0.011038725643712746</td>\n",
       "      \n",
       "    </tr>\n",
       "  \n",
       "    <tr>\n",
       "      <td>9</td>\n",
       "      \n",
       "        <td>RandomForestLearner</td>\n",
       "      \n",
       "        <td>{\"num_trees\"=>11, \"min_size\"=>200, \"max_depth\"=>50}</td>\n",
       "      \n",
       "        <td>5</td>\n",
       "      \n",
       "        <td>0.8006474191295838</td>\n",
       "      \n",
       "        <td>0.006417435439972225</td>\n",
       "      \n",
       "        <td>0.7559961281325124</td>\n",
       "      \n",
       "        <td>0.007551962111232829</td>\n",
       "      \n",
       "    </tr>\n",
       "  \n",
       "    <tr>\n",
       "      <td>10</td>\n",
       "      \n",
       "        <td>RandomForestLearner</td>\n",
       "      \n",
       "        <td>{\"num_trees\"=>11, \"min_size\"=>250, \"max_depth\"=>50}</td>\n",
       "      \n",
       "        <td>5</td>\n",
       "      \n",
       "        <td>0.792225225428125</td>\n",
       "      \n",
       "        <td>0.006186607272989916</td>\n",
       "      \n",
       "        <td>0.7548552775807427</td>\n",
       "      \n",
       "        <td>0.015877436575070483</td>\n",
       "      \n",
       "    </tr>\n",
       "  \n",
       "    <tr>\n",
       "      <td>11</td>\n",
       "      \n",
       "        <td>RandomForestLearner</td>\n",
       "      \n",
       "        <td>{\"num_trees\"=>11, \"min_size\"=>500, \"max_depth\"=>50}</td>\n",
       "      \n",
       "        <td>5</td>\n",
       "      \n",
       "        <td>0.7805800764617832</td>\n",
       "      \n",
       "        <td>0.009381542994457858</td>\n",
       "      \n",
       "        <td>0.7543242304954207</td>\n",
       "      \n",
       "        <td>0.028914791767992488</td>\n",
       "      \n",
       "    </tr>\n",
       "  \n",
       "\n",
       "  \n",
       "</tbody>\n",
       "</table>"
      ],
      "text/plain": [
       "#<Daru::DataFrame(12x7)>\n",
       "               learner parameters      folds mean_train stdev_trai mean_test_ stdev_test\n",
       "          0 RandomFore {\"num_tree          5 0.94337159 0.00653318 0.69760212 0.02439446\n",
       "          1 RandomFore {\"num_tree          5 0.94381381 0.00691861 0.69710359 0.02071717\n",
       "          2 RandomFore {\"num_tree          5 0.93449853 0.00701947 0.69808302 0.02437193\n",
       "          3 RandomFore {\"num_tree          5 0.91837179 0.00861856 0.71078114 0.01833642\n",
       "          4 RandomFore {\"num_tree          5 0.90852155 0.00882013 0.71398225 0.02782061\n",
       "          5 RandomFore {\"num_tree          5 0.89673799 0.01038953 0.71689048 0.02307201\n",
       "          6 RandomFore {\"num_tree          5 0.88922978 0.00916220 0.72685189 0.02786111\n",
       "          7 RandomFore {\"num_tree          5 0.85318626 0.00372185 0.74253236 0.00987790\n",
       "          8 RandomFore {\"num_tree          5 0.82289821 0.00371163 0.75088947 0.01103872\n",
       "          9 RandomFore {\"num_tree          5 0.80064741 0.00641743 0.75599612 0.00755196\n",
       "         10 RandomFore {\"num_tree          5 0.79222522 0.00618660 0.75485527 0.01587743\n",
       "         11 RandomFore {\"num_tree          5 0.78058007 0.00938154 0.75432423 0.02891479"
      ]
     },
     "execution_count": 66,
     "metadata": {},
     "output_type": "execute_result"
    }
   ],
   "source": [
    "def test_f3ac87()\n",
    "  german_credit = load_german_credit_dataset()\n",
    "  limit = german_credit[\"data\"].size\n",
    "  min_sizes = [1, 2, 5, 10, 15, 20, 25, 50, 100, 200, 250, 500]\n",
    "  max_depth = 50  \n",
    "  num_trees = 11\n",
    "  min_sizes.select! {|s| s < limit}\n",
    "\n",
    "  learners = min_sizes.map do |s|\n",
    "      RandomForestLearner.new(1, num_trees: num_trees, min_size: s, max_depth: max_depth)\n",
    "  end\n",
    "  parameter_search learners, german_credit\n",
    "end\n",
    "test_f3ac87()"
   ]
  },
  {
   "cell_type": "markdown",
   "metadata": {
    "deletable": false,
    "editable": false,
    "nbgrader": {
     "cell_type": "markdown",
     "checksum": "36df4050d0780715f83670ddf74b0f54",
     "grade": false,
     "grade_id": "cell-90c1b7efa284e0bf",
     "locked": true,
     "schema_version": 3,
     "solution": false,
     "task": false
    }
   },
   "source": [
    "Next, let's see the effect of increasing the number of trees for the iris dataset"
   ]
  },
  {
   "cell_type": "code",
   "execution_count": 67,
   "metadata": {
    "deletable": false,
    "editable": false,
    "nbgrader": {
     "cell_type": "code",
     "checksum": "16a3180614e876f10cb7f22ee17d4d77",
     "grade": true,
     "grade_id": "cell-10cb9264698c5468",
     "locked": true,
     "points": 1,
     "schema_version": 3,
     "solution": false,
     "task": false
    }
   },
   "outputs": [
    {
     "name": "stdout",
     "output_type": "stream",
     "text": [
      "5-fold CV: RandomForestLearner, parameters: {\"num_trees\"=>1, \"min_size\"=>50, \"max_depth\"=>3}\n",
      "5-fold CV: RandomForestLearner, parameters: {\"num_trees\"=>2, \"min_size\"=>50, \"max_depth\"=>3}\n",
      "5-fold CV: RandomForestLearner, parameters: {\"num_trees\"=>3, \"min_size\"=>50, \"max_depth\"=>3}\n",
      "5-fold CV: RandomForestLearner, parameters: {\"num_trees\"=>5, \"min_size\"=>50, \"max_depth\"=>3}\n",
      "5-fold CV: RandomForestLearner, parameters: {\"num_trees\"=>7, \"min_size\"=>50, \"max_depth\"=>3}\n",
      "5-fold CV: RandomForestLearner, parameters: {\"num_trees\"=>9, \"min_size\"=>50, \"max_depth\"=>3}\n",
      "5-fold CV: RandomForestLearner, parameters: {\"num_trees\"=>11, \"min_size\"=>50, \"max_depth\"=>3}\n",
      "5-fold CV: RandomForestLearner, parameters: {\"num_trees\"=>21, \"min_size\"=>50, \"max_depth\"=>3}\n",
      "5-fold CV: RandomForestLearner, parameters: {\"num_trees\"=>51, \"min_size\"=>50, \"max_depth\"=>3}\n",
      "5-fold CV: RandomForestLearner, parameters: {\"num_trees\"=>101, \"min_size\"=>50, \"max_depth\"=>3}\n",
      "5-fold CV: RandomForestLearner, parameters: {\"num_trees\"=>151, \"min_size\"=>50, \"max_depth\"=>3}\n",
      "5-fold CV: RandomForestLearner, parameters: {\"num_trees\"=>201, \"min_size\"=>50, \"max_depth\"=>3}\n",
      "{\n",
      "  \"RandomForestLearner\": {\n",
      "    \"learner\": \"RandomForestLearner\",\n",
      "    \"parameters\": {\n",
      "      \"num_trees\": 101,\n",
      "      \"min_size\": 50,\n",
      "      \"max_depth\": 3\n",
      "    },\n",
      "    \"folds\": 5,\n",
      "    \"mean_train_metric\": 0.9967164812725807,\n",
      "    \"stdev_train_metric\": 0.0016597217781951956,\n",
      "    \"mean_test_metric\": 0.9950536816125052,\n",
      "    \"stdev_test_metric\": 0.004791949888287986\n",
      "  }\n",
      "}\n"
     ]
    },
    {
     "data": {
      "text/html": [
       "<b> Daru::DataFrame(12x7) </b>\n",
       "<table border=\"1\" class=\"dataframe\">\n",
       "  <thead>\n",
       "  \n",
       "    <tr>\n",
       "      <th></th>\n",
       "      \n",
       "        <th>learner</th>\n",
       "      \n",
       "        <th>parameters</th>\n",
       "      \n",
       "        <th>folds</th>\n",
       "      \n",
       "        <th>mean_train_metric</th>\n",
       "      \n",
       "        <th>stdev_train_metric</th>\n",
       "      \n",
       "        <th>mean_test_metric</th>\n",
       "      \n",
       "        <th>stdev_test_metric</th>\n",
       "      \n",
       "    </tr>\n",
       "  \n",
       "</thead>\n",
       "  <tbody>\n",
       "  \n",
       "    <tr>\n",
       "      <td>0</td>\n",
       "      \n",
       "        <td>RandomForestLearner</td>\n",
       "      \n",
       "        <td>{\"num_trees\"=>1, \"min_size\"=>50, \"max_depth\"=>3}</td>\n",
       "      \n",
       "        <td>5</td>\n",
       "      \n",
       "        <td>0.9508899977474276</td>\n",
       "      \n",
       "        <td>0.025466579382242265</td>\n",
       "      \n",
       "        <td>0.8807260711424798</td>\n",
       "      \n",
       "        <td>0.07227791155402262</td>\n",
       "      \n",
       "    </tr>\n",
       "  \n",
       "    <tr>\n",
       "      <td>1</td>\n",
       "      \n",
       "        <td>RandomForestLearner</td>\n",
       "      \n",
       "        <td>{\"num_trees\"=>2, \"min_size\"=>50, \"max_depth\"=>3}</td>\n",
       "      \n",
       "        <td>5</td>\n",
       "      \n",
       "        <td>0.9795671549567132</td>\n",
       "      \n",
       "        <td>0.0035564916897411203</td>\n",
       "      \n",
       "        <td>0.9399988741908247</td>\n",
       "      \n",
       "        <td>0.045104728954140846</td>\n",
       "      \n",
       "    </tr>\n",
       "  \n",
       "    <tr>\n",
       "      <td>2</td>\n",
       "      \n",
       "        <td>RandomForestLearner</td>\n",
       "      \n",
       "        <td>{\"num_trees\"=>3, \"min_size\"=>50, \"max_depth\"=>3}</td>\n",
       "      \n",
       "        <td>5</td>\n",
       "      \n",
       "        <td>0.9796730796666372</td>\n",
       "      \n",
       "        <td>0.012872718196133656</td>\n",
       "      \n",
       "        <td>0.9453948072051788</td>\n",
       "      \n",
       "        <td>0.05164726111193679</td>\n",
       "      \n",
       "    </tr>\n",
       "  \n",
       "    <tr>\n",
       "      <td>3</td>\n",
       "      \n",
       "        <td>RandomForestLearner</td>\n",
       "      \n",
       "        <td>{\"num_trees\"=>5, \"min_size\"=>50, \"max_depth\"=>3}</td>\n",
       "      \n",
       "        <td>5</td>\n",
       "      \n",
       "        <td>0.9910529192214266</td>\n",
       "      \n",
       "        <td>0.008001159438338649</td>\n",
       "      \n",
       "        <td>0.9834635302777718</td>\n",
       "      \n",
       "        <td>0.017399811212524697</td>\n",
       "      \n",
       "    </tr>\n",
       "  \n",
       "    <tr>\n",
       "      <td>4</td>\n",
       "      \n",
       "        <td>RandomForestLearner</td>\n",
       "      \n",
       "        <td>{\"num_trees\"=>7, \"min_size\"=>50, \"max_depth\"=>3}</td>\n",
       "      \n",
       "        <td>5</td>\n",
       "      \n",
       "        <td>0.9911851811006764</td>\n",
       "      \n",
       "        <td>0.005557217345076221</td>\n",
       "      \n",
       "        <td>0.9875619086795556</td>\n",
       "      \n",
       "        <td>0.014285071965869834</td>\n",
       "      \n",
       "    </tr>\n",
       "  \n",
       "    <tr>\n",
       "      <td>5</td>\n",
       "      \n",
       "        <td>RandomForestLearner</td>\n",
       "      \n",
       "        <td>{\"num_trees\"=>9, \"min_size\"=>50, \"max_depth\"=>3}</td>\n",
       "      \n",
       "        <td>5</td>\n",
       "      \n",
       "        <td>0.9945619304613615</td>\n",
       "      \n",
       "        <td>0.002203274041863197</td>\n",
       "      \n",
       "        <td>0.9884668860551212</td>\n",
       "      \n",
       "        <td>0.013976747722835236</td>\n",
       "      \n",
       "    </tr>\n",
       "  \n",
       "    <tr>\n",
       "      <td>6</td>\n",
       "      \n",
       "        <td>RandomForestLearner</td>\n",
       "      \n",
       "        <td>{\"num_trees\"=>11, \"min_size\"=>50, \"max_depth\"=>3}</td>\n",
       "      \n",
       "        <td>5</td>\n",
       "      \n",
       "        <td>0.9946862916968339</td>\n",
       "      \n",
       "        <td>0.002158615707251241</td>\n",
       "      \n",
       "        <td>0.9884668860551212</td>\n",
       "      \n",
       "        <td>0.013976747722835236</td>\n",
       "      \n",
       "    </tr>\n",
       "  \n",
       "    <tr>\n",
       "      <td>7</td>\n",
       "      \n",
       "        <td>RandomForestLearner</td>\n",
       "      \n",
       "        <td>{\"num_trees\"=>21, \"min_size\"=>50, \"max_depth\"=>3}</td>\n",
       "      \n",
       "        <td>5</td>\n",
       "      \n",
       "        <td>0.9958251362492913</td>\n",
       "      \n",
       "        <td>0.001601850000398694</td>\n",
       "      \n",
       "        <td>0.9916445907034142</td>\n",
       "      \n",
       "        <td>0.009345627427854108</td>\n",
       "      \n",
       "    </tr>\n",
       "  \n",
       "    <tr>\n",
       "      <td>8</td>\n",
       "      \n",
       "        <td>RandomForestLearner</td>\n",
       "      \n",
       "        <td>{\"num_trees\"=>51, \"min_size\"=>50, \"max_depth\"=>3}</td>\n",
       "      \n",
       "        <td>5</td>\n",
       "      \n",
       "        <td>0.9967801980342141</td>\n",
       "      \n",
       "        <td>0.0017083426278939906</td>\n",
       "      \n",
       "        <td>0.9916445907034142</td>\n",
       "      \n",
       "        <td>0.009345627427854114</td>\n",
       "      \n",
       "    </tr>\n",
       "  \n",
       "    <tr>\n",
       "      <td>9</td>\n",
       "      \n",
       "        <td>RandomForestLearner</td>\n",
       "      \n",
       "        <td>{\"num_trees\"=>101, \"min_size\"=>50, \"max_depth\"=>3}</td>\n",
       "      \n",
       "        <td>5</td>\n",
       "      \n",
       "        <td>0.9967164812725807</td>\n",
       "      \n",
       "        <td>0.0016597217781951956</td>\n",
       "      \n",
       "        <td>0.9950536816125052</td>\n",
       "      \n",
       "        <td>0.004791949888287986</td>\n",
       "      \n",
       "    </tr>\n",
       "  \n",
       "    <tr>\n",
       "      <td>10</td>\n",
       "      \n",
       "        <td>RandomForestLearner</td>\n",
       "      \n",
       "        <td>{\"num_trees\"=>151, \"min_size\"=>50, \"max_depth\"=>3}</td>\n",
       "      \n",
       "        <td>5</td>\n",
       "      \n",
       "        <td>0.9966539812725808</td>\n",
       "      \n",
       "        <td>0.001559505135405488</td>\n",
       "      \n",
       "        <td>0.9950536816125052</td>\n",
       "      \n",
       "        <td>0.004791949888287929</td>\n",
       "      \n",
       "    </tr>\n",
       "  \n",
       "    <tr>\n",
       "      <td>11</td>\n",
       "      \n",
       "        <td>RandomForestLearner</td>\n",
       "      \n",
       "        <td>{\"num_trees\"=>201, \"min_size\"=>50, \"max_depth\"=>3}</td>\n",
       "      \n",
       "        <td>5</td>\n",
       "      \n",
       "        <td>0.9967164812725807</td>\n",
       "      \n",
       "        <td>0.0016597217781951956</td>\n",
       "      \n",
       "        <td>0.9950536816125052</td>\n",
       "      \n",
       "        <td>0.004791949888287929</td>\n",
       "      \n",
       "    </tr>\n",
       "  \n",
       "\n",
       "  \n",
       "</tbody>\n",
       "</table>"
      ],
      "text/plain": [
       "#<Daru::DataFrame(12x7)>\n",
       "               learner parameters      folds mean_train stdev_trai mean_test_ stdev_test\n",
       "          0 RandomFore {\"num_tree          5 0.95088999 0.02546657 0.88072607 0.07227791\n",
       "          1 RandomFore {\"num_tree          5 0.97956715 0.00355649 0.93999887 0.04510472\n",
       "          2 RandomFore {\"num_tree          5 0.97967307 0.01287271 0.94539480 0.05164726\n",
       "          3 RandomFore {\"num_tree          5 0.99105291 0.00800115 0.98346353 0.01739981\n",
       "          4 RandomFore {\"num_tree          5 0.99118518 0.00555721 0.98756190 0.01428507\n",
       "          5 RandomFore {\"num_tree          5 0.99456193 0.00220327 0.98846688 0.01397674\n",
       "          6 RandomFore {\"num_tree          5 0.99468629 0.00215861 0.98846688 0.01397674\n",
       "          7 RandomFore {\"num_tree          5 0.99582513 0.00160185 0.99164459 0.00934562\n",
       "          8 RandomFore {\"num_tree          5 0.99678019 0.00170834 0.99164459 0.00934562\n",
       "          9 RandomFore {\"num_tree          5 0.99671648 0.00165972 0.99505368 0.00479194\n",
       "         10 RandomFore {\"num_tree          5 0.99665398 0.00155950 0.99505368 0.00479194\n",
       "         11 RandomFore {\"num_tree          5 0.99671648 0.00165972 0.99505368 0.00479194"
      ]
     },
     "execution_count": 67,
     "metadata": {},
     "output_type": "execute_result"
    }
   ],
   "source": [
    "def test_10cb92()\n",
    "  german_credit = load_iris_dataset()\n",
    "  min_size = 50\n",
    "  max_depth = 3\n",
    "  num_trees = [1,2,3,5,7,9,11, 21, 51, 101, 151, 201]\n",
    "  \n",
    "  learners = num_trees.map do |s|\n",
    "    RandomForestLearner.new(1, num_trees: s, min_size: min_size, max_depth: max_depth)\n",
    "  end\n",
    "  parameter_search learners, german_credit\n",
    "end\n",
    "test_10cb92()"
   ]
  },
  {
   "cell_type": "markdown",
   "metadata": {
    "deletable": false,
    "editable": false,
    "nbgrader": {
     "cell_type": "markdown",
     "checksum": "b894dd7c11f07f93ab66c5beaf093d18",
     "grade": false,
     "grade_id": "cell-fbc22f95d5b0c02b",
     "locked": true,
     "schema_version": 3,
     "solution": false,
     "task": false
    }
   },
   "source": [
    "## Question 7.3 (2 Points)\n",
    "\n",
    "In ```test_6774f4``` above, we test different min sizes for the iris dataset. Considering the results for that test, which of the following are true?\n",
    "\n",
    "**A**. The best performance on the testing set was ```min_size = 150```.\n",
    "\n",
    "**B**. The best performance on the testing set was ```min_size = 1```.\n",
    "\n",
    "**C**. The best performance on the training set was ```min_size = 1```.\n",
    "\n",
    "**D**. The best performance on the testing set was neither 150 nor 1.\n",
    "\n",
    "\n",
    "_(Instructions) In the function below, return an array of the upper-case letters indicating your answer (zero or more). For example, if you think that the answers are \"E\" and \"F\", write the following:_\n",
    "\n",
    "```ruby\n",
    "def answer_fa007f()\n",
    "    %w(E F)\n",
    "end\n",
    "```"
   ]
  },
  {
   "cell_type": "code",
   "execution_count": 68,
   "metadata": {
    "deletable": false,
    "nbgrader": {
     "cell_type": "code",
     "checksum": "485c72623658840f4daee9a8b1e27e62",
     "grade": false,
     "grade_id": "cell-fa007f2f82614037",
     "locked": false,
     "schema_version": 3,
     "solution": true,
     "task": false
    }
   },
   "outputs": [
    {
     "data": {
      "text/plain": [
       ":answer_fa007f"
      ]
     },
     "execution_count": 68,
     "metadata": {},
     "output_type": "execute_result"
    }
   ],
   "source": [
    "def answer_fa007f()\n",
    "  %w(C D)\n",
    "end"
   ]
  },
  {
   "cell_type": "code",
   "execution_count": 69,
   "metadata": {
    "deletable": false,
    "editable": false,
    "nbgrader": {
     "cell_type": "code",
     "checksum": "179dc9c1d5be8c9f8cd069e22c448841",
     "grade": true,
     "grade_id": "cell-3aa414c18c84046f",
     "locked": true,
     "points": 2,
     "schema_version": 3,
     "solution": false,
     "task": false
    }
   },
   "outputs": [],
   "source": [
    "assert_not_nil answer_fa007f()"
   ]
  },
  {
   "cell_type": "markdown",
   "metadata": {
    "deletable": false,
    "editable": false,
    "nbgrader": {
     "cell_type": "markdown",
     "checksum": "2d45b561af8231908fbceaaa7fbf62b8",
     "grade": false,
     "grade_id": "cell-ed826ba8f2a188b2",
     "locked": true,
     "schema_version": 3,
     "solution": false,
     "task": false
    }
   },
   "source": [
    "## Question 7.4 (2 Points)\n",
    "\n",
    "In ```test_0678f4``` and ```test_f3ac87``` above, we test different min sizes for the german credit dataset for a single Decision Tree and a random forest. Considering the results for these tests, which of the following are true?\n",
    "\n",
    "**A**. RandomForest has better average test AUC than a single Decision Tree.\n",
    "\n",
    "**B**. RandomForest has better average train AUC than a single Decision Tree.\n",
    "\n",
    "**C**. RandomForest has lower standard deviation test AUC than a single Decision Tree.\n",
    "\n",
    "**D**. RandomForest has higher standard deviation test AUC than a single Decision Tree.\n",
    "\n",
    "\n",
    "_(Instructions) In the function below, return an array of the upper-case letters indicating your answer (zero or more). For example, if you think that the answers are \"E\" and \"F\", write the following:_\n",
    "\n",
    "```ruby\n",
    "def answer_545512()\n",
    "    %w(E F)\n",
    "end\n",
    "```"
   ]
  },
  {
   "cell_type": "code",
   "execution_count": 70,
   "metadata": {
    "deletable": false,
    "nbgrader": {
     "cell_type": "code",
     "checksum": "5aa40c7b4e040b0b57d64833560fca3a",
     "grade": false,
     "grade_id": "cell-5455122d71951333",
     "locked": false,
     "schema_version": 3,
     "solution": true,
     "task": false
    }
   },
   "outputs": [
    {
     "data": {
      "text/plain": [
       ":answer_545512"
      ]
     },
     "execution_count": 70,
     "metadata": {},
     "output_type": "execute_result"
    }
   ],
   "source": [
    "def answer_545512()\n",
    "  %w(A C)\n",
    "end"
   ]
  },
  {
   "cell_type": "code",
   "execution_count": 71,
   "metadata": {
    "deletable": false,
    "editable": false,
    "nbgrader": {
     "cell_type": "code",
     "checksum": "d385452c0fa43df29e77f72e2d240a2b",
     "grade": true,
     "grade_id": "cell-dc36761f97bbbe5e",
     "locked": true,
     "points": 2,
     "schema_version": 3,
     "solution": false,
     "task": false
    }
   },
   "outputs": [],
   "source": [
    "assert_not_nil answer_545512()"
   ]
  },
  {
   "cell_type": "markdown",
   "metadata": {
    "deletable": false,
    "editable": false,
    "nbgrader": {
     "cell_type": "markdown",
     "checksum": "d2e96159383e2f7a268acd9bcac9d23d",
     "grade": false,
     "grade_id": "cell-82b53b31f6575ba7",
     "locked": true,
     "schema_version": 3,
     "solution": false,
     "task": false
    }
   },
   "source": [
    "## Question 7.5 (2 Points)\n",
    "\n",
    "In ```test_10cb92``` above, we tested different number of trees for a random forest on the iris dataset. Considering the results for these tests, which of the following are true?\n",
    "\n",
    "**A**. Increasing the number of trees makes no difference for the iris dataset in this test.\n",
    "\n",
    "**B**. RandomForest testing AUC usually does not become worse with increasing number of trees.\n",
    "\n",
    "**C**. The average testing AUC is monotonically decreasing as the number of trees increases.\n",
    "\n",
    "**D**. Increasing the number of trees led to overfitting for the iris dataset.\n",
    "\n",
    "\n",
    "_(Instructions) In the function below, return an array of the upper-case letters indicating your answer (zero or more). For example, if you think that the answers is \"Z\", write the following:_\n",
    "\n",
    "```ruby\n",
    "def answer_ce174b()\n",
    "    %w(Z)\n",
    "end\n",
    "```"
   ]
  },
  {
   "cell_type": "code",
   "execution_count": 72,
   "metadata": {
    "deletable": false,
    "nbgrader": {
     "cell_type": "code",
     "checksum": "5e39eec07cd773e1065dd31ea8dbb774",
     "grade": false,
     "grade_id": "cell-ce174b3b886fc74c",
     "locked": false,
     "schema_version": 3,
     "solution": true,
     "task": false
    }
   },
   "outputs": [
    {
     "data": {
      "text/plain": [
       ":answer_ce174b"
      ]
     },
     "execution_count": 72,
     "metadata": {},
     "output_type": "execute_result"
    }
   ],
   "source": [
    "def answer_ce174b()\n",
    "  %w(B)\n",
    "end"
   ]
  },
  {
   "cell_type": "code",
   "execution_count": 73,
   "metadata": {
    "deletable": false,
    "editable": false,
    "nbgrader": {
     "cell_type": "code",
     "checksum": "6a65a8edf22f8510c6da197ad7c3d7bf",
     "grade": true,
     "grade_id": "cell-1146e627e2eac9c9",
     "locked": true,
     "points": 2,
     "schema_version": 3,
     "solution": false,
     "task": false
    }
   },
   "outputs": [
    {
     "ename": "RuntimeError",
     "evalue": "no message received",
     "output_type": "error",
     "traceback": [
      "\u001b[31mRuntimeError\u001b[0m: no message received",
      "/usr/local/rvm/gems/ruby-2.5.1/gems/iruby-0.4.0/lib/iruby/session/mixin.rb:18:in `unserialize'",
      "/usr/local/rvm/gems/ruby-2.5.1/gems/iruby-0.4.0/lib/iruby/session.rb:91:in `recv'",
      "/usr/local/rvm/gems/ruby-2.5.1/gems/iruby-0.4.0/lib/iruby/kernel.rb:43:in `dispatch'",
      "/usr/local/rvm/gems/ruby-2.5.1/gems/iruby-0.4.0/lib/iruby/kernel.rb:38:in `run'",
      "/usr/local/rvm/gems/ruby-2.5.1/gems/iruby-0.4.0/lib/iruby/command.rb:110:in `run_kernel'",
      "/usr/local/rvm/gems/ruby-2.5.1/gems/iruby-0.4.0/lib/iruby/command.rb:40:in `run'",
      "/usr/local/rvm/gems/ruby-2.5.1/gems/iruby-0.4.0/bin/iruby:5:in `<top (required)>'",
      "/usr/local/rvm/gems/ruby-2.5.1/bin/iruby:23:in `load'",
      "/usr/local/rvm/gems/ruby-2.5.1/bin/iruby:23:in `<main>'",
      "/usr/local/rvm/gems/ruby-2.5.1/bin/ruby_executable_hooks:15:in `eval'",
      "/usr/local/rvm/gems/ruby-2.5.1/bin/ruby_executable_hooks:15:in `<main>'"
     ]
    },
    {
     "ename": "Interrupt",
     "evalue": "",
     "output_type": "error",
     "traceback": [
      "\u001b[31mInterrupt\u001b[0m: ",
      "/usr/local/rvm/gems/ruby-2.5.1/gems/iruby-0.4.0/lib/iruby/session_adapter/rbczmq_adapter.rb:13:in `recv_message'",
      "/usr/local/rvm/gems/ruby-2.5.1/gems/iruby-0.4.0/lib/iruby/session_adapter/rbczmq_adapter.rb:13:in `recv'",
      "/usr/local/rvm/gems/ruby-2.5.1/gems/iruby-0.4.0/lib/iruby/session.rb:90:in `recv'",
      "/usr/local/rvm/gems/ruby-2.5.1/gems/iruby-0.4.0/lib/iruby/kernel.rb:43:in `dispatch'",
      "/usr/local/rvm/gems/ruby-2.5.1/gems/iruby-0.4.0/lib/iruby/kernel.rb:38:in `run'",
      "/usr/local/rvm/gems/ruby-2.5.1/gems/iruby-0.4.0/lib/iruby/command.rb:110:in `run_kernel'",
      "/usr/local/rvm/gems/ruby-2.5.1/gems/iruby-0.4.0/lib/iruby/command.rb:40:in `run'",
      "/usr/local/rvm/gems/ruby-2.5.1/gems/iruby-0.4.0/bin/iruby:5:in `<top (required)>'",
      "/usr/local/rvm/gems/ruby-2.5.1/bin/iruby:23:in `load'",
      "/usr/local/rvm/gems/ruby-2.5.1/bin/iruby:23:in `<main>'",
      "/usr/local/rvm/gems/ruby-2.5.1/bin/ruby_executable_hooks:15:in `eval'",
      "/usr/local/rvm/gems/ruby-2.5.1/bin/ruby_executable_hooks:15:in `<main>'"
     ]
    }
   ],
   "source": [
    "assert_not_nil answer_ce174b()"
   ]
  },
  {
   "cell_type": "code",
   "execution_count": null,
   "metadata": {},
   "outputs": [],
   "source": []
  },
  {
   "cell_type": "code",
   "execution_count": null,
   "metadata": {},
   "outputs": [],
   "source": []
  }
 ],
 "metadata": {
  "kernelspec": {
   "display_name": "Ruby 2.5.1",
   "language": "ruby",
   "name": "ruby"
  },
  "language_info": {
   "file_extension": ".rb",
   "mimetype": "application/x-ruby",
   "name": "ruby",
   "version": "2.5.1"
  }
 },
 "nbformat": 4,
 "nbformat_minor": 2
}
